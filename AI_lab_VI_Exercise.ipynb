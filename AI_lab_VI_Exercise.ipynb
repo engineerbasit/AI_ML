{
 "cells": [
  {
   "cell_type": "markdown",
   "metadata": {
    "papermill": {
     "duration": 0.031206,
     "end_time": "2020-11-27T17:32:45.809909",
     "exception": false,
     "start_time": "2020-11-27T17:32:45.778703",
     "status": "completed"
    },
    "tags": []
   },
   "source": [
    "# AI Lab-6\n",
    "## Regression, feature selection and PCA\n",
    "### Author : Abdul Basit"
   ]
  },
  {
   "cell_type": "markdown",
   "metadata": {},
   "source": [
    "#### Lab Tasks"
   ]
  },
  {
   "cell_type": "markdown",
   "metadata": {},
   "source": [
    "> 1. Load and define briefly the diabetes dataset available in sklearn.\n",
    "> 2. Write brief summary about Diabetes Dataset\n",
    "> 3. Print, Check and define keys and shape of diabetes dataset.\n",
    "> 4. Split the dataset into train and test.\n",
    "> 5. Fit the model on test data and compute accuracy using Linear Regression.\n",
    "> 6. Make slots of features on data set and evaluate using regression metrics.\n",
    "> 7. Apply PCA and analyze the results with results without PCA.\n",
    "> 8. Apply permutation importance function and plot feature importances."
   ]
  },
  {
   "cell_type": "code",
   "execution_count": 2,
   "metadata": {
    "execution": {
     "iopub.execute_input": "2020-11-27T17:32:45.880397Z",
     "iopub.status.busy": "2020-11-27T17:32:45.879579Z",
     "iopub.status.idle": "2020-11-27T17:32:46.994778Z",
     "shell.execute_reply": "2020-11-27T17:32:46.995276Z"
    },
    "papermill": {
     "duration": 1.15464,
     "end_time": "2020-11-27T17:32:46.995457",
     "exception": false,
     "start_time": "2020-11-27T17:32:45.840817",
     "status": "completed"
    },
    "tags": []
   },
   "outputs": [],
   "source": [
    "# importing all necessary libraries\n",
    "import pandas as pd\n",
    "from sklearn import datasets\n",
    "import matplotlib.pyplot as plt\n",
    "from sklearn.decomposition import PCA\n",
    "import sklearn as sk"
   ]
  },
  {
   "cell_type": "markdown",
   "metadata": {
    "papermill": {
     "duration": 0.030531,
     "end_time": "2020-11-27T17:32:47.215041",
     "exception": false,
     "start_time": "2020-11-27T17:32:47.184510",
     "status": "completed"
    },
    "tags": []
   },
   "source": [
    "## Brief Description of the diabetes dataset\n",
    "\n",
    "This dataset contains information of diabetes patients information containing different features. We will use this dataset to predict whether a patient has diabetes  or not by training a model using this dataset."
   ]
  },
  {
   "cell_type": "markdown",
   "metadata": {
    "papermill": {
     "duration": 0.030094,
     "end_time": "2020-11-27T17:32:47.056892",
     "exception": false,
     "start_time": "2020-11-27T17:32:47.026798",
     "status": "completed"
    },
    "tags": []
   },
   "source": [
    "## Importing diabetes data set"
   ]
  },
  {
   "cell_type": "code",
   "execution_count": 3,
   "metadata": {
    "_cell_guid": "79c7e3d0-c299-4dcb-8224-4455121ee9b0",
    "_uuid": "d629ff2d2480ee46fbb7e2d37f6b5fab8052498a",
    "execution": {
     "iopub.execute_input": "2020-11-27T17:32:47.122472Z",
     "iopub.status.busy": "2020-11-27T17:32:47.121889Z",
     "iopub.status.idle": "2020-11-27T17:32:47.153030Z",
     "shell.execute_reply": "2020-11-27T17:32:47.152492Z"
    },
    "papermill": {
     "duration": 0.06606,
     "end_time": "2020-11-27T17:32:47.153125",
     "exception": false,
     "start_time": "2020-11-27T17:32:47.087065",
     "status": "completed"
    },
    "tags": []
   },
   "outputs": [],
   "source": [
    "dib = datasets.load_diabetes()"
   ]
  },
  {
   "cell_type": "markdown",
   "metadata": {
    "papermill": {
     "duration": 0.030553,
     "end_time": "2020-11-27T17:32:47.276344",
     "exception": false,
     "start_time": "2020-11-27T17:32:47.245791",
     "status": "completed"
    },
    "tags": []
   },
   "source": [
    "Keys of the dataset"
   ]
  },
  {
   "cell_type": "code",
   "execution_count": 3,
   "metadata": {
    "execution": {
     "iopub.execute_input": "2020-11-27T17:32:47.345132Z",
     "iopub.status.busy": "2020-11-27T17:32:47.344241Z",
     "iopub.status.idle": "2020-11-27T17:32:47.349692Z",
     "shell.execute_reply": "2020-11-27T17:32:47.348792Z"
    },
    "papermill": {
     "duration": 0.04197,
     "end_time": "2020-11-27T17:32:47.349832",
     "exception": false,
     "start_time": "2020-11-27T17:32:47.307862",
     "status": "completed"
    },
    "tags": []
   },
   "outputs": [
    {
     "data": {
      "text/plain": [
       "dict_keys(['data', 'target', 'frame', 'DESCR', 'feature_names', 'data_filename', 'target_filename'])"
      ]
     },
     "execution_count": 3,
     "metadata": {},
     "output_type": "execute_result"
    }
   ],
   "source": [
    "a = dib.keys()\n",
    "a"
   ]
  },
  {
   "cell_type": "code",
   "execution_count": 4,
   "metadata": {
    "execution": {
     "iopub.execute_input": "2020-11-27T17:32:47.463854Z",
     "iopub.status.busy": "2020-11-27T17:32:47.462716Z",
     "iopub.status.idle": "2020-11-27T17:32:47.468022Z",
     "shell.execute_reply": "2020-11-27T17:32:47.466947Z"
    },
    "papermill": {
     "duration": 0.067487,
     "end_time": "2020-11-27T17:32:47.468178",
     "exception": false,
     "start_time": "2020-11-27T17:32:47.400691",
     "status": "completed"
    },
    "tags": []
   },
   "outputs": [],
   "source": [
    "d_data = dib.data\n",
    "# storing data in a variable\n"
   ]
  },
  {
   "cell_type": "code",
   "execution_count": 5,
   "metadata": {
    "execution": {
     "iopub.execute_input": "2020-11-27T17:32:47.590132Z",
     "iopub.status.busy": "2020-11-27T17:32:47.589246Z",
     "iopub.status.idle": "2020-11-27T17:32:47.594030Z",
     "shell.execute_reply": "2020-11-27T17:32:47.593414Z"
    },
    "papermill": {
     "duration": 0.068786,
     "end_time": "2020-11-27T17:32:47.594140",
     "exception": false,
     "start_time": "2020-11-27T17:32:47.525354",
     "status": "completed"
    },
    "tags": []
   },
   "outputs": [
    {
     "data": {
      "text/plain": [
       "(442, 10)"
      ]
     },
     "execution_count": 5,
     "metadata": {},
     "output_type": "execute_result"
    }
   ],
   "source": [
    "dib.data.shape"
   ]
  },
  {
   "cell_type": "code",
   "execution_count": 6,
   "metadata": {
    "execution": {
     "iopub.execute_input": "2020-11-27T17:32:47.673504Z",
     "iopub.status.busy": "2020-11-27T17:32:47.672855Z",
     "iopub.status.idle": "2020-11-27T17:32:47.681338Z",
     "shell.execute_reply": "2020-11-27T17:32:47.680582Z"
    },
    "papermill": {
     "duration": 0.054418,
     "end_time": "2020-11-27T17:32:47.681491",
     "exception": false,
     "start_time": "2020-11-27T17:32:47.627073",
     "status": "completed"
    },
    "tags": []
   },
   "outputs": [
    {
     "name": "stdout",
     "output_type": "stream",
     "text": [
      "[[ 0.03807591  0.05068012  0.06169621 ... -0.00259226  0.01990842\n",
      "  -0.01764613]\n",
      " [-0.00188202 -0.04464164 -0.05147406 ... -0.03949338 -0.06832974\n",
      "  -0.09220405]\n",
      " [ 0.08529891  0.05068012  0.04445121 ... -0.00259226  0.00286377\n",
      "  -0.02593034]\n",
      " ...\n",
      " [ 0.04170844  0.05068012 -0.01590626 ... -0.01107952 -0.04687948\n",
      "   0.01549073]\n",
      " [-0.04547248 -0.04464164  0.03906215 ...  0.02655962  0.04452837\n",
      "  -0.02593034]\n",
      " [-0.04547248 -0.04464164 -0.0730303  ... -0.03949338 -0.00421986\n",
      "   0.00306441]]\n",
      "\n",
      "\n",
      "[151.  75. 141. 206. 135.  97. 138.  63. 110. 310. 101.  69. 179. 185.\n",
      " 118. 171. 166. 144.  97. 168.  68.  49.  68. 245. 184. 202. 137.  85.\n",
      " 131. 283. 129.  59. 341.  87.  65. 102. 265. 276. 252.  90. 100.  55.\n",
      "  61.  92. 259.  53. 190. 142.  75. 142. 155. 225.  59. 104. 182. 128.\n",
      "  52.  37. 170. 170.  61. 144.  52. 128.  71. 163. 150.  97. 160. 178.\n",
      "  48. 270. 202. 111.  85.  42. 170. 200. 252. 113. 143.  51.  52. 210.\n",
      "  65. 141.  55. 134.  42. 111.  98. 164.  48.  96.  90. 162. 150. 279.\n",
      "  92.  83. 128. 102. 302. 198.  95.  53. 134. 144. 232.  81. 104.  59.\n",
      " 246. 297. 258. 229. 275. 281. 179. 200. 200. 173. 180.  84. 121. 161.\n",
      "  99. 109. 115. 268. 274. 158. 107.  83. 103. 272.  85. 280. 336. 281.\n",
      " 118. 317. 235.  60. 174. 259. 178. 128.  96. 126. 288.  88. 292.  71.\n",
      " 197. 186.  25.  84.  96. 195.  53. 217. 172. 131. 214.  59.  70. 220.\n",
      " 268. 152.  47.  74. 295. 101. 151. 127. 237. 225.  81. 151. 107.  64.\n",
      " 138. 185. 265. 101. 137. 143. 141.  79. 292. 178.  91. 116.  86. 122.\n",
      "  72. 129. 142.  90. 158.  39. 196. 222. 277.  99. 196. 202. 155.  77.\n",
      " 191.  70.  73.  49.  65. 263. 248. 296. 214. 185.  78.  93. 252. 150.\n",
      "  77. 208.  77. 108. 160.  53. 220. 154. 259.  90. 246. 124.  67.  72.\n",
      " 257. 262. 275. 177.  71.  47. 187. 125.  78.  51. 258. 215. 303. 243.\n",
      "  91. 150. 310. 153. 346.  63.  89.  50.  39. 103. 308. 116. 145.  74.\n",
      "  45. 115. 264.  87. 202. 127. 182. 241.  66.  94. 283.  64. 102. 200.\n",
      " 265.  94. 230. 181. 156. 233.  60. 219.  80.  68. 332. 248.  84. 200.\n",
      "  55.  85.  89.  31. 129.  83. 275.  65. 198. 236. 253. 124.  44. 172.\n",
      " 114. 142. 109. 180. 144. 163. 147.  97. 220. 190. 109. 191. 122. 230.\n",
      " 242. 248. 249. 192. 131. 237.  78. 135. 244. 199. 270. 164.  72.  96.\n",
      " 306.  91. 214.  95. 216. 263. 178. 113. 200. 139. 139.  88. 148.  88.\n",
      " 243.  71.  77. 109. 272.  60.  54. 221.  90. 311. 281. 182. 321.  58.\n",
      " 262. 206. 233. 242. 123. 167.  63. 197.  71. 168. 140. 217. 121. 235.\n",
      " 245.  40.  52. 104. 132.  88.  69. 219.  72. 201. 110.  51. 277.  63.\n",
      " 118.  69. 273. 258.  43. 198. 242. 232. 175.  93. 168. 275. 293. 281.\n",
      "  72. 140. 189. 181. 209. 136. 261. 113. 131. 174. 257.  55.  84.  42.\n",
      " 146. 212. 233.  91. 111. 152. 120.  67. 310.  94. 183.  66. 173.  72.\n",
      "  49.  64.  48. 178. 104. 132. 220.  57.]\n",
      "\n",
      "\n",
      "None\n",
      "\n",
      "\n",
      ".. _diabetes_dataset:\n",
      "\n",
      "Diabetes dataset\n",
      "----------------\n",
      "\n",
      "Ten baseline variables, age, sex, body mass index, average blood\n",
      "pressure, and six blood serum measurements were obtained for each of n =\n",
      "442 diabetes patients, as well as the response of interest, a\n",
      "quantitative measure of disease progression one year after baseline.\n",
      "\n",
      "**Data Set Characteristics:**\n",
      "\n",
      "  :Number of Instances: 442\n",
      "\n",
      "  :Number of Attributes: First 10 columns are numeric predictive values\n",
      "\n",
      "  :Target: Column 11 is a quantitative measure of disease progression one year after baseline\n",
      "\n",
      "  :Attribute Information:\n",
      "      - age     age in years\n",
      "      - sex\n",
      "      - bmi     body mass index\n",
      "      - bp      average blood pressure\n",
      "      - s1      tc, T-Cells (a type of white blood cells)\n",
      "      - s2      ldl, low-density lipoproteins\n",
      "      - s3      hdl, high-density lipoproteins\n",
      "      - s4      tch, thyroid stimulating hormone\n",
      "      - s5      ltg, lamotrigine\n",
      "      - s6      glu, blood sugar level\n",
      "\n",
      "Note: Each of these 10 feature variables have been mean centered and scaled by the standard deviation times `n_samples` (i.e. the sum of squares of each column totals 1).\n",
      "\n",
      "Source URL:\n",
      "https://www4.stat.ncsu.edu/~boos/var.select/diabetes.html\n",
      "\n",
      "For more information see:\n",
      "Bradley Efron, Trevor Hastie, Iain Johnstone and Robert Tibshirani (2004) \"Least Angle Regression,\" Annals of Statistics (with discussion), 407-499.\n",
      "(https://web.stanford.edu/~hastie/Papers/LARS/LeastAngle_2002.pdf)\n",
      "\n",
      "\n",
      "['age', 'sex', 'bmi', 'bp', 's1', 's2', 's3', 's4', 's5', 's6']\n",
      "\n",
      "\n",
      "/opt/conda/lib/python3.7/site-packages/sklearn/datasets/data/diabetes_data.csv.gz\n",
      "\n",
      "\n",
      "/opt/conda/lib/python3.7/site-packages/sklearn/datasets/data/diabetes_target.csv.gz\n",
      "\n",
      "\n"
     ]
    }
   ],
   "source": [
    "# printing all the keys availible in the dataset\n",
    "for i in a:\n",
    "    print (dib[i])\n",
    "    print('\\n')"
   ]
  },
  {
   "cell_type": "markdown",
   "metadata": {
    "papermill": {
     "duration": 0.03366,
     "end_time": "2020-11-27T17:32:47.757903",
     "exception": false,
     "start_time": "2020-11-27T17:32:47.724243",
     "status": "completed"
    },
    "tags": []
   },
   "source": [
    "# Separating the features and labels"
   ]
  },
  {
   "cell_type": "code",
   "execution_count": 7,
   "metadata": {
    "execution": {
     "iopub.execute_input": "2020-11-27T17:32:47.830064Z",
     "iopub.status.busy": "2020-11-27T17:32:47.829141Z",
     "iopub.status.idle": "2020-11-27T17:32:47.834482Z",
     "shell.execute_reply": "2020-11-27T17:32:47.833672Z"
    },
    "papermill": {
     "duration": 0.044467,
     "end_time": "2020-11-27T17:32:47.834651",
     "exception": false,
     "start_time": "2020-11-27T17:32:47.790184",
     "status": "completed"
    },
    "tags": []
   },
   "outputs": [
    {
     "data": {
      "text/plain": [
       "((442, 10), (442,))"
      ]
     },
     "execution_count": 7,
     "metadata": {},
     "output_type": "execute_result"
    }
   ],
   "source": [
    "features = dib.data\n",
    "labels = dib.target\n",
    "features.shape, labels.shape"
   ]
  },
  {
   "cell_type": "markdown",
   "metadata": {
    "papermill": {
     "duration": 0.050328,
     "end_time": "2020-11-27T17:32:47.935585",
     "exception": false,
     "start_time": "2020-11-27T17:32:47.885257",
     "status": "completed"
    },
    "tags": []
   },
   "source": [
    "## Converting data from arrays to give it a better look:\n"
   ]
  },
  {
   "cell_type": "code",
   "execution_count": 8,
   "metadata": {
    "execution": {
     "iopub.execute_input": "2020-11-27T17:32:48.054101Z",
     "iopub.status.busy": "2020-11-27T17:32:48.045432Z",
     "iopub.status.idle": "2020-11-27T17:32:48.070451Z",
     "shell.execute_reply": "2020-11-27T17:32:48.069810Z"
    },
    "papermill": {
     "duration": 0.08417,
     "end_time": "2020-11-27T17:32:48.070608",
     "exception": false,
     "start_time": "2020-11-27T17:32:47.986438",
     "status": "completed"
    },
    "tags": []
   },
   "outputs": [
    {
     "data": {
      "text/html": [
       "<div>\n",
       "<style scoped>\n",
       "    .dataframe tbody tr th:only-of-type {\n",
       "        vertical-align: middle;\n",
       "    }\n",
       "\n",
       "    .dataframe tbody tr th {\n",
       "        vertical-align: top;\n",
       "    }\n",
       "\n",
       "    .dataframe thead th {\n",
       "        text-align: right;\n",
       "    }\n",
       "</style>\n",
       "<table border=\"1\" class=\"dataframe\">\n",
       "  <thead>\n",
       "    <tr style=\"text-align: right;\">\n",
       "      <th></th>\n",
       "      <th>age</th>\n",
       "      <th>sex</th>\n",
       "      <th>bmi</th>\n",
       "      <th>bp</th>\n",
       "      <th>s1</th>\n",
       "      <th>s2</th>\n",
       "      <th>s3</th>\n",
       "      <th>s4</th>\n",
       "      <th>s5</th>\n",
       "      <th>s6</th>\n",
       "      <th>Values</th>\n",
       "    </tr>\n",
       "  </thead>\n",
       "  <tbody>\n",
       "    <tr>\n",
       "      <th>0</th>\n",
       "      <td>0.038076</td>\n",
       "      <td>0.050680</td>\n",
       "      <td>0.061696</td>\n",
       "      <td>0.021872</td>\n",
       "      <td>-0.044223</td>\n",
       "      <td>-0.034821</td>\n",
       "      <td>-0.043401</td>\n",
       "      <td>-0.002592</td>\n",
       "      <td>0.019908</td>\n",
       "      <td>-0.017646</td>\n",
       "      <td>151.0</td>\n",
       "    </tr>\n",
       "    <tr>\n",
       "      <th>1</th>\n",
       "      <td>-0.001882</td>\n",
       "      <td>-0.044642</td>\n",
       "      <td>-0.051474</td>\n",
       "      <td>-0.026328</td>\n",
       "      <td>-0.008449</td>\n",
       "      <td>-0.019163</td>\n",
       "      <td>0.074412</td>\n",
       "      <td>-0.039493</td>\n",
       "      <td>-0.068330</td>\n",
       "      <td>-0.092204</td>\n",
       "      <td>75.0</td>\n",
       "    </tr>\n",
       "    <tr>\n",
       "      <th>2</th>\n",
       "      <td>0.085299</td>\n",
       "      <td>0.050680</td>\n",
       "      <td>0.044451</td>\n",
       "      <td>-0.005671</td>\n",
       "      <td>-0.045599</td>\n",
       "      <td>-0.034194</td>\n",
       "      <td>-0.032356</td>\n",
       "      <td>-0.002592</td>\n",
       "      <td>0.002864</td>\n",
       "      <td>-0.025930</td>\n",
       "      <td>141.0</td>\n",
       "    </tr>\n",
       "    <tr>\n",
       "      <th>3</th>\n",
       "      <td>-0.089063</td>\n",
       "      <td>-0.044642</td>\n",
       "      <td>-0.011595</td>\n",
       "      <td>-0.036656</td>\n",
       "      <td>0.012191</td>\n",
       "      <td>0.024991</td>\n",
       "      <td>-0.036038</td>\n",
       "      <td>0.034309</td>\n",
       "      <td>0.022692</td>\n",
       "      <td>-0.009362</td>\n",
       "      <td>206.0</td>\n",
       "    </tr>\n",
       "    <tr>\n",
       "      <th>4</th>\n",
       "      <td>0.005383</td>\n",
       "      <td>-0.044642</td>\n",
       "      <td>-0.036385</td>\n",
       "      <td>0.021872</td>\n",
       "      <td>0.003935</td>\n",
       "      <td>0.015596</td>\n",
       "      <td>0.008142</td>\n",
       "      <td>-0.002592</td>\n",
       "      <td>-0.031991</td>\n",
       "      <td>-0.046641</td>\n",
       "      <td>135.0</td>\n",
       "    </tr>\n",
       "  </tbody>\n",
       "</table>\n",
       "</div>"
      ],
      "text/plain": [
       "        age       sex       bmi        bp        s1        s2        s3  \\\n",
       "0  0.038076  0.050680  0.061696  0.021872 -0.044223 -0.034821 -0.043401   \n",
       "1 -0.001882 -0.044642 -0.051474 -0.026328 -0.008449 -0.019163  0.074412   \n",
       "2  0.085299  0.050680  0.044451 -0.005671 -0.045599 -0.034194 -0.032356   \n",
       "3 -0.089063 -0.044642 -0.011595 -0.036656  0.012191  0.024991 -0.036038   \n",
       "4  0.005383 -0.044642 -0.036385  0.021872  0.003935  0.015596  0.008142   \n",
       "\n",
       "         s4        s5        s6  Values  \n",
       "0 -0.002592  0.019908 -0.017646   151.0  \n",
       "1 -0.039493 -0.068330 -0.092204    75.0  \n",
       "2 -0.002592  0.002864 -0.025930   141.0  \n",
       "3  0.034309  0.022692 -0.009362   206.0  \n",
       "4 -0.002592 -0.031991 -0.046641   135.0  "
      ]
     },
     "execution_count": 8,
     "metadata": {},
     "output_type": "execute_result"
    }
   ],
   "source": [
    "df_dib = pd.DataFrame(features, columns = dib.feature_names)\n",
    "df_dib['Values'] = dib.target\n",
    "df_dib.head()"
   ]
  },
  {
   "cell_type": "code",
   "execution_count": 9,
   "metadata": {
    "execution": {
     "iopub.execute_input": "2020-11-27T17:32:48.188230Z",
     "iopub.status.busy": "2020-11-27T17:32:48.187075Z",
     "iopub.status.idle": "2020-11-27T17:32:48.195451Z",
     "shell.execute_reply": "2020-11-27T17:32:48.195982Z"
    },
    "papermill": {
     "duration": 0.076967,
     "end_time": "2020-11-27T17:32:48.196120",
     "exception": false,
     "start_time": "2020-11-27T17:32:48.119153",
     "status": "completed"
    },
    "tags": []
   },
   "outputs": [
    {
     "data": {
      "text/plain": [
       "(          age       sex       bmi        bp        s1        s2        s3  \\\n",
       " 0    0.038076  0.050680  0.061696  0.021872 -0.044223 -0.034821 -0.043401   \n",
       " 1   -0.001882 -0.044642 -0.051474 -0.026328 -0.008449 -0.019163  0.074412   \n",
       " 2    0.085299  0.050680  0.044451 -0.005671 -0.045599 -0.034194 -0.032356   \n",
       " 3   -0.089063 -0.044642 -0.011595 -0.036656  0.012191  0.024991 -0.036038   \n",
       " 4    0.005383 -0.044642 -0.036385  0.021872  0.003935  0.015596  0.008142   \n",
       " ..        ...       ...       ...       ...       ...       ...       ...   \n",
       " 437  0.041708  0.050680  0.019662  0.059744 -0.005697 -0.002566 -0.028674   \n",
       " 438 -0.005515  0.050680 -0.015906 -0.067642  0.049341  0.079165 -0.028674   \n",
       " 439  0.041708  0.050680 -0.015906  0.017282 -0.037344 -0.013840 -0.024993   \n",
       " 440 -0.045472 -0.044642  0.039062  0.001215  0.016318  0.015283 -0.028674   \n",
       " 441 -0.045472 -0.044642 -0.073030 -0.081414  0.083740  0.027809  0.173816   \n",
       " \n",
       "            s4        s5        s6  \n",
       " 0   -0.002592  0.019908 -0.017646  \n",
       " 1   -0.039493 -0.068330 -0.092204  \n",
       " 2   -0.002592  0.002864 -0.025930  \n",
       " 3    0.034309  0.022692 -0.009362  \n",
       " 4   -0.002592 -0.031991 -0.046641  \n",
       " ..        ...       ...       ...  \n",
       " 437 -0.002592  0.031193  0.007207  \n",
       " 438  0.034309 -0.018118  0.044485  \n",
       " 439 -0.011080 -0.046879  0.015491  \n",
       " 440  0.026560  0.044528 -0.025930  \n",
       " 441 -0.039493 -0.004220  0.003064  \n",
       " \n",
       " [442 rows x 10 columns],\n",
       " 0      151.0\n",
       " 1       75.0\n",
       " 2      141.0\n",
       " 3      206.0\n",
       " 4      135.0\n",
       "        ...  \n",
       " 437    178.0\n",
       " 438    104.0\n",
       " 439    132.0\n",
       " 440    220.0\n",
       " 441     57.0\n",
       " Name: Values, Length: 442, dtype: float64)"
      ]
     },
     "execution_count": 9,
     "metadata": {},
     "output_type": "execute_result"
    }
   ],
   "source": [
    "# X is features and Y is labels\n",
    "X = df_dib.loc[:,df_dib.columns!='Values']\n",
    "Y = df_dib.Values\n",
    "\n",
    "X,Y"
   ]
  },
  {
   "cell_type": "markdown",
   "metadata": {
    "papermill": {
     "duration": 0.034028,
     "end_time": "2020-11-27T17:32:48.265238",
     "exception": false,
     "start_time": "2020-11-27T17:32:48.231210",
     "status": "completed"
    },
    "tags": []
   },
   "source": [
    "## Spliting and data for taining the model"
   ]
  },
  {
   "cell_type": "code",
   "execution_count": 10,
   "metadata": {
    "execution": {
     "iopub.execute_input": "2020-11-27T17:32:48.346957Z",
     "iopub.status.busy": "2020-11-27T17:32:48.346079Z",
     "iopub.status.idle": "2020-11-27T17:32:48.350087Z",
     "shell.execute_reply": "2020-11-27T17:32:48.350602Z"
    },
    "papermill": {
     "duration": 0.050777,
     "end_time": "2020-11-27T17:32:48.350749",
     "exception": false,
     "start_time": "2020-11-27T17:32:48.299972",
     "status": "completed"
    },
    "tags": []
   },
   "outputs": [
    {
     "data": {
      "text/plain": [
       "((331, 10), (111,), (111, 10), (111,))"
      ]
     },
     "execution_count": 10,
     "metadata": {},
     "output_type": "execute_result"
    }
   ],
   "source": [
    "from sklearn.model_selection import train_test_split\n",
    "Xtrain, Xtest, Ytrain, Ytest = train_test_split(X,Y,test_size = 0.25 , shuffle = True)\n",
    "Xtrain.shape, Ytest.shape, Xtest.shape, Ytest.shape"
   ]
  },
  {
   "cell_type": "markdown",
   "metadata": {
    "papermill": {
     "duration": 0.037151,
     "end_time": "2020-11-27T17:32:48.422528",
     "exception": false,
     "start_time": "2020-11-27T17:32:48.385377",
     "status": "completed"
    },
    "tags": []
   },
   "source": [
    "# Fitting the model using linear regression "
   ]
  },
  {
   "cell_type": "code",
   "execution_count": 11,
   "metadata": {
    "execution": {
     "iopub.execute_input": "2020-11-27T17:32:48.503706Z",
     "iopub.status.busy": "2020-11-27T17:32:48.503077Z",
     "iopub.status.idle": "2020-11-27T17:32:48.506111Z",
     "shell.execute_reply": "2020-11-27T17:32:48.505480Z"
    },
    "papermill": {
     "duration": 0.04347,
     "end_time": "2020-11-27T17:32:48.506210",
     "exception": false,
     "start_time": "2020-11-27T17:32:48.462740",
     "status": "completed"
    },
    "tags": []
   },
   "outputs": [],
   "source": [
    "from sklearn.linear_model import LinearRegression\n",
    "LinReg = LinearRegression()"
   ]
  },
  {
   "cell_type": "code",
   "execution_count": 12,
   "metadata": {
    "execution": {
     "iopub.execute_input": "2020-11-27T17:32:48.585324Z",
     "iopub.status.busy": "2020-11-27T17:32:48.584659Z",
     "iopub.status.idle": "2020-11-27T17:32:48.666528Z",
     "shell.execute_reply": "2020-11-27T17:32:48.667028Z"
    },
    "papermill": {
     "duration": 0.125293,
     "end_time": "2020-11-27T17:32:48.667165",
     "exception": false,
     "start_time": "2020-11-27T17:32:48.541872",
     "status": "completed"
    },
    "tags": []
   },
   "outputs": [
    {
     "data": {
      "text/plain": [
       "LinearRegression()"
      ]
     },
     "execution_count": 12,
     "metadata": {},
     "output_type": "execute_result"
    }
   ],
   "source": [
    "LinReg.fit(Xtrain,Ytrain)"
   ]
  },
  {
   "cell_type": "code",
   "execution_count": 13,
   "metadata": {
    "execution": {
     "iopub.execute_input": "2020-11-27T17:32:48.747951Z",
     "iopub.status.busy": "2020-11-27T17:32:48.747262Z",
     "iopub.status.idle": "2020-11-27T17:32:48.752306Z",
     "shell.execute_reply": "2020-11-27T17:32:48.751774Z"
    },
    "papermill": {
     "duration": 0.050251,
     "end_time": "2020-11-27T17:32:48.752407",
     "exception": false,
     "start_time": "2020-11-27T17:32:48.702156",
     "status": "completed"
    },
    "tags": []
   },
   "outputs": [
    {
     "data": {
      "text/plain": [
       "0.5692318246192714"
      ]
     },
     "execution_count": 13,
     "metadata": {},
     "output_type": "execute_result"
    }
   ],
   "source": [
    "Acc = LinReg.score(Xtest,Ytest)\n",
    "Acc"
   ]
  },
  {
   "cell_type": "markdown",
   "metadata": {
    "papermill": {
     "duration": 0.035034,
     "end_time": "2020-11-27T17:32:48.822980",
     "exception": false,
     "start_time": "2020-11-27T17:32:48.787946",
     "status": "completed"
    },
    "tags": []
   },
   "source": [
    "# Selecting a feature from the dataset:"
   ]
  },
  {
   "cell_type": "code",
   "execution_count": 14,
   "metadata": {
    "execution": {
     "iopub.execute_input": "2020-11-27T17:32:48.904400Z",
     "iopub.status.busy": "2020-11-27T17:32:48.903778Z",
     "iopub.status.idle": "2020-11-27T17:32:48.906974Z",
     "shell.execute_reply": "2020-11-27T17:32:48.906440Z"
    },
    "papermill": {
     "duration": 0.048595,
     "end_time": "2020-11-27T17:32:48.907081",
     "exception": false,
     "start_time": "2020-11-27T17:32:48.858486",
     "status": "completed"
    },
    "tags": []
   },
   "outputs": [],
   "source": [
    "dXtest = pd.DataFrame(Xtest,columns = dib.feature_names)\n",
    "dXtrain = pd.DataFrame(Xtrain, columns = dib.feature_names)\n",
    "dXtest = dXtest[['age']]\n",
    "dXtrain = dXtrain[['sex']]"
   ]
  },
  {
   "cell_type": "code",
   "execution_count": 15,
   "metadata": {
    "execution": {
     "iopub.execute_input": "2020-11-27T17:32:48.992661Z",
     "iopub.status.busy": "2020-11-27T17:32:48.992028Z",
     "iopub.status.idle": "2020-11-27T17:32:49.196761Z",
     "shell.execute_reply": "2020-11-27T17:32:49.197248Z"
    },
    "papermill": {
     "duration": 0.25422,
     "end_time": "2020-11-27T17:32:49.197406",
     "exception": false,
     "start_time": "2020-11-27T17:32:48.943186",
     "status": "completed"
    },
    "tags": []
   },
   "outputs": [
    {
     "data": {
      "text/plain": [
       "<matplotlib.legend.Legend at 0x7fa8691f1d90>"
      ]
     },
     "execution_count": 15,
     "metadata": {},
     "output_type": "execute_result"
    },
    {
     "data": {
      "image/png": "[encoded data removed]",
      "text/plain": [
       "<Figure size 432x288 with 1 Axes>"
      ]
     },
     "metadata": {
      "needs_background": "light"
     },
     "output_type": "display_data"
    }
   ],
   "source": [
    "LinReg.fit(dXtrain,Ytrain)\n",
    "\n",
    "plt.xlabel('Features Value')\n",
    "plt.ylabel('Price of House')\n",
    "plt.title('Linear Regression Visulization on Single Feature')\n",
    "plt.scatter(dXtest, Ytest, color = 'black', label = 'Origional Data Distribution')\n",
    "plt.plot(dXtest, LinReg.predict(dXtest),color= 'blue',linewidth = 3, label = 'Linear Regression Line trying to fit on data')\n",
    "plt.legend(loc = 'upper right')"
   ]
  },
  {
   "cell_type": "markdown",
   "metadata": {
    "papermill": {
     "duration": 0.036092,
     "end_time": "2020-11-27T17:32:49.270751",
     "exception": false,
     "start_time": "2020-11-27T17:32:49.234659",
     "status": "completed"
    },
    "tags": []
   },
   "source": [
    "##  Making slots of features on data set and evaluating slots using regression metrics"
   ]
  },
  {
   "cell_type": "code",
   "execution_count": 16,
   "metadata": {
    "execution": {
     "iopub.execute_input": "2020-11-27T17:32:49.358230Z",
     "iopub.status.busy": "2020-11-27T17:32:49.354450Z",
     "iopub.status.idle": "2020-11-27T17:32:49.361436Z",
     "shell.execute_reply": "2020-11-27T17:32:49.360935Z"
    },
    "papermill": {
     "duration": 0.05438,
     "end_time": "2020-11-27T17:32:49.361546",
     "exception": false,
     "start_time": "2020-11-27T17:32:49.307166",
     "status": "completed"
    },
    "tags": []
   },
   "outputs": [],
   "source": [
    "s1xtr = Xtrain[['age','sex','bmi']]\n",
    "s2xtr = Xtrain[['s1','s2','s3']]\n",
    "s3xtr = Xtrain[['s3','s4','s6']]\n",
    "s4xtr = Xtrain[['bp','s5','s6','age']]\n",
    "\n",
    "s1xts = Xtest[['age','sex','bmi']]\n",
    "s2xts = Xtest[['s1','s2','s3']]\n",
    "s3xts = Xtest[['s3','s4','s6']]\n",
    "s4xts = Xtest[['bp','s5','s6','age']]\n"
   ]
  },
  {
   "cell_type": "markdown",
   "metadata": {
    "papermill": {
     "duration": 0.039456,
     "end_time": "2020-11-27T17:32:49.437641",
     "exception": false,
     "start_time": "2020-11-27T17:32:49.398185",
     "status": "completed"
    },
    "tags": []
   },
   "source": [
    "# Fitting and evaluating on all slot:\n"
   ]
  },
  {
   "cell_type": "code",
   "execution_count": 17,
   "metadata": {
    "execution": {
     "iopub.execute_input": "2020-11-27T17:32:49.523005Z",
     "iopub.status.busy": "2020-11-27T17:32:49.522061Z",
     "iopub.status.idle": "2020-11-27T17:32:49.525466Z",
     "shell.execute_reply": "2020-11-27T17:32:49.526255Z"
    },
    "papermill": {
     "duration": 0.051164,
     "end_time": "2020-11-27T17:32:49.526409",
     "exception": false,
     "start_time": "2020-11-27T17:32:49.475245",
     "status": "completed"
    },
    "tags": []
   },
   "outputs": [
    {
     "data": {
      "text/plain": [
       "0.3967001216378194"
      ]
     },
     "execution_count": 17,
     "metadata": {},
     "output_type": "execute_result"
    }
   ],
   "source": [
    "LinReg.fit(s1xtr,Ytrain)\n",
    "LinReg.score(s1xts,Ytest)"
   ]
  },
  {
   "cell_type": "code",
   "execution_count": 18,
   "metadata": {
    "execution": {
     "iopub.execute_input": "2020-11-27T17:32:49.652770Z",
     "iopub.status.busy": "2020-11-27T17:32:49.652004Z",
     "iopub.status.idle": "2020-11-27T17:32:49.657113Z",
     "shell.execute_reply": "2020-11-27T17:32:49.656629Z"
    },
    "papermill": {
     "duration": 0.072794,
     "end_time": "2020-11-27T17:32:49.657210",
     "exception": false,
     "start_time": "2020-11-27T17:32:49.584416",
     "status": "completed"
    },
    "tags": []
   },
   "outputs": [
    {
     "data": {
      "text/plain": [
       "0.298897478084031"
      ]
     },
     "execution_count": 18,
     "metadata": {},
     "output_type": "execute_result"
    }
   ],
   "source": [
    "LinReg.fit(s2xtr,Ytrain)\n",
    "LinReg.score(s2xts,Ytest)"
   ]
  },
  {
   "cell_type": "code",
   "execution_count": 19,
   "metadata": {
    "execution": {
     "iopub.execute_input": "2020-11-27T17:32:49.744859Z",
     "iopub.status.busy": "2020-11-27T17:32:49.744037Z",
     "iopub.status.idle": "2020-11-27T17:32:49.748661Z",
     "shell.execute_reply": "2020-11-27T17:32:49.748086Z"
    },
    "papermill": {
     "duration": 0.054128,
     "end_time": "2020-11-27T17:32:49.748764",
     "exception": false,
     "start_time": "2020-11-27T17:32:49.694636",
     "status": "completed"
    },
    "tags": []
   },
   "outputs": [
    {
     "data": {
      "text/plain": [
       "0.3258012438489031"
      ]
     },
     "execution_count": 19,
     "metadata": {},
     "output_type": "execute_result"
    }
   ],
   "source": [
    "LinReg.fit(s3xtr,Ytrain)\n",
    "LinReg.score(s3xts,Ytest)"
   ]
  },
  {
   "cell_type": "code",
   "execution_count": 20,
   "metadata": {
    "execution": {
     "iopub.execute_input": "2020-11-27T17:32:49.838132Z",
     "iopub.status.busy": "2020-11-27T17:32:49.837152Z",
     "iopub.status.idle": "2020-11-27T17:32:49.840818Z",
     "shell.execute_reply": "2020-11-27T17:32:49.841492Z"
    },
    "papermill": {
     "duration": 0.054233,
     "end_time": "2020-11-27T17:32:49.841672",
     "exception": false,
     "start_time": "2020-11-27T17:32:49.787439",
     "status": "completed"
    },
    "tags": []
   },
   "outputs": [
    {
     "data": {
      "text/plain": [
       "0.36680795778711583"
      ]
     },
     "execution_count": 20,
     "metadata": {},
     "output_type": "execute_result"
    }
   ],
   "source": [
    "LinReg.fit(s4xtr,Ytrain)\n",
    "LinReg.score(s4xts,Ytest)"
   ]
  },
  {
   "cell_type": "markdown",
   "metadata": {
    "papermill": {
     "duration": 0.056953,
     "end_time": "2020-11-27T17:32:49.955758",
     "exception": false,
     "start_time": "2020-11-27T17:32:49.898805",
     "status": "completed"
    },
    "tags": []
   },
   "source": [
    "# Calculating all metrics for all slots using linear regression"
   ]
  },
  {
   "cell_type": "code",
   "execution_count": 21,
   "metadata": {
    "execution": {
     "iopub.execute_input": "2020-11-27T17:32:50.087071Z",
     "iopub.status.busy": "2020-11-27T17:32:50.086099Z",
     "iopub.status.idle": "2020-11-27T17:32:50.089823Z",
     "shell.execute_reply": "2020-11-27T17:32:50.090690Z"
    },
    "papermill": {
     "duration": 0.076911,
     "end_time": "2020-11-27T17:32:50.090876",
     "exception": false,
     "start_time": "2020-11-27T17:32:50.013965",
     "status": "completed"
    },
    "tags": []
   },
   "outputs": [
    {
     "name": "stdout",
     "output_type": "stream",
     "text": [
      "Mean Absolute Error of slot 1: 47.29151356120441\n",
      "Mean Squared Error of slot 1: 3281.3412322530576\n",
      "Explained Variance Score of slot 1: 0.397757265689735\n"
     ]
    }
   ],
   "source": [
    "from sklearn.metrics import mean_absolute_error, explained_variance_score, mean_squared_error\n",
    "LinReg.fit(s1xtr, Ytrain)\n",
    "print('Mean Absolute Error of slot 1:',mean_absolute_error(Ytest,LinReg.predict(s1xts)))\n",
    "print('Mean Squared Error of slot 1:',mean_squared_error(Ytest,LinReg.predict(s1xts)))\n",
    "print('Explained Variance Score of slot 1:',explained_variance_score(Ytest,LinReg.predict(s1xts)))\n"
   ]
  },
  {
   "cell_type": "code",
   "execution_count": 22,
   "metadata": {
    "execution": {
     "iopub.execute_input": "2020-11-27T17:32:50.225869Z",
     "iopub.status.busy": "2020-11-27T17:32:50.223068Z",
     "iopub.status.idle": "2020-11-27T17:32:50.232337Z",
     "shell.execute_reply": "2020-11-27T17:32:50.231621Z"
    },
    "papermill": {
     "duration": 0.084291,
     "end_time": "2020-11-27T17:32:50.232484",
     "exception": false,
     "start_time": "2020-11-27T17:32:50.148193",
     "status": "completed"
    },
    "tags": []
   },
   "outputs": [
    {
     "name": "stdout",
     "output_type": "stream",
     "text": [
      "Mean Absolute Error of slot 2: 48.56015000524337\n",
      "Mean Squared Error of slot 2: 3813.2887071765213\n",
      "Explained Variance Score of slot 2: 0.3118015894096079\n"
     ]
    }
   ],
   "source": [
    "LinReg.fit(s2xtr, Ytrain)\n",
    "print('Mean Absolute Error of slot 2:',mean_absolute_error(Ytest,LinReg.predict(s2xts)))\n",
    "print('Mean Squared Error of slot 2:',mean_squared_error(Ytest,LinReg.predict(s2xts)))\n",
    "print('Explained Variance Score of slot 2:',explained_variance_score(Ytest,LinReg.predict(s2xts)))\n"
   ]
  },
  {
   "cell_type": "code",
   "execution_count": 23,
   "metadata": {
    "execution": {
     "iopub.execute_input": "2020-11-27T17:32:50.329835Z",
     "iopub.status.busy": "2020-11-27T17:32:50.328921Z",
     "iopub.status.idle": "2020-11-27T17:32:50.334865Z",
     "shell.execute_reply": "2020-11-27T17:32:50.333943Z"
    },
    "papermill": {
     "duration": 0.061917,
     "end_time": "2020-11-27T17:32:50.334969",
     "exception": false,
     "start_time": "2020-11-27T17:32:50.273052",
     "status": "completed"
    },
    "tags": []
   },
   "outputs": [
    {
     "name": "stdout",
     "output_type": "stream",
     "text": [
      "Mean Absolute Error of slot 3: 50.21955707525066\n",
      "Mean Squared Error of slot 3: 3666.95942869761\n",
      "Explained Variance Score of slot 3: 0.33028367806094094\n"
     ]
    }
   ],
   "source": [
    "LinReg.fit(s3xtr, Ytrain)\n",
    "print('Mean Absolute Error of slot 3:',mean_absolute_error(Ytest,LinReg.predict(s3xts)))\n",
    "print('Mean Squared Error of slot 3:',mean_squared_error(Ytest,LinReg.predict(s3xts)))\n",
    "print('Explained Variance Score of slot 3:',explained_variance_score(Ytest,LinReg.predict(s3xts)))\n"
   ]
  },
  {
   "cell_type": "code",
   "execution_count": 24,
   "metadata": {
    "execution": {
     "iopub.execute_input": "2020-11-27T17:32:50.432037Z",
     "iopub.status.busy": "2020-11-27T17:32:50.421909Z",
     "iopub.status.idle": "2020-11-27T17:32:50.442062Z",
     "shell.execute_reply": "2020-11-27T17:32:50.441245Z"
    },
    "papermill": {
     "duration": 0.068164,
     "end_time": "2020-11-27T17:32:50.442205",
     "exception": false,
     "start_time": "2020-11-27T17:32:50.374041",
     "status": "completed"
    },
    "tags": []
   },
   "outputs": [
    {
     "name": "stdout",
     "output_type": "stream",
     "text": [
      "Mean Absolute Error of slot 4: 47.617970272583385\n",
      "Mean Squared Error of slot 4: 3443.924374207039\n",
      "Explained Variance Score of slot 4: 0.38021980333444505\n"
     ]
    }
   ],
   "source": [
    "LinReg.fit(s4xtr, Ytrain)\n",
    "print('Mean Absolute Error of slot 4:',mean_absolute_error(Ytest,LinReg.predict(s4xts)))\n",
    "print('Mean Squared Error of slot 4:',mean_squared_error(Ytest,LinReg.predict(s4xts)))\n",
    "print('Explained Variance Score of slot 4:',explained_variance_score(Ytest,LinReg.predict(s4xts)))\n"
   ]
  },
  {
   "cell_type": "markdown",
   "metadata": {
    "papermill": {
     "duration": 0.052822,
     "end_time": "2020-11-27T17:32:50.543493",
     "exception": false,
     "start_time": "2020-11-27T17:32:50.490671",
     "status": "completed"
    },
    "tags": []
   },
   "source": [
    "## Calculating all metrics for test dataset containing all features"
   ]
  },
  {
   "cell_type": "code",
   "execution_count": 25,
   "metadata": {
    "execution": {
     "iopub.execute_input": "2020-11-27T17:32:50.650859Z",
     "iopub.status.busy": "2020-11-27T17:32:50.640375Z",
     "iopub.status.idle": "2020-11-27T17:32:50.656010Z",
     "shell.execute_reply": "2020-11-27T17:32:50.655280Z"
    },
    "papermill": {
     "duration": 0.065871,
     "end_time": "2020-11-27T17:32:50.656144",
     "exception": false,
     "start_time": "2020-11-27T17:32:50.590273",
     "status": "completed"
    },
    "tags": []
   },
   "outputs": [
    {
     "name": "stdout",
     "output_type": "stream",
     "text": [
      "Mean Absolute Error: 39.51435420248582\n",
      "Mean Squared Error: 2342.943246162289\n",
      "Explained Variance Score: 0.5732793759658055\n"
     ]
    }
   ],
   "source": [
    "LinReg.fit(Xtrain, Ytrain)\n",
    "print('Mean Absolute Error:',mean_absolute_error(Ytest,LinReg.predict(Xtest)))\n",
    "print('Mean Squared Error:',mean_squared_error(Ytest,LinReg.predict(Xtest)))\n",
    "print('Explained Variance Score:',explained_variance_score(Ytest,LinReg.predict(Xtest)))\n"
   ]
  },
  {
   "cell_type": "markdown",
   "metadata": {
    "papermill": {
     "duration": 0.040057,
     "end_time": "2020-11-27T17:32:50.737202",
     "exception": false,
     "start_time": "2020-11-27T17:32:50.697145",
     "status": "completed"
    },
    "tags": []
   },
   "source": [
    "# Principal Components Analysis (PCA)"
   ]
  },
  {
   "cell_type": "code",
   "execution_count": 26,
   "metadata": {
    "execution": {
     "iopub.execute_input": "2020-11-27T17:32:50.825369Z",
     "iopub.status.busy": "2020-11-27T17:32:50.824454Z",
     "iopub.status.idle": "2020-11-27T17:32:50.829188Z",
     "shell.execute_reply": "2020-11-27T17:32:50.829846Z"
    },
    "papermill": {
     "duration": 0.051843,
     "end_time": "2020-11-27T17:32:50.829977",
     "exception": false,
     "start_time": "2020-11-27T17:32:50.778134",
     "status": "completed"
    },
    "tags": []
   },
   "outputs": [
    {
     "data": {
      "text/plain": [
       "0.5692318246192714"
      ]
     },
     "execution_count": 26,
     "metadata": {},
     "output_type": "execute_result"
    }
   ],
   "source": [
    "# Model Accuracy is \n",
    "Acc"
   ]
  },
  {
   "cell_type": "code",
   "execution_count": 27,
   "metadata": {
    "execution": {
     "iopub.execute_input": "2020-11-27T17:32:50.919936Z",
     "iopub.status.busy": "2020-11-27T17:32:50.918983Z",
     "iopub.status.idle": "2020-11-27T17:32:50.924143Z",
     "shell.execute_reply": "2020-11-27T17:32:50.923521Z"
    },
    "papermill": {
     "duration": 0.053508,
     "end_time": "2020-11-27T17:32:50.924244",
     "exception": false,
     "start_time": "2020-11-27T17:32:50.870736",
     "status": "completed"
    },
    "tags": []
   },
   "outputs": [
    {
     "data": {
      "text/plain": [
       "array([0.40242142, 0.14923182, 0.12059623, 0.09554764, 0.06621856,\n",
       "       0.06027192])"
      ]
     },
     "execution_count": 27,
     "metadata": {},
     "output_type": "execute_result"
    }
   ],
   "source": [
    "pca = PCA(n_components = 6)\n",
    "pca.fit(d_data)\n",
    "pca.explained_variance_ratio_"
   ]
  },
  {
   "cell_type": "code",
   "execution_count": 28,
   "metadata": {
    "execution": {
     "iopub.execute_input": "2020-11-27T17:32:51.020254Z",
     "iopub.status.busy": "2020-11-27T17:32:51.014541Z",
     "iopub.status.idle": "2020-11-27T17:32:51.025647Z",
     "shell.execute_reply": "2020-11-27T17:32:51.024999Z"
    },
    "papermill": {
     "duration": 0.060554,
     "end_time": "2020-11-27T17:32:51.025753",
     "exception": false,
     "start_time": "2020-11-27T17:32:50.965199",
     "status": "completed"
    },
    "tags": []
   },
   "outputs": [
    {
     "data": {
      "text/plain": [
       "array([[ 0.09216216, -0.11595056,  0.02736829, ..., -0.02323351,\n",
       "        -0.0471465 , -0.0071772 ],\n",
       "       [-0.05926455,  0.08905065,  0.04431324, ...,  0.009804  ,\n",
       "        -0.00163412,  0.0023565 ],\n",
       "       [ 0.04618835,  0.04908755,  0.04956439, ...,  0.03436766,\n",
       "        -0.01863   , -0.00886177],\n",
       "       ...,\n",
       "       [-0.02612183, -0.03821258, -0.04440043, ..., -0.00821093,\n",
       "        -0.01883049, -0.00698608],\n",
       "       [ 0.02921133,  0.00890669,  0.02521147, ..., -0.00263084,\n",
       "         0.03012736,  0.00156455],\n",
       "       [-0.03726016, -0.0590259 ,  0.0370359 , ..., -0.02569716,\n",
       "         0.07953146,  0.00063199]])"
      ]
     },
     "execution_count": 28,
     "metadata": {},
     "output_type": "execute_result"
    }
   ],
   "source": [
    "pca = PCA(n_components = 9)\n",
    "trX = pca.fit_transform(Xtrain)\n",
    "tsX = pca.transform(Xtest)\n",
    "trX"
   ]
  },
  {
   "cell_type": "code",
   "execution_count": 29,
   "metadata": {
    "execution": {
     "iopub.execute_input": "2020-11-27T17:32:51.114192Z",
     "iopub.status.busy": "2020-11-27T17:32:51.113211Z",
     "iopub.status.idle": "2020-11-27T17:32:51.117971Z",
     "shell.execute_reply": "2020-11-27T17:32:51.117149Z"
    },
    "papermill": {
     "duration": 0.051251,
     "end_time": "2020-11-27T17:32:51.118114",
     "exception": false,
     "start_time": "2020-11-27T17:32:51.066863",
     "status": "completed"
    },
    "tags": []
   },
   "outputs": [
    {
     "data": {
      "text/plain": [
       "((331, 9), (111, 9))"
      ]
     },
     "execution_count": 29,
     "metadata": {},
     "output_type": "execute_result"
    }
   ],
   "source": [
    "#printing shape of the transformed data\n",
    "trX.shape, tsX.shape"
   ]
  },
  {
   "cell_type": "code",
   "execution_count": 30,
   "metadata": {
    "execution": {
     "iopub.execute_input": "2020-11-27T17:32:51.220249Z",
     "iopub.status.busy": "2020-11-27T17:32:51.218215Z",
     "iopub.status.idle": "2020-11-27T17:32:51.225661Z",
     "shell.execute_reply": "2020-11-27T17:32:51.225020Z"
    },
    "papermill": {
     "duration": 0.056041,
     "end_time": "2020-11-27T17:32:51.225767",
     "exception": false,
     "start_time": "2020-11-27T17:32:51.169726",
     "status": "completed"
    },
    "tags": []
   },
   "outputs": [
    {
     "data": {
      "text/plain": [
       "((442, 10), (442,))"
      ]
     },
     "execution_count": 30,
     "metadata": {},
     "output_type": "execute_result"
    }
   ],
   "source": [
    "LinReg.fit(X,Y)\n",
    "X.shape,Y.shape"
   ]
  },
  {
   "cell_type": "markdown",
   "metadata": {
    "papermill": {
     "duration": 0.041245,
     "end_time": "2020-11-27T17:32:51.309213",
     "exception": false,
     "start_time": "2020-11-27T17:32:51.267968",
     "status": "completed"
    },
    "tags": []
   },
   "source": [
    "## Inspecting the feature importance using sklearn\n"
   ]
  },
  {
   "cell_type": "code",
   "execution_count": 31,
   "metadata": {
    "execution": {
     "iopub.execute_input": "2020-11-27T17:32:51.399825Z",
     "iopub.status.busy": "2020-11-27T17:32:51.399102Z",
     "iopub.status.idle": "2020-11-27T17:32:51.831485Z",
     "shell.execute_reply": "2020-11-27T17:32:51.830524Z"
    },
    "papermill": {
     "duration": 0.480921,
     "end_time": "2020-11-27T17:32:51.831660",
     "exception": false,
     "start_time": "2020-11-27T17:32:51.350739",
     "status": "completed"
    },
    "tags": []
   },
   "outputs": [
    {
     "name": "stdout",
     "output_type": "stream",
     "text": [
      "Features age  : \" \" has importance  -5.384337814051676e-05\n",
      "Features s6  : \" \" has importance  0.0038332064465688154\n",
      "Features s3  : \" \" has importance  0.008005487164689195\n",
      "Features s4  : \" \" has importance  0.021860906407610337\n",
      "Features sex  : \" \" has importance  0.03829235428971102\n",
      "Features bp  : \" \" has importance  0.07736720233708085\n",
      "Features s2  : \" \" has importance  0.1717489100956951\n",
      "Features bmi  : \" \" has importance  0.20773214756220043\n",
      "Features s5  : \" \" has importance  0.4086523585305163\n",
      "Features s1  : \" \" has importance  0.491844958264975\n"
     ]
    }
   ],
   "source": [
    "from sklearn.inspection import permutation_importance\n",
    "results = permutation_importance(LinReg,X,Y,n_repeats = 10, random_state = 0)\n",
    "for i in results.importances_mean.argsort():\n",
    "    print('Features', X.columns[i], ' : \" \" has importance ', results.importances_mean[i])"
   ]
  },
  {
   "cell_type": "code",
   "execution_count": 32,
   "metadata": {
    "execution": {
     "iopub.execute_input": "2020-11-27T17:32:51.926589Z",
     "iopub.status.busy": "2020-11-27T17:32:51.924890Z",
     "iopub.status.idle": "2020-11-27T17:32:52.078540Z",
     "shell.execute_reply": "2020-11-27T17:32:52.077929Z"
    },
    "papermill": {
     "duration": 0.203239,
     "end_time": "2020-11-27T17:32:52.078667",
     "exception": false,
     "start_time": "2020-11-27T17:32:51.875428",
     "status": "completed"
    },
    "tags": []
   },
   "outputs": [
    {
     "data": {
      "text/plain": [
       "([<matplotlib.axis.XTick at 0x7fa869163510>,\n",
       "  <matplotlib.axis.XTick at 0x7fa8627c54d0>,\n",
       "  <matplotlib.axis.XTick at 0x7fa8627c5110>,\n",
       "  <matplotlib.axis.XTick at 0x7fa862784b90>,\n",
       "  <matplotlib.axis.XTick at 0x7fa862784ad0>,\n",
       "  <matplotlib.axis.XTick at 0x7fa862793650>,\n",
       "  <matplotlib.axis.XTick at 0x7fa862793bd0>,\n",
       "  <matplotlib.axis.XTick at 0x7fa8627936d0>,\n",
       "  <matplotlib.axis.XTick at 0x7fa862784c50>,\n",
       "  <matplotlib.axis.XTick at 0x7fa86271b590>],\n",
       " [Text(0, 0, 'age'),\n",
       "  Text(0, 0, 's6'),\n",
       "  Text(0, 0, 's3'),\n",
       "  Text(0, 0, 's4'),\n",
       "  Text(0, 0, 'sex'),\n",
       "  Text(0, 0, 'bp'),\n",
       "  Text(0, 0, 's2'),\n",
       "  Text(0, 0, 'bmi'),\n",
       "  Text(0, 0, 's5'),\n",
       "  Text(0, 0, 's1')])"
      ]
     },
     "execution_count": 32,
     "metadata": {},
     "output_type": "execute_result"
    },
    {
     "data": {
      "image/png": "[encoded data removed]",
      "text/plain": [
       "<Figure size 432x288 with 1 Axes>"
      ]
     },
     "metadata": {
      "needs_background": "light"
     },
     "output_type": "display_data"
    }
   ],
   "source": [
    "feature = []\n",
    "importances = []\n",
    "\n",
    "for i in results.importances_mean.argsort():\n",
    "    feature.append(i)\n",
    "    importances.append(results.importances_mean[i])\n",
    "    \n",
    "    \n",
    "plt.xlabel('Features')\n",
    "plt.ylabel('Importance')\n",
    "plt.title('Plot of importances of corrosponding feature')\n",
    "plt.bar(range(len(importances)),importances, align = 'center')\n",
    "plt.xticks(range(len(feature)),X.columns[feature],rotation = 1)"
   ]
  }
 ],
 "metadata": {
  "kernelspec": {
   "display_name": "Python 3",
   "language": "python",
   "name": "python3"
  },
  "language_info": {
   "codemirror_mode": {
    "name": "ipython",
    "version": 3
   },
   "file_extension": ".py",
   "mimetype": "text/x-python",
   "name": "python",
   "nbconvert_exporter": "python",
   "pygments_lexer": "ipython3",
   "version": "3.8.3"
  },
  "papermill": {
   "duration": 10.648976,
   "end_time": "2020-11-27T17:32:52.230168",
   "environment_variables": {},
   "exception": null,
   "input_path": "__notebook__.ipynb",
   "output_path": "__notebook__.ipynb",
   "parameters": {},
   "start_time": "2020-11-27T17:32:41.581192",
   "version": "2.1.0"
  }
 },
 "nbformat": 4,
 "nbformat_minor": 4
}
