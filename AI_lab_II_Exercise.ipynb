{
 "cells": [
  {
   "cell_type": "markdown",
   "metadata": {
    "papermill": {
     "duration": 0.010238,
     "end_time": "2020-11-18T18:58:04.468885",
     "exception": false,
     "start_time": "2020-11-18T18:58:04.458647",
     "status": "completed"
    },
    "tags": []
   },
   "source": [
    "# AI Lab-2\n",
    "## Numpy, Matplotlib and Dictionaries\n",
    "### Author : Abdul Basit"
   ]
  },
  {
   "cell_type": "markdown",
   "metadata": {},
   "source": [
    "#### Lab Tasks\n",
    "> Define a dictionary that contains “names” as keys and “CGPA” as values and write a Python program to iterate over the defined dictionary using for loops.\n",
    "\n",
    "> Write a Python program to fond the average CGPA of your class in a dictionary.\n",
    "\n",
    "> Write a Python program to sort the defined dictionary by key\n",
    "\n",
    "> Write a python program to plot bar chart of the dictionary in a way that x-axis should display names of your friends and y-axis should be for CGPA. (Hint Explore ticks in Matplotlib to put names on x-axis).\n",
    "\n",
    "> Define a 2D NumPy array of shape (8, 8), multiply with last digit of your CMS-ID and access value at 4th row and 4th column.\n",
    "\n",
    "> Define a 3D NumPy array of shape (5, 4, 4), multiply with digit of your CMS-ID and access its first two elements of 2nd row in 2nd Matrix."
   ]
  },
  {
   "cell_type": "code",
   "execution_count": 1,
   "metadata": {
    "_cell_guid": "b1076dfc-b9ad-4769-8c92-a6c4dae69d19",
    "_uuid": "8f2839f25d086af736a60e9eeb907d3b93b6e0e5",
    "execution": {
     "iopub.execute_input": "2020-11-18T18:58:04.495755Z",
     "iopub.status.busy": "2020-11-18T18:58:04.494825Z",
     "iopub.status.idle": "2020-11-18T18:58:04.499641Z",
     "shell.execute_reply": "2020-11-18T18:58:04.498665Z"
    },
    "papermill": {
     "duration": 0.021526,
     "end_time": "2020-11-18T18:58:04.499823",
     "exception": false,
     "start_time": "2020-11-18T18:58:04.478297",
     "status": "completed"
    },
    "tags": []
   },
   "outputs": [
    {
     "name": "stdout",
     "output_type": "stream",
     "text": [
      "Nabeel 3.5\n",
      "Zaman 3.6\n",
      "Fayaz 3.0\n",
      "Asad 3.7\n",
      "Basit 2.7\n"
     ]
    }
   ],
   "source": [
    "#Creating a dictionary containing names and cgpa respectivly\n",
    "dic = dict()\n",
    "dic = {'Nabeel': 3.5, 'Zaman' : 3.6, \"Fayaz\" : 3.00, \"Asad\": 3.7, \"Basit\" : 2.7}\n",
    "for x,y in dic.items():\n",
    "    print(x,y)\n",
    "  "
   ]
  },
  {
   "cell_type": "markdown",
   "metadata": {
    "papermill": {
     "duration": 0.009323,
     "end_time": "2020-11-18T18:58:04.520182",
     "exception": false,
     "start_time": "2020-11-18T18:58:04.510859",
     "status": "completed"
    },
    "tags": []
   },
   "source": [
    "# AI Lab-2 Exercise # 2"
   ]
  },
  {
   "cell_type": "code",
   "execution_count": 2,
   "metadata": {
    "_cell_guid": "79c7e3d0-c299-4dcb-8224-4455121ee9b0",
    "_uuid": "d629ff2d2480ee46fbb7e2d37f6b5fab8052498a",
    "execution": {
     "iopub.execute_input": "2020-11-18T18:58:04.546904Z",
     "iopub.status.busy": "2020-11-18T18:58:04.545947Z",
     "iopub.status.idle": "2020-11-18T18:58:04.550304Z",
     "shell.execute_reply": "2020-11-18T18:58:04.549381Z"
    },
    "papermill": {
     "duration": 0.020507,
     "end_time": "2020-11-18T18:58:04.550468",
     "exception": false,
     "start_time": "2020-11-18T18:58:04.529961",
     "status": "completed"
    },
    "tags": []
   },
   "outputs": [
    {
     "name": "stdout",
     "output_type": "stream",
     "text": [
      "Average CGPA is :  3.3\n"
     ]
    }
   ],
   "source": [
    "#calculating average CGPA from dictionary\n",
    "cgpa = 0\n",
    "for x,y in dic.items():\n",
    "    cgpa += y\n",
    "   \n",
    "\n",
    "average = cgpa/len(dic)    \n",
    "print(\"Average CGPA is : \", average)    "
   ]
  },
  {
   "cell_type": "markdown",
   "metadata": {
    "papermill": {
     "duration": 0.010386,
     "end_time": "2020-11-18T18:58:04.571961",
     "exception": false,
     "start_time": "2020-11-18T18:58:04.561575",
     "status": "completed"
    },
    "tags": []
   },
   "source": [
    "# AI Lab-2 exercise 3"
   ]
  },
  {
   "cell_type": "code",
   "execution_count": 3,
   "metadata": {
    "execution": {
     "iopub.execute_input": "2020-11-18T18:58:04.598828Z",
     "iopub.status.busy": "2020-11-18T18:58:04.597890Z",
     "iopub.status.idle": "2020-11-18T18:58:04.602111Z",
     "shell.execute_reply": "2020-11-18T18:58:04.601362Z"
    },
    "papermill": {
     "duration": 0.019664,
     "end_time": "2020-11-18T18:58:04.602235",
     "exception": false,
     "start_time": "2020-11-18T18:58:04.582571",
     "status": "completed"
    },
    "tags": []
   },
   "outputs": [
    {
     "name": "stdout",
     "output_type": "stream",
     "text": [
      "['Asad', 'Basit', 'Fayaz', 'Nabeel', 'Zaman']\n"
     ]
    }
   ],
   "source": [
    "#Sorting the dictionary\n",
    "s = sorted(dic)\n",
    "print(s)"
   ]
  },
  {
   "cell_type": "markdown",
   "metadata": {
    "papermill": {
     "duration": 0.010546,
     "end_time": "2020-11-18T18:58:04.623908",
     "exception": false,
     "start_time": "2020-11-18T18:58:04.613362",
     "status": "completed"
    },
    "tags": []
   },
   "source": [
    "# AI lab-2 exercie 4"
   ]
  },
  {
   "cell_type": "code",
   "execution_count": 4,
   "metadata": {
    "execution": {
     "iopub.execute_input": "2020-11-18T18:58:04.654467Z",
     "iopub.status.busy": "2020-11-18T18:58:04.653593Z",
     "iopub.status.idle": "2020-11-18T18:58:04.848466Z",
     "shell.execute_reply": "2020-11-18T18:58:04.847801Z"
    },
    "papermill": {
     "duration": 0.213941,
     "end_time": "2020-11-18T18:58:04.848589",
     "exception": false,
     "start_time": "2020-11-18T18:58:04.634648",
     "status": "completed"
    },
    "tags": []
   },
   "outputs": [
    {
     "data": {
      "image/png": "[encoded data removed]",
      "text/plain": [
       "<Figure size 432x288 with 1 Axes>"
      ]
     },
     "metadata": {
      "needs_background": "light"
     },
     "output_type": "display_data"
    }
   ],
   "source": [
    "#Plotting dictionary keys and Values in Graph\n",
    "names = []\n",
    "cgpa = []\n",
    "for x,y in dic.items():\n",
    "    names.append(x)\n",
    "    cgpa.append(y)\n",
    "\n",
    "import matplotlib.pyplot as plt\n",
    "fig = plt.figure()\n",
    "ax = fig.add_axes([0,0,1,1])\n",
    "ax.bar(names,cgpa)\n",
    "plt.show()\n",
    "\n",
    "    "
   ]
  },
  {
   "cell_type": "markdown",
   "metadata": {
    "papermill": {
     "duration": 0.011455,
     "end_time": "2020-11-18T18:58:04.873605",
     "exception": false,
     "start_time": "2020-11-18T18:58:04.862150",
     "status": "completed"
    },
    "tags": []
   },
   "source": [
    "# AI lab-2 exercise # 5"
   ]
  },
  {
   "cell_type": "code",
   "execution_count": 5,
   "metadata": {
    "execution": {
     "iopub.execute_input": "2020-11-18T18:58:04.907679Z",
     "iopub.status.busy": "2020-11-18T18:58:04.906814Z",
     "iopub.status.idle": "2020-11-18T18:58:04.910231Z",
     "shell.execute_reply": "2020-11-18T18:58:04.910826Z"
    },
    "papermill": {
     "duration": 0.02557,
     "end_time": "2020-11-18T18:58:04.910973",
     "exception": false,
     "start_time": "2020-11-18T18:58:04.885403",
     "status": "completed"
    },
    "tags": []
   },
   "outputs": [
    {
     "name": "stdout",
     "output_type": "stream",
     "text": [
      "[[ 0  1  2  3  4  5  6  7]\n",
      " [ 8  9 10 11 12 13 14 15]\n",
      " [16 17 18 19 20 21 22 23]\n",
      " [24 25 26 27 28 29 30 31]\n",
      " [32 33 34 35 36 37 38 39]\n",
      " [40 41 42 43 44 45 46 47]\n",
      " [48 49 50 51 52 53 54 55]\n",
      " [56 57 58 59 60 61 62 63]]\n",
      "[[  0  14  28  42  56  70  84  98]\n",
      " [112 126 140 154 168 182 196 210]\n",
      " [224 238 252 266 280 294 308 322]\n",
      " [336 350 364 378 392 406 420 434]\n",
      " [448 462 476 490 504 518 532 546]\n",
      " [560 574 588 602 616 630 644 658]\n",
      " [672 686 700 714 728 742 756 770]\n",
      " [784 798 812 826 840 854 868 882]]\n",
      "5x5 element of array :  630\n"
     ]
    }
   ],
   "source": [
    "#creating an array and multiplying a number with it\n",
    "import numpy as np\n",
    "arr = np.arange(64)\n",
    "arr = arr.reshape(8,8)\n",
    "print(arr)\n",
    "\n",
    "cms = 14\n",
    "\n",
    "\n",
    "for i in range(len(arr)): \n",
    "    for j in range(len(arr)): \n",
    "        arr[i][j] = arr[i][j]*cms\n",
    "        \n",
    "print(arr)\n",
    "\n",
    "print('5x5 element of array : ', arr[5][5])\n"
   ]
  },
  {
   "cell_type": "markdown",
   "metadata": {
    "papermill": {
     "duration": 0.012155,
     "end_time": "2020-11-18T18:58:04.935583",
     "exception": false,
     "start_time": "2020-11-18T18:58:04.923428",
     "status": "completed"
    },
    "tags": []
   },
   "source": [
    "# AI lab-2 Exercise # 6"
   ]
  },
  {
   "cell_type": "code",
   "execution_count": 6,
   "metadata": {
    "execution": {
     "iopub.execute_input": "2020-11-18T18:58:04.970766Z",
     "iopub.status.busy": "2020-11-18T18:58:04.970006Z",
     "iopub.status.idle": "2020-11-18T18:58:04.973981Z",
     "shell.execute_reply": "2020-11-18T18:58:04.974953Z"
    },
    "papermill": {
     "duration": 0.027063,
     "end_time": "2020-11-18T18:58:04.975137",
     "exception": false,
     "start_time": "2020-11-18T18:58:04.948074",
     "status": "completed"
    },
    "tags": []
   },
   "outputs": [
    {
     "name": "stdout",
     "output_type": "stream",
     "text": [
      "The 3d array is :  [[[ 0  1  2  3]\n",
      "  [ 4  5  6  7]\n",
      "  [ 8  9 10 11]\n",
      "  [12 13 14 15]]\n",
      "\n",
      " [[16 17 18 19]\n",
      "  [20 21 22 23]\n",
      "  [24 25 26 27]\n",
      "  [28 29 30 31]]\n",
      "\n",
      " [[32 33 34 35]\n",
      "  [36 37 38 39]\n",
      "  [40 41 42 43]\n",
      "  [44 45 46 47]]\n",
      "\n",
      " [[48 49 50 51]\n",
      "  [52 53 54 55]\n",
      "  [56 57 58 59]\n",
      "  [60 61 62 63]]\n",
      "\n",
      " [[64 65 66 67]\n",
      "  [68 69 70 71]\n",
      "  [72 73 74 75]\n",
      "  [76 77 78 79]]]\n",
      "The 3d array after multiplying with CMS [[[   0   14   28   42]\n",
      "  [  56   70   84   98]\n",
      "  [ 112  126  140  154]\n",
      "  [ 168  182  196  210]]\n",
      "\n",
      " [[ 224  238  252  266]\n",
      "  [ 280  294  308  322]\n",
      "  [ 336  350  364  378]\n",
      "  [ 392  406  420  434]]\n",
      "\n",
      " [[ 448  462  476  490]\n",
      "  [ 504  518  532  546]\n",
      "  [ 560  574  588  602]\n",
      "  [ 616  630  644  658]]\n",
      "\n",
      " [[ 672  686  700  714]\n",
      "  [ 728  742  756  770]\n",
      "  [ 784  798  812  826]\n",
      "  [ 840  854  868  882]]\n",
      "\n",
      " [[ 896  910  924  938]\n",
      "  [ 952  966  980  994]\n",
      "  [1008 1022 1036 1050]\n",
      "  [1064 1078 1092 1106]]]\n",
      "The 1st element in 3rd matrix and 3rd row :  840\n",
      "The 1st second in 3rd matrix and 3rd row :  854\n"
     ]
    }
   ],
   "source": [
    "import numpy as np\n",
    "a = np.arange(80)\n",
    "a = a.reshape(5,4,4)\n",
    "print(\"The 3d array is : \",a)\n",
    "\n",
    "cms1 = 14\n",
    "ar = a*14\n",
    "        \n",
    "print(\"The 3d array after multiplying with CMS\",ar)\n",
    "\n",
    "print('The 1st element in 3rd matrix and 3rd row : ', ar[3][3][0])\n",
    "print('The 1st second in 3rd matrix and 3rd row : ', ar[3][3][1])"
   ]
  }
 ],
 "metadata": {
  "kernelspec": {
   "display_name": "Python 3",
   "language": "python",
   "name": "python3"
  },
  "language_info": {
   "codemirror_mode": {
    "name": "ipython",
    "version": 3
   },
   "file_extension": ".py",
   "mimetype": "text/x-python",
   "name": "python",
   "nbconvert_exporter": "python",
   "pygments_lexer": "ipython3",
   "version": "3.8.3"
  },
  "papermill": {
   "duration": 5.453898,
   "end_time": "2020-11-18T18:58:05.096566",
   "environment_variables": {},
   "exception": null,
   "input_path": "__notebook__.ipynb",
   "output_path": "__notebook__.ipynb",
   "parameters": {},
   "start_time": "2020-11-18T18:57:59.642668",
   "version": "2.1.0"
  }
 },
 "nbformat": 4,
 "nbformat_minor": 4
}
