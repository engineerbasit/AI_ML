{
 "cells": [
  {
   "cell_type": "markdown",
   "metadata": {},
   "source": [
    "# AI Lab-5\n",
    "## Supervised Machine Learning-Sklearn\n",
    "### Author : Abdul Basit"
   ]
  },
  {
   "cell_type": "markdown",
   "metadata": {},
   "source": [
    "#### Lab Tasks"
   ]
  },
  {
   "cell_type": "markdown",
   "metadata": {},
   "source": [
    "> Study and Explore Mnist or Digits dataset available in the sklearn.\n",
    "\n",
    "> Print the keys available in the data set.\n",
    "\n",
    "> Define all the keys briefly to define the dataset.\n",
    "\n",
    "> Check and define the shape of dataset.\n",
    "\n",
    "> Separate the features and split the dataset into train/test and shuffle it.\n",
    "\n",
    "> Fit the model using KNN classifier by selecting appropriate value of K you think.\n",
    "\n",
    "> Compute accuracy of the model on the test data.\n",
    "\n",
    "> Plot confusion matrix of the data and its classification report.\n",
    "\n",
    "> Evaluate the model in terms of overfitting and underfitting."
   ]
  },
  {
   "cell_type": "markdown",
   "metadata": {
    "papermill": {
     "duration": 0.023176,
     "end_time": "2020-11-19T17:08:02.102959",
     "exception": false,
     "start_time": "2020-11-19T17:08:02.079783",
     "status": "completed"
    },
    "tags": []
   },
   "source": [
    "# Loading dataset of minst Digits dataset"
   ]
  },
  {
   "cell_type": "code",
   "execution_count": 1,
   "metadata": {
    "_cell_guid": "b1076dfc-b9ad-4769-8c92-a6c4dae69d19",
    "_uuid": "8f2839f25d086af736a60e9eeb907d3b93b6e0e5",
    "execution": {
     "iopub.execute_input": "2020-11-19T17:08:02.150669Z",
     "iopub.status.busy": "2020-11-19T17:08:02.149706Z",
     "iopub.status.idle": "2020-11-19T17:08:03.501213Z",
     "shell.execute_reply": "2020-11-19T17:08:03.501842Z"
    },
    "papermill": {
     "duration": 1.379047,
     "end_time": "2020-11-19T17:08:03.502033",
     "exception": false,
     "start_time": "2020-11-19T17:08:02.122986",
     "status": "completed"
    },
    "tags": []
   },
   "outputs": [
    {
     "data": {
      "text/plain": [
       "(array([[ 0.,  0.,  5., ...,  0.,  0.,  0.],\n",
       "        [ 0.,  0.,  0., ..., 10.,  0.,  0.],\n",
       "        [ 0.,  0.,  0., ..., 16.,  9.,  0.],\n",
       "        ...,\n",
       "        [ 0.,  0.,  1., ...,  6.,  0.,  0.],\n",
       "        [ 0.,  0.,  2., ..., 12.,  0.,  0.],\n",
       "        [ 0.,  0., 10., ..., 12.,  1.,  0.]]),\n",
       " array([0, 1, 2, ..., 8, 9, 8]))"
      ]
     },
     "execution_count": 1,
     "metadata": {},
     "output_type": "execute_result"
    }
   ],
   "source": [
    "from sklearn import datasets\n",
    "import matplotlib.pyplot as plt\n",
    "import pandas as pd\n",
    "import numpy as np\n",
    "mnist = datasets.load_digits()\n",
    "mnist.target_names\n",
    "A= mnist.data\n",
    "B = mnist.target\n",
    "A,B"
   ]
  },
  {
   "cell_type": "code",
   "execution_count": 2,
   "metadata": {
    "execution": {
     "iopub.execute_input": "2020-11-19T17:08:03.549038Z",
     "iopub.status.busy": "2020-11-19T17:08:03.548242Z",
     "iopub.status.idle": "2020-11-19T17:08:03.762603Z",
     "shell.execute_reply": "2020-11-19T17:08:03.761847Z"
    },
    "papermill": {
     "duration": 0.240276,
     "end_time": "2020-11-19T17:08:03.762727",
     "exception": false,
     "start_time": "2020-11-19T17:08:03.522451",
     "status": "completed"
    },
    "tags": []
   },
   "outputs": [
    {
     "data": {
      "image/png": "[encoded data removed]",
      "text/plain": [
       "<Figure size 432x288 with 1 Axes>"
      ]
     },
     "metadata": {
      "needs_background": "light"
     },
     "output_type": "display_data"
    }
   ],
   "source": [
    "sample = 1000\n",
    "\n",
    "image = A[sample]\n",
    "image = image.reshape(8,8)\n",
    "\n",
    "plt.imshow(image)\n",
    "plt.show()"
   ]
  },
  {
   "cell_type": "markdown",
   "metadata": {
    "papermill": {
     "duration": 0.020277,
     "end_time": "2020-11-19T17:08:03.803682",
     "exception": false,
     "start_time": "2020-11-19T17:08:03.783405",
     "status": "completed"
    },
    "tags": []
   },
   "source": [
    "# Printing Keys of the dataset"
   ]
  },
  {
   "cell_type": "code",
   "execution_count": 3,
   "metadata": {
    "execution": {
     "iopub.execute_input": "2020-11-19T17:08:03.851466Z",
     "iopub.status.busy": "2020-11-19T17:08:03.850305Z",
     "iopub.status.idle": "2020-11-19T17:08:03.854726Z",
     "shell.execute_reply": "2020-11-19T17:08:03.853976Z"
    },
    "papermill": {
     "duration": 0.03065,
     "end_time": "2020-11-19T17:08:03.854885",
     "exception": false,
     "start_time": "2020-11-19T17:08:03.824235",
     "status": "completed"
    },
    "tags": []
   },
   "outputs": [
    {
     "data": {
      "text/plain": [
       "dict_keys(['data', 'target', 'frame', 'feature_names', 'target_names', 'images', 'DESCR'])"
      ]
     },
     "execution_count": 3,
     "metadata": {},
     "output_type": "execute_result"
    }
   ],
   "source": [
    "mnist.keys()"
   ]
  },
  {
   "cell_type": "markdown",
   "metadata": {
    "papermill": {
     "duration": 0.020951,
     "end_time": "2020-11-19T17:08:03.897225",
     "exception": false,
     "start_time": "2020-11-19T17:08:03.876274",
     "status": "completed"
    },
    "tags": []
   },
   "source": [
    "# # Defining keys in the dataset"
   ]
  },
  {
   "cell_type": "raw",
   "metadata": {
    "papermill": {
     "duration": 0.021108,
     "end_time": "2020-11-19T17:08:03.939668",
     "exception": false,
     "start_time": "2020-11-19T17:08:03.918560",
     "status": "completed"
    },
    "tags": []
   },
   "source": [
    "Data = Contans data\n",
    "\n",
    "Target = labels of the data\n",
    "\n",
    "Frame  = Contains frames\n",
    "\n",
    "Feature_names = All frame names\n",
    "\n",
    "target_name = Target label names\n",
    "\n",
    "images = Contains Images of dataset\n",
    "\n",
    "DESCR = This key contains Description of the data"
   ]
  },
  {
   "cell_type": "markdown",
   "metadata": {
    "papermill": {
     "duration": 0.020972,
     "end_time": "2020-11-19T17:08:03.982271",
     "exception": false,
     "start_time": "2020-11-19T17:08:03.961299",
     "status": "completed"
    },
    "tags": []
   },
   "source": [
    "# Checking shape of the dataset"
   ]
  },
  {
   "cell_type": "code",
   "execution_count": 4,
   "metadata": {
    "execution": {
     "iopub.execute_input": "2020-11-19T17:08:04.031370Z",
     "iopub.status.busy": "2020-11-19T17:08:04.030241Z",
     "iopub.status.idle": "2020-11-19T17:08:04.034949Z",
     "shell.execute_reply": "2020-11-19T17:08:04.034327Z"
    },
    "papermill": {
     "duration": 0.031505,
     "end_time": "2020-11-19T17:08:04.035085",
     "exception": false,
     "start_time": "2020-11-19T17:08:04.003580",
     "status": "completed"
    },
    "tags": []
   },
   "outputs": [
    {
     "data": {
      "text/plain": [
       "(1797, 64)"
      ]
     },
     "execution_count": 4,
     "metadata": {},
     "output_type": "execute_result"
    }
   ],
   "source": [
    "mnist.data.shape"
   ]
  },
  {
   "cell_type": "markdown",
   "metadata": {
    "papermill": {
     "duration": 0.021573,
     "end_time": "2020-11-19T17:08:04.078881",
     "exception": false,
     "start_time": "2020-11-19T17:08:04.057308",
     "status": "completed"
    },
    "tags": []
   },
   "source": [
    "The shape of the dataset is 1797x64 "
   ]
  },
  {
   "cell_type": "markdown",
   "metadata": {
    "papermill": {
     "duration": 0.022134,
     "end_time": "2020-11-19T17:08:04.122885",
     "exception": false,
     "start_time": "2020-11-19T17:08:04.100751",
     "status": "completed"
    },
    "tags": []
   },
   "source": [
    "# Seperating features of dataset"
   ]
  },
  {
   "cell_type": "code",
   "execution_count": 5,
   "metadata": {
    "execution": {
     "iopub.execute_input": "2020-11-19T17:08:04.175238Z",
     "iopub.status.busy": "2020-11-19T17:08:04.174092Z",
     "iopub.status.idle": "2020-11-19T17:08:04.179348Z",
     "shell.execute_reply": "2020-11-19T17:08:04.178735Z"
    },
    "papermill": {
     "duration": 0.034483,
     "end_time": "2020-11-19T17:08:04.179485",
     "exception": false,
     "start_time": "2020-11-19T17:08:04.145002",
     "status": "completed"
    },
    "tags": []
   },
   "outputs": [
    {
     "data": {
      "text/plain": [
       "['pixel_0_0',\n",
       " 'pixel_0_1',\n",
       " 'pixel_0_2',\n",
       " 'pixel_0_3',\n",
       " 'pixel_0_4',\n",
       " 'pixel_0_5',\n",
       " 'pixel_0_6',\n",
       " 'pixel_0_7',\n",
       " 'pixel_1_0',\n",
       " 'pixel_1_1',\n",
       " 'pixel_1_2',\n",
       " 'pixel_1_3',\n",
       " 'pixel_1_4',\n",
       " 'pixel_1_5',\n",
       " 'pixel_1_6',\n",
       " 'pixel_1_7',\n",
       " 'pixel_2_0',\n",
       " 'pixel_2_1',\n",
       " 'pixel_2_2',\n",
       " 'pixel_2_3',\n",
       " 'pixel_2_4',\n",
       " 'pixel_2_5',\n",
       " 'pixel_2_6',\n",
       " 'pixel_2_7',\n",
       " 'pixel_3_0',\n",
       " 'pixel_3_1',\n",
       " 'pixel_3_2',\n",
       " 'pixel_3_3',\n",
       " 'pixel_3_4',\n",
       " 'pixel_3_5',\n",
       " 'pixel_3_6',\n",
       " 'pixel_3_7',\n",
       " 'pixel_4_0',\n",
       " 'pixel_4_1',\n",
       " 'pixel_4_2',\n",
       " 'pixel_4_3',\n",
       " 'pixel_4_4',\n",
       " 'pixel_4_5',\n",
       " 'pixel_4_6',\n",
       " 'pixel_4_7',\n",
       " 'pixel_5_0',\n",
       " 'pixel_5_1',\n",
       " 'pixel_5_2',\n",
       " 'pixel_5_3',\n",
       " 'pixel_5_4',\n",
       " 'pixel_5_5',\n",
       " 'pixel_5_6',\n",
       " 'pixel_5_7',\n",
       " 'pixel_6_0',\n",
       " 'pixel_6_1',\n",
       " 'pixel_6_2',\n",
       " 'pixel_6_3',\n",
       " 'pixel_6_4',\n",
       " 'pixel_6_5',\n",
       " 'pixel_6_6',\n",
       " 'pixel_6_7',\n",
       " 'pixel_7_0',\n",
       " 'pixel_7_1',\n",
       " 'pixel_7_2',\n",
       " 'pixel_7_3',\n",
       " 'pixel_7_4',\n",
       " 'pixel_7_5',\n",
       " 'pixel_7_6',\n",
       " 'pixel_7_7']"
      ]
     },
     "execution_count": 5,
     "metadata": {},
     "output_type": "execute_result"
    }
   ],
   "source": [
    "features = mnist.feature_names\n",
    "features"
   ]
  },
  {
   "cell_type": "code",
   "execution_count": 6,
   "metadata": {
    "execution": {
     "iopub.execute_input": "2020-11-19T17:08:04.254842Z",
     "iopub.status.busy": "2020-11-19T17:08:04.252252Z",
     "iopub.status.idle": "2020-11-19T17:08:04.275555Z",
     "shell.execute_reply": "2020-11-19T17:08:04.274883Z"
    },
    "papermill": {
     "duration": 0.073549,
     "end_time": "2020-11-19T17:08:04.275698",
     "exception": false,
     "start_time": "2020-11-19T17:08:04.202149",
     "status": "completed"
    },
    "tags": []
   },
   "outputs": [
    {
     "data": {
      "text/html": [
       "<div>\n",
       "<style scoped>\n",
       "    .dataframe tbody tr th:only-of-type {\n",
       "        vertical-align: middle;\n",
       "    }\n",
       "\n",
       "    .dataframe tbody tr th {\n",
       "        vertical-align: top;\n",
       "    }\n",
       "\n",
       "    .dataframe thead th {\n",
       "        text-align: right;\n",
       "    }\n",
       "</style>\n",
       "<table border=\"1\" class=\"dataframe\">\n",
       "  <thead>\n",
       "    <tr style=\"text-align: right;\">\n",
       "      <th></th>\n",
       "      <th>pixel_0_0</th>\n",
       "      <th>pixel_0_1</th>\n",
       "      <th>pixel_0_2</th>\n",
       "      <th>pixel_0_3</th>\n",
       "      <th>pixel_0_4</th>\n",
       "      <th>pixel_0_5</th>\n",
       "      <th>pixel_0_6</th>\n",
       "      <th>pixel_0_7</th>\n",
       "      <th>pixel_1_0</th>\n",
       "      <th>pixel_1_1</th>\n",
       "      <th>...</th>\n",
       "      <th>pixel_6_7</th>\n",
       "      <th>pixel_7_0</th>\n",
       "      <th>pixel_7_1</th>\n",
       "      <th>pixel_7_2</th>\n",
       "      <th>pixel_7_3</th>\n",
       "      <th>pixel_7_4</th>\n",
       "      <th>pixel_7_5</th>\n",
       "      <th>pixel_7_6</th>\n",
       "      <th>pixel_7_7</th>\n",
       "      <th>target</th>\n",
       "    </tr>\n",
       "  </thead>\n",
       "  <tbody>\n",
       "    <tr>\n",
       "      <th>0</th>\n",
       "      <td>0.0</td>\n",
       "      <td>0.0</td>\n",
       "      <td>5.0</td>\n",
       "      <td>13.0</td>\n",
       "      <td>9.0</td>\n",
       "      <td>1.0</td>\n",
       "      <td>0.0</td>\n",
       "      <td>0.0</td>\n",
       "      <td>0.0</td>\n",
       "      <td>0.0</td>\n",
       "      <td>...</td>\n",
       "      <td>0.0</td>\n",
       "      <td>0.0</td>\n",
       "      <td>0.0</td>\n",
       "      <td>6.0</td>\n",
       "      <td>13.0</td>\n",
       "      <td>10.0</td>\n",
       "      <td>0.0</td>\n",
       "      <td>0.0</td>\n",
       "      <td>0.0</td>\n",
       "      <td>0</td>\n",
       "    </tr>\n",
       "    <tr>\n",
       "      <th>1</th>\n",
       "      <td>0.0</td>\n",
       "      <td>0.0</td>\n",
       "      <td>0.0</td>\n",
       "      <td>12.0</td>\n",
       "      <td>13.0</td>\n",
       "      <td>5.0</td>\n",
       "      <td>0.0</td>\n",
       "      <td>0.0</td>\n",
       "      <td>0.0</td>\n",
       "      <td>0.0</td>\n",
       "      <td>...</td>\n",
       "      <td>0.0</td>\n",
       "      <td>0.0</td>\n",
       "      <td>0.0</td>\n",
       "      <td>0.0</td>\n",
       "      <td>11.0</td>\n",
       "      <td>16.0</td>\n",
       "      <td>10.0</td>\n",
       "      <td>0.0</td>\n",
       "      <td>0.0</td>\n",
       "      <td>1</td>\n",
       "    </tr>\n",
       "    <tr>\n",
       "      <th>2</th>\n",
       "      <td>0.0</td>\n",
       "      <td>0.0</td>\n",
       "      <td>0.0</td>\n",
       "      <td>4.0</td>\n",
       "      <td>15.0</td>\n",
       "      <td>12.0</td>\n",
       "      <td>0.0</td>\n",
       "      <td>0.0</td>\n",
       "      <td>0.0</td>\n",
       "      <td>0.0</td>\n",
       "      <td>...</td>\n",
       "      <td>0.0</td>\n",
       "      <td>0.0</td>\n",
       "      <td>0.0</td>\n",
       "      <td>0.0</td>\n",
       "      <td>3.0</td>\n",
       "      <td>11.0</td>\n",
       "      <td>16.0</td>\n",
       "      <td>9.0</td>\n",
       "      <td>0.0</td>\n",
       "      <td>2</td>\n",
       "    </tr>\n",
       "    <tr>\n",
       "      <th>3</th>\n",
       "      <td>0.0</td>\n",
       "      <td>0.0</td>\n",
       "      <td>7.0</td>\n",
       "      <td>15.0</td>\n",
       "      <td>13.0</td>\n",
       "      <td>1.0</td>\n",
       "      <td>0.0</td>\n",
       "      <td>0.0</td>\n",
       "      <td>0.0</td>\n",
       "      <td>8.0</td>\n",
       "      <td>...</td>\n",
       "      <td>0.0</td>\n",
       "      <td>0.0</td>\n",
       "      <td>0.0</td>\n",
       "      <td>7.0</td>\n",
       "      <td>13.0</td>\n",
       "      <td>13.0</td>\n",
       "      <td>9.0</td>\n",
       "      <td>0.0</td>\n",
       "      <td>0.0</td>\n",
       "      <td>3</td>\n",
       "    </tr>\n",
       "    <tr>\n",
       "      <th>4</th>\n",
       "      <td>0.0</td>\n",
       "      <td>0.0</td>\n",
       "      <td>0.0</td>\n",
       "      <td>1.0</td>\n",
       "      <td>11.0</td>\n",
       "      <td>0.0</td>\n",
       "      <td>0.0</td>\n",
       "      <td>0.0</td>\n",
       "      <td>0.0</td>\n",
       "      <td>0.0</td>\n",
       "      <td>...</td>\n",
       "      <td>0.0</td>\n",
       "      <td>0.0</td>\n",
       "      <td>0.0</td>\n",
       "      <td>0.0</td>\n",
       "      <td>2.0</td>\n",
       "      <td>16.0</td>\n",
       "      <td>4.0</td>\n",
       "      <td>0.0</td>\n",
       "      <td>0.0</td>\n",
       "      <td>4</td>\n",
       "    </tr>\n",
       "  </tbody>\n",
       "</table>\n",
       "<p>5 rows × 65 columns</p>\n",
       "</div>"
      ],
      "text/plain": [
       "   pixel_0_0  pixel_0_1  pixel_0_2  pixel_0_3  pixel_0_4  pixel_0_5  \\\n",
       "0        0.0        0.0        5.0       13.0        9.0        1.0   \n",
       "1        0.0        0.0        0.0       12.0       13.0        5.0   \n",
       "2        0.0        0.0        0.0        4.0       15.0       12.0   \n",
       "3        0.0        0.0        7.0       15.0       13.0        1.0   \n",
       "4        0.0        0.0        0.0        1.0       11.0        0.0   \n",
       "\n",
       "   pixel_0_6  pixel_0_7  pixel_1_0  pixel_1_1  ...  pixel_6_7  pixel_7_0  \\\n",
       "0        0.0        0.0        0.0        0.0  ...        0.0        0.0   \n",
       "1        0.0        0.0        0.0        0.0  ...        0.0        0.0   \n",
       "2        0.0        0.0        0.0        0.0  ...        0.0        0.0   \n",
       "3        0.0        0.0        0.0        8.0  ...        0.0        0.0   \n",
       "4        0.0        0.0        0.0        0.0  ...        0.0        0.0   \n",
       "\n",
       "   pixel_7_1  pixel_7_2  pixel_7_3  pixel_7_4  pixel_7_5  pixel_7_6  \\\n",
       "0        0.0        6.0       13.0       10.0        0.0        0.0   \n",
       "1        0.0        0.0       11.0       16.0       10.0        0.0   \n",
       "2        0.0        0.0        3.0       11.0       16.0        9.0   \n",
       "3        0.0        7.0       13.0       13.0        9.0        0.0   \n",
       "4        0.0        0.0        2.0       16.0        4.0        0.0   \n",
       "\n",
       "   pixel_7_7  target  \n",
       "0        0.0       0  \n",
       "1        0.0       1  \n",
       "2        0.0       2  \n",
       "3        0.0       3  \n",
       "4        0.0       4  \n",
       "\n",
       "[5 rows x 65 columns]"
      ]
     },
     "execution_count": 6,
     "metadata": {},
     "output_type": "execute_result"
    }
   ],
   "source": [
    "# A is data in dataset\n",
    "# B is target in the dataset\n",
    "df = pd.DataFrame(A, columns = mnist.feature_names)\n",
    "\n",
    "df['target'] = B\n",
    "df.head()"
   ]
  },
  {
   "cell_type": "markdown",
   "metadata": {
    "papermill": {
     "duration": 0.023131,
     "end_time": "2020-11-19T17:08:04.322559",
     "exception": false,
     "start_time": "2020-11-19T17:08:04.299428",
     "status": "completed"
    },
    "tags": []
   },
   "source": [
    "# Spliting and Shuffling features for training and testing"
   ]
  },
  {
   "cell_type": "code",
   "execution_count": 7,
   "metadata": {
    "execution": {
     "iopub.execute_input": "2020-11-19T17:08:04.376898Z",
     "iopub.status.busy": "2020-11-19T17:08:04.376098Z",
     "iopub.status.idle": "2020-11-19T17:08:04.432137Z",
     "shell.execute_reply": "2020-11-19T17:08:04.431419Z"
    },
    "papermill": {
     "duration": 0.086236,
     "end_time": "2020-11-19T17:08:04.432267",
     "exception": false,
     "start_time": "2020-11-19T17:08:04.346031",
     "status": "completed"
    },
    "tags": []
   },
   "outputs": [
    {
     "data": {
      "text/plain": [
       "((1437, 64), (360, 64), (1437,), (360,))"
      ]
     },
     "execution_count": 7,
     "metadata": {},
     "output_type": "execute_result"
    }
   ],
   "source": [
    "from sklearn.model_selection import train_test_split\n",
    "Atrain, Atest, Btrain, Btest = train_test_split(A,B,test_size = 0.2, shuffle = True)\n",
    "\n",
    "Atrain.shape, Atest.shape, Btrain.shape, Btest.shape"
   ]
  },
  {
   "cell_type": "markdown",
   "metadata": {
    "papermill": {
     "duration": 0.023689,
     "end_time": "2020-11-19T17:08:04.480164",
     "exception": false,
     "start_time": "2020-11-19T17:08:04.456475",
     "status": "completed"
    },
    "tags": []
   },
   "source": [
    "# Fitting the model using KNN classifer"
   ]
  },
  {
   "cell_type": "code",
   "execution_count": 8,
   "metadata": {
    "execution": {
     "iopub.execute_input": "2020-11-19T17:08:04.534384Z",
     "iopub.status.busy": "2020-11-19T17:08:04.533537Z",
     "iopub.status.idle": "2020-11-19T17:08:04.692676Z",
     "shell.execute_reply": "2020-11-19T17:08:04.691911Z"
    },
    "papermill": {
     "duration": 0.18866,
     "end_time": "2020-11-19T17:08:04.692806",
     "exception": false,
     "start_time": "2020-11-19T17:08:04.504146",
     "status": "completed"
    },
    "tags": []
   },
   "outputs": [
    {
     "data": {
      "text/plain": [
       "KNeighborsClassifier(n_neighbors=15)"
      ]
     },
     "execution_count": 8,
     "metadata": {},
     "output_type": "execute_result"
    }
   ],
   "source": [
    "from sklearn.neighbors import KNeighborsClassifier\n",
    "model = KNeighborsClassifier(n_neighbors=15)\n",
    "model.fit(Atrain,Btrain)"
   ]
  },
  {
   "cell_type": "code",
   "execution_count": 9,
   "metadata": {
    "execution": {
     "iopub.execute_input": "2020-11-19T17:08:04.749309Z",
     "iopub.status.busy": "2020-11-19T17:08:04.748476Z",
     "iopub.status.idle": "2020-11-19T17:08:04.831709Z",
     "shell.execute_reply": "2020-11-19T17:08:04.831075Z"
    },
    "papermill": {
     "duration": 0.113908,
     "end_time": "2020-11-19T17:08:04.831860",
     "exception": false,
     "start_time": "2020-11-19T17:08:04.717952",
     "status": "completed"
    },
    "tags": []
   },
   "outputs": [
    {
     "data": {
      "text/plain": [
       "array([0, 1, 3, 3, 1, 1, 3, 0, 6, 4, 6, 0, 5, 0, 0, 3, 1, 9, 5, 9, 8, 9,\n",
       "       6, 5, 5, 8, 5, 2, 8, 1, 8, 7, 0, 6, 7, 1, 5, 1, 2, 6, 8, 9, 2, 7,\n",
       "       6, 8, 5, 2, 9, 6, 1, 0, 2, 1, 1, 4, 3, 4, 9, 4, 9, 3, 9, 8, 3, 9,\n",
       "       7, 4, 9, 8, 7, 1, 4, 6, 7, 1, 5, 6, 1, 1, 6, 8, 4, 4, 3, 3, 0, 0,\n",
       "       7, 7, 3, 4, 6, 2, 0, 3, 4, 0, 2, 5, 4, 8, 5, 0, 7, 9, 7, 9, 7, 8,\n",
       "       4, 7, 9, 8, 3, 1, 7, 9, 7, 5, 8, 5, 3, 4, 2, 5, 8, 9, 7, 7, 9, 8,\n",
       "       7, 6, 5, 5, 4, 5, 8, 8, 7, 6, 5, 0, 9, 7, 7, 8, 9, 0, 5, 7, 5, 8,\n",
       "       3, 8, 3, 7, 5, 0, 5, 4, 5, 2, 6, 4, 9, 9, 0, 9, 7, 2, 2, 6, 7, 0,\n",
       "       6, 2, 9, 2, 2, 0, 9, 3, 6, 6, 3, 3, 8, 2, 0, 6, 9, 5, 4, 1, 5, 3,\n",
       "       4, 1, 8, 1, 0, 8, 3, 3, 6, 0, 6, 0, 4, 3, 5, 3, 0, 1, 0, 2, 1, 1,\n",
       "       8, 4, 1, 3, 3, 8, 4, 4, 9, 2, 4, 5, 5, 6, 5, 8, 3, 6, 0, 0, 2, 9,\n",
       "       4, 2, 1, 1, 2, 2, 7, 2, 5, 6, 7, 9, 6, 6, 8, 5, 3, 1, 8, 5, 1, 9,\n",
       "       5, 6, 6, 1, 4, 0, 5, 5, 1, 2, 6, 1, 7, 0, 8, 2, 4, 7, 3, 1, 8, 0,\n",
       "       2, 1, 4, 8, 0, 2, 2, 1, 1, 2, 7, 9, 6, 2, 5, 9, 8, 4, 3, 6, 1, 2,\n",
       "       5, 7, 4, 2, 7, 3, 5, 4, 9, 5, 6, 5, 6, 4, 7, 7, 4, 0, 5, 8, 3, 0,\n",
       "       9, 7, 4, 4, 8, 3, 6, 9, 5, 7, 2, 1, 2, 4, 8, 6, 8, 5, 3, 4, 6, 2,\n",
       "       2, 2, 3, 4, 7, 6, 9, 2])"
      ]
     },
     "execution_count": 9,
     "metadata": {},
     "output_type": "execute_result"
    }
   ],
   "source": [
    "results = model.predict(Atest)\n",
    "results"
   ]
  },
  {
   "cell_type": "markdown",
   "metadata": {
    "papermill": {
     "duration": 0.025095,
     "end_time": "2020-11-19T17:08:04.882625",
     "exception": false,
     "start_time": "2020-11-19T17:08:04.857530",
     "status": "completed"
    },
    "tags": []
   },
   "source": [
    "# Computing Accuracy of the model"
   ]
  },
  {
   "cell_type": "code",
   "execution_count": 10,
   "metadata": {
    "execution": {
     "iopub.execute_input": "2020-11-19T17:08:04.940750Z",
     "iopub.status.busy": "2020-11-19T17:08:04.939767Z",
     "iopub.status.idle": "2020-11-19T17:08:04.943999Z",
     "shell.execute_reply": "2020-11-19T17:08:04.944554Z"
    },
    "papermill": {
     "duration": 0.036907,
     "end_time": "2020-11-19T17:08:04.944722",
     "exception": false,
     "start_time": "2020-11-19T17:08:04.907815",
     "status": "completed"
    },
    "tags": []
   },
   "outputs": [
    {
     "data": {
      "text/plain": [
       "0.9694444444444444"
      ]
     },
     "execution_count": 10,
     "metadata": {},
     "output_type": "execute_result"
    }
   ],
   "source": [
    "from sklearn.metrics import accuracy_score\n",
    "accuracy = accuracy_score(results,Btest)\n",
    "accuracy"
   ]
  },
  {
   "cell_type": "markdown",
   "metadata": {
    "papermill": {
     "duration": 0.025546,
     "end_time": "2020-11-19T17:08:04.996347",
     "exception": false,
     "start_time": "2020-11-19T17:08:04.970801",
     "status": "completed"
    },
    "tags": []
   },
   "source": [
    "# Confusion matrix of the model"
   ]
  },
  {
   "cell_type": "code",
   "execution_count": 11,
   "metadata": {
    "execution": {
     "iopub.execute_input": "2020-11-19T17:08:05.054778Z",
     "iopub.status.busy": "2020-11-19T17:08:05.053945Z",
     "iopub.status.idle": "2020-11-19T17:08:05.730156Z",
     "shell.execute_reply": "2020-11-19T17:08:05.730713Z"
    },
    "papermill": {
     "duration": 0.708669,
     "end_time": "2020-11-19T17:08:05.730929",
     "exception": false,
     "start_time": "2020-11-19T17:08:05.022260",
     "status": "completed"
    },
    "tags": []
   },
   "outputs": [
    {
     "data": {
      "text/plain": [
       "<sklearn.metrics._plot.confusion_matrix.ConfusionMatrixDisplay at 0x7f4a9997d5d0>"
      ]
     },
     "execution_count": 11,
     "metadata": {},
     "output_type": "execute_result"
    },
    {
     "data": {
      "image/png": "[encoded data removed]",
      "text/plain": [
       "<Figure size 432x288 with 2 Axes>"
      ]
     },
     "metadata": {
      "needs_background": "light"
     },
     "output_type": "display_data"
    }
   ],
   "source": [
    "from sklearn.metrics import plot_confusion_matrix\n",
    "plot_confusion_matrix(model,Atest,Btest)"
   ]
  },
  {
   "cell_type": "markdown",
   "metadata": {
    "papermill": {
     "duration": 0.02711,
     "end_time": "2020-11-19T17:08:05.785988",
     "exception": false,
     "start_time": "2020-11-19T17:08:05.758878",
     "status": "completed"
    },
    "tags": []
   },
   "source": [
    "# Classification of the model"
   ]
  },
  {
   "cell_type": "code",
   "execution_count": 12,
   "metadata": {
    "execution": {
     "iopub.execute_input": "2020-11-19T17:08:05.847730Z",
     "iopub.status.busy": "2020-11-19T17:08:05.846919Z",
     "iopub.status.idle": "2020-11-19T17:08:05.857439Z",
     "shell.execute_reply": "2020-11-19T17:08:05.858361Z"
    },
    "papermill": {
     "duration": 0.045113,
     "end_time": "2020-11-19T17:08:05.858602",
     "exception": false,
     "start_time": "2020-11-19T17:08:05.813489",
     "status": "completed"
    },
    "tags": []
   },
   "outputs": [
    {
     "name": "stdout",
     "output_type": "stream",
     "text": [
      "              precision    recall  f1-score   support\n",
      "\n",
      "           0       1.00      0.97      0.98        33\n",
      "           1       0.97      0.97      0.97        35\n",
      "           2       1.00      1.00      1.00        37\n",
      "           3       1.00      0.97      0.99        35\n",
      "           4       0.97      0.92      0.95        39\n",
      "           5       1.00      0.93      0.97        45\n",
      "           6       0.95      1.00      0.97        35\n",
      "           7       0.97      1.00      0.99        35\n",
      "           8       0.89      0.97      0.93        33\n",
      "           9       0.94      0.97      0.96        33\n",
      "\n",
      "    accuracy                           0.97       360\n",
      "   macro avg       0.97      0.97      0.97       360\n",
      "weighted avg       0.97      0.97      0.97       360\n",
      "\n"
     ]
    }
   ],
   "source": [
    "from sklearn.metrics import classification_report\n",
    "print(classification_report(Btest,results))"
   ]
  },
  {
   "cell_type": "code",
   "execution_count": 13,
   "metadata": {
    "execution": {
     "iopub.execute_input": "2020-11-19T17:08:05.922432Z",
     "iopub.status.busy": "2020-11-19T17:08:05.921347Z",
     "iopub.status.idle": "2020-11-19T17:08:05.925032Z",
     "shell.execute_reply": "2020-11-19T17:08:05.924347Z"
    },
    "papermill": {
     "duration": 0.037487,
     "end_time": "2020-11-19T17:08:05.925163",
     "exception": false,
     "start_time": "2020-11-19T17:08:05.887676",
     "status": "completed"
    },
    "tags": []
   },
   "outputs": [],
   "source": [
    "total_train_accuracy = []\n",
    "total_test_accuracy = []\n",
    "neighbors = np.arange(1,9)"
   ]
  },
  {
   "cell_type": "code",
   "execution_count": 14,
   "metadata": {
    "execution": {
     "iopub.execute_input": "2020-11-19T17:08:05.990811Z",
     "iopub.status.busy": "2020-11-19T17:08:05.990013Z",
     "iopub.status.idle": "2020-11-19T17:08:08.696311Z",
     "shell.execute_reply": "2020-11-19T17:08:08.695575Z"
    },
    "papermill": {
     "duration": 2.742699,
     "end_time": "2020-11-19T17:08:08.696447",
     "exception": false,
     "start_time": "2020-11-19T17:08:05.953748",
     "status": "completed"
    },
    "tags": []
   },
   "outputs": [],
   "source": [
    "for i in range(8):\n",
    "    knn= KNeighborsClassifier(n_neighbors = i+1)\n",
    "    #fitting the classifier to training data\n",
    "    knn.fit(Atrain,Btrain)\n",
    "    \n",
    "    train_accuracy = knn.score(Atrain,Btrain)\n",
    "    \n",
    "    test_accuracy = knn.score(Atest,Btest)\n",
    "    \n",
    "    total_train_accuracy.append(train_accuracy)\n",
    "    total_test_accuracy.append(test_accuracy)"
   ]
  },
  {
   "cell_type": "code",
   "execution_count": 15,
   "metadata": {
    "execution": {
     "iopub.execute_input": "2020-11-19T17:08:08.768490Z",
     "iopub.status.busy": "2020-11-19T17:08:08.766128Z",
     "iopub.status.idle": "2020-11-19T17:08:08.973669Z",
     "shell.execute_reply": "2020-11-19T17:08:08.972980Z"
    },
    "papermill": {
     "duration": 0.248592,
     "end_time": "2020-11-19T17:08:08.973816",
     "exception": false,
     "start_time": "2020-11-19T17:08:08.725224",
     "status": "completed"
    },
    "tags": []
   },
   "outputs": [
    {
     "data": {
      "image/png": "[encoded data removed]",
      "text/plain": [
       "<Figure size 432x288 with 1 Axes>"
      ]
     },
     "metadata": {
      "needs_background": "light"
     },
     "output_type": "display_data"
    }
   ],
   "source": [
    "#Generating a plot of the tained and tested data\n",
    "plt.title('KNN: Verifying Number of Neighbours')\n",
    "plt.plot(neighbors,total_train_accuracy, label = 'Train Accuracy' )\n",
    "plt.plot(neighbors,total_test_accuracy, label = 'Test Accuracy' )\n",
    "plt.legend()\n",
    "plt.xlabel('Numbers of Neighbors')\n",
    "plt.ylabel('Accuracy')\n",
    "plt.show()"
   ]
  },
  {
   "cell_type": "markdown",
   "metadata": {
    "papermill": {
     "duration": 0.029353,
     "end_time": "2020-11-19T17:08:09.033734",
     "exception": false,
     "start_time": "2020-11-19T17:08:09.004381",
     "status": "completed"
    },
    "tags": []
   },
   "source": [
    "The model is underfitting because as the training data is increasing the accuracy is decreasing"
   ]
  }
 ],
 "metadata": {
  "kernelspec": {
   "display_name": "Python 3",
   "language": "python",
   "name": "python3"
  },
  "language_info": {
   "codemirror_mode": {
    "name": "ipython",
    "version": 3
   },
   "file_extension": ".py",
   "mimetype": "text/x-python",
   "name": "python",
   "nbconvert_exporter": "python",
   "pygments_lexer": "ipython3",
   "version": "3.8.3"
  },
  "papermill": {
   "duration": 12.835945,
   "end_time": "2020-11-19T17:08:09.171322",
   "environment_variables": {},
   "exception": null,
   "input_path": "__notebook__.ipynb",
   "output_path": "__notebook__.ipynb",
   "parameters": {},
   "start_time": "2020-11-19T17:07:56.335377",
   "version": "2.1.0"
  }
 },
 "nbformat": 4,
 "nbformat_minor": 4
}
