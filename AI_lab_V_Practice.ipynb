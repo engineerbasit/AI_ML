{
 "cells": [
  {
   "cell_type": "markdown",
   "metadata": {},
   "source": [
    "# AI Lab-5\n",
    "## Supervised Machine Learning-Sklearn\n",
    "### Author : Abdul Basit"
   ]
  },
  {
   "cell_type": "markdown",
   "metadata": {},
   "source": [
    "### Lab Practice\n"
   ]
  },
  {
   "cell_type": "code",
   "execution_count": 1,
   "metadata": {
    "_cell_guid": "b1076dfc-b9ad-4769-8c92-a6c4dae69d19",
    "_uuid": "8f2839f25d086af736a60e9eeb907d3b93b6e0e5",
    "execution": {
     "iopub.execute_input": "2020-11-13T14:00:45.691011Z",
     "iopub.status.busy": "2020-11-13T14:00:45.690188Z",
     "iopub.status.idle": "2020-11-13T14:00:46.803795Z",
     "shell.execute_reply": "2020-11-13T14:00:46.803068Z"
    },
    "papermill": {
     "duration": 1.143528,
     "end_time": "2020-11-13T14:00:46.803927",
     "exception": false,
     "start_time": "2020-11-13T14:00:45.660399",
     "status": "completed"
    },
    "tags": []
   },
   "outputs": [
    {
     "data": {
      "text/plain": [
       "sklearn.utils.Bunch"
      ]
     },
     "execution_count": 1,
     "metadata": {},
     "output_type": "execute_result"
    }
   ],
   "source": [
    "from sklearn import datasets\n",
    "import matplotlib.pyplot as plt\n",
    "import pandas as pd\n",
    "import numpy as np\n",
    "\n",
    "iris = datasets.load_iris()\n",
    "type(iris)"
   ]
  },
  {
   "cell_type": "code",
   "execution_count": 2,
   "metadata": {
    "_cell_guid": "79c7e3d0-c299-4dcb-8224-4455121ee9b0",
    "_uuid": "d629ff2d2480ee46fbb7e2d37f6b5fab8052498a",
    "execution": {
     "iopub.execute_input": "2020-11-13T14:00:46.853587Z",
     "iopub.status.busy": "2020-11-13T14:00:46.852513Z",
     "iopub.status.idle": "2020-11-13T14:00:46.857171Z",
     "shell.execute_reply": "2020-11-13T14:00:46.856559Z"
    },
    "papermill": {
     "duration": 0.031788,
     "end_time": "2020-11-13T14:00:46.857348",
     "exception": false,
     "start_time": "2020-11-13T14:00:46.825560",
     "status": "completed"
    },
    "tags": []
   },
   "outputs": [
    {
     "data": {
      "text/plain": [
       "dict_keys(['data', 'target', 'frame', 'target_names', 'DESCR', 'feature_names', 'filename'])"
      ]
     },
     "execution_count": 2,
     "metadata": {},
     "output_type": "execute_result"
    }
   ],
   "source": [
    "iris.keys()"
   ]
  },
  {
   "cell_type": "code",
   "execution_count": 3,
   "metadata": {
    "execution": {
     "iopub.execute_input": "2020-11-13T14:00:46.906363Z",
     "iopub.status.busy": "2020-11-13T14:00:46.905447Z",
     "iopub.status.idle": "2020-11-13T14:00:46.910113Z",
     "shell.execute_reply": "2020-11-13T14:00:46.909368Z"
    },
    "papermill": {
     "duration": 0.031428,
     "end_time": "2020-11-13T14:00:46.910255",
     "exception": false,
     "start_time": "2020-11-13T14:00:46.878827",
     "status": "completed"
    },
    "tags": []
   },
   "outputs": [
    {
     "data": {
      "text/plain": [
       "['sepal length (cm)',\n",
       " 'sepal width (cm)',\n",
       " 'petal length (cm)',\n",
       " 'petal width (cm)']"
      ]
     },
     "execution_count": 3,
     "metadata": {},
     "output_type": "execute_result"
    }
   ],
   "source": [
    "iris.feature_names"
   ]
  },
  {
   "cell_type": "code",
   "execution_count": 5,
   "metadata": {
    "execution": {
     "iopub.execute_input": "2020-11-13T14:00:47.026774Z",
     "iopub.status.busy": "2020-11-13T14:00:47.025820Z",
     "iopub.status.idle": "2020-11-13T14:00:47.031413Z",
     "shell.execute_reply": "2020-11-13T14:00:47.030652Z"
    },
    "papermill": {
     "duration": 0.033479,
     "end_time": "2020-11-13T14:00:47.031537",
     "exception": false,
     "start_time": "2020-11-13T14:00:46.998058",
     "status": "completed"
    },
    "tags": []
   },
   "outputs": [
    {
     "data": {
      "text/plain": [
       "(150, 4)"
      ]
     },
     "execution_count": 5,
     "metadata": {},
     "output_type": "execute_result"
    }
   ],
   "source": [
    "iris.data.shape"
   ]
  },
  {
   "cell_type": "code",
   "execution_count": 6,
   "metadata": {
    "execution": {
     "iopub.execute_input": "2020-11-13T14:00:47.084183Z",
     "iopub.status.busy": "2020-11-13T14:00:47.083299Z",
     "iopub.status.idle": "2020-11-13T14:00:47.087796Z",
     "shell.execute_reply": "2020-11-13T14:00:47.087161Z"
    },
    "papermill": {
     "duration": 0.032803,
     "end_time": "2020-11-13T14:00:47.087927",
     "exception": false,
     "start_time": "2020-11-13T14:00:47.055124",
     "status": "completed"
    },
    "tags": []
   },
   "outputs": [
    {
     "data": {
      "text/plain": [
       "(150,)"
      ]
     },
     "execution_count": 6,
     "metadata": {},
     "output_type": "execute_result"
    }
   ],
   "source": [
    "iris.target.shape"
   ]
  },
  {
   "cell_type": "code",
   "execution_count": 7,
   "metadata": {
    "execution": {
     "iopub.execute_input": "2020-11-13T14:00:47.157380Z",
     "iopub.status.busy": "2020-11-13T14:00:47.156508Z",
     "iopub.status.idle": "2020-11-13T14:00:47.167645Z",
     "shell.execute_reply": "2020-11-13T14:00:47.166894Z"
    },
    "papermill": {
     "duration": 0.055826,
     "end_time": "2020-11-13T14:00:47.167814",
     "exception": false,
     "start_time": "2020-11-13T14:00:47.111988",
     "status": "completed"
    },
    "tags": []
   },
   "outputs": [
    {
     "data": {
      "text/html": [
       "<div>\n",
       "<style scoped>\n",
       "    .dataframe tbody tr th:only-of-type {\n",
       "        vertical-align: middle;\n",
       "    }\n",
       "\n",
       "    .dataframe tbody tr th {\n",
       "        vertical-align: top;\n",
       "    }\n",
       "\n",
       "    .dataframe thead th {\n",
       "        text-align: right;\n",
       "    }\n",
       "</style>\n",
       "<table border=\"1\" class=\"dataframe\">\n",
       "  <thead>\n",
       "    <tr style=\"text-align: right;\">\n",
       "      <th></th>\n",
       "      <th>sepal length (cm)</th>\n",
       "      <th>sepal width (cm)</th>\n",
       "      <th>petal length (cm)</th>\n",
       "      <th>petal width (cm)</th>\n",
       "      <th>target</th>\n",
       "    </tr>\n",
       "  </thead>\n",
       "  <tbody>\n",
       "    <tr>\n",
       "      <th>0</th>\n",
       "      <td>5.1</td>\n",
       "      <td>3.5</td>\n",
       "      <td>1.4</td>\n",
       "      <td>0.2</td>\n",
       "      <td>0</td>\n",
       "    </tr>\n",
       "    <tr>\n",
       "      <th>1</th>\n",
       "      <td>4.9</td>\n",
       "      <td>3.0</td>\n",
       "      <td>1.4</td>\n",
       "      <td>0.2</td>\n",
       "      <td>0</td>\n",
       "    </tr>\n",
       "    <tr>\n",
       "      <th>2</th>\n",
       "      <td>4.7</td>\n",
       "      <td>3.2</td>\n",
       "      <td>1.3</td>\n",
       "      <td>0.2</td>\n",
       "      <td>0</td>\n",
       "    </tr>\n",
       "    <tr>\n",
       "      <th>3</th>\n",
       "      <td>4.6</td>\n",
       "      <td>3.1</td>\n",
       "      <td>1.5</td>\n",
       "      <td>0.2</td>\n",
       "      <td>0</td>\n",
       "    </tr>\n",
       "    <tr>\n",
       "      <th>4</th>\n",
       "      <td>5.0</td>\n",
       "      <td>3.6</td>\n",
       "      <td>1.4</td>\n",
       "      <td>0.2</td>\n",
       "      <td>0</td>\n",
       "    </tr>\n",
       "  </tbody>\n",
       "</table>\n",
       "</div>"
      ],
      "text/plain": [
       "   sepal length (cm)  sepal width (cm)  petal length (cm)  petal width (cm)  \\\n",
       "0                5.1               3.5                1.4               0.2   \n",
       "1                4.9               3.0                1.4               0.2   \n",
       "2                4.7               3.2                1.3               0.2   \n",
       "3                4.6               3.1                1.5               0.2   \n",
       "4                5.0               3.6                1.4               0.2   \n",
       "\n",
       "   target  \n",
       "0       0  \n",
       "1       0  \n",
       "2       0  \n",
       "3       0  \n",
       "4       0  "
      ]
     },
     "execution_count": 7,
     "metadata": {},
     "output_type": "execute_result"
    }
   ],
   "source": [
    "X = iris.data\n",
    "Y = iris.target\n",
    "df = pd.DataFrame(X, columns = iris.feature_names)\n",
    "\n",
    "df['target'] = Y\n",
    "df.head()"
   ]
  },
  {
   "cell_type": "markdown",
   "metadata": {
    "papermill": {
     "duration": 0.024505,
     "end_time": "2020-11-13T14:00:47.217703",
     "exception": false,
     "start_time": "2020-11-13T14:00:47.193198",
     "status": "completed"
    },
    "tags": []
   },
   "source": [
    "**KNN Classifier**"
   ]
  },
  {
   "cell_type": "code",
   "execution_count": 8,
   "metadata": {
    "execution": {
     "iopub.execute_input": "2020-11-13T14:00:47.273305Z",
     "iopub.status.busy": "2020-11-13T14:00:47.272440Z",
     "iopub.status.idle": "2020-11-13T14:00:47.497391Z",
     "shell.execute_reply": "2020-11-13T14:00:47.496612Z"
    },
    "papermill": {
     "duration": 0.254895,
     "end_time": "2020-11-13T14:00:47.497516",
     "exception": false,
     "start_time": "2020-11-13T14:00:47.242621",
     "status": "completed"
    },
    "tags": []
   },
   "outputs": [],
   "source": [
    "from sklearn.neighbors import KNeighborsClassifier\n",
    "model = KNeighborsClassifier(n_neighbors=6)"
   ]
  },
  {
   "cell_type": "code",
   "execution_count": 9,
   "metadata": {
    "execution": {
     "iopub.execute_input": "2020-11-13T14:00:47.553480Z",
     "iopub.status.busy": "2020-11-13T14:00:47.552692Z",
     "iopub.status.idle": "2020-11-13T14:00:47.562316Z",
     "shell.execute_reply": "2020-11-13T14:00:47.561568Z"
    },
    "papermill": {
     "duration": 0.039733,
     "end_time": "2020-11-13T14:00:47.562446",
     "exception": false,
     "start_time": "2020-11-13T14:00:47.522713",
     "status": "completed"
    },
    "tags": []
   },
   "outputs": [
    {
     "data": {
      "text/plain": [
       "KNeighborsClassifier(n_neighbors=6)"
      ]
     },
     "execution_count": 9,
     "metadata": {},
     "output_type": "execute_result"
    }
   ],
   "source": [
    "model.fit(X,Y)"
   ]
  },
  {
   "cell_type": "code",
   "execution_count": 10,
   "metadata": {
    "execution": {
     "iopub.execute_input": "2020-11-13T14:00:47.623233Z",
     "iopub.status.busy": "2020-11-13T14:00:47.622033Z",
     "iopub.status.idle": "2020-11-13T14:00:47.628277Z",
     "shell.execute_reply": "2020-11-13T14:00:47.627616Z"
    },
    "papermill": {
     "duration": 0.040011,
     "end_time": "2020-11-13T14:00:47.628404",
     "exception": false,
     "start_time": "2020-11-13T14:00:47.588393",
     "status": "completed"
    },
    "tags": []
   },
   "outputs": [
    {
     "data": {
      "text/plain": [
       "array([0, 0, 2])"
      ]
     },
     "execution_count": 10,
     "metadata": {},
     "output_type": "execute_result"
    }
   ],
   "source": [
    "sample = np.array([[5,3.4,1.3,0.2],[4.8,3.1,1.4,0.2],[5.9,3.0,5.1,1.8]])\n",
    "result = model.predict(sample)\n",
    "result"
   ]
  },
  {
   "cell_type": "code",
   "execution_count": 11,
   "metadata": {
    "execution": {
     "iopub.execute_input": "2020-11-13T14:00:47.691414Z",
     "iopub.status.busy": "2020-11-13T14:00:47.690305Z",
     "iopub.status.idle": "2020-11-13T14:00:47.695170Z",
     "shell.execute_reply": "2020-11-13T14:00:47.694428Z"
    },
    "papermill": {
     "duration": 0.039414,
     "end_time": "2020-11-13T14:00:47.695299",
     "exception": false,
     "start_time": "2020-11-13T14:00:47.655885",
     "status": "completed"
    },
    "tags": []
   },
   "outputs": [
    {
     "data": {
      "text/plain": [
       "((120, 4), (30, 4), (120,), (30,))"
      ]
     },
     "execution_count": 11,
     "metadata": {},
     "output_type": "execute_result"
    }
   ],
   "source": [
    "from sklearn.model_selection import train_test_split\n",
    "Xtrain, Xtest, Ytrain, Ytest = train_test_split(X,Y,test_size = 0.2, shuffle = True)\n",
    "\n",
    "Xtrain.shape, Xtest.shape, Ytrain.shape, Ytest.shape"
   ]
  },
  {
   "cell_type": "code",
   "execution_count": 12,
   "metadata": {
    "execution": {
     "iopub.execute_input": "2020-11-13T14:00:47.757479Z",
     "iopub.status.busy": "2020-11-13T14:00:47.756278Z",
     "iopub.status.idle": "2020-11-13T14:00:47.761315Z",
     "shell.execute_reply": "2020-11-13T14:00:47.760550Z"
    },
    "papermill": {
     "duration": 0.039042,
     "end_time": "2020-11-13T14:00:47.761440",
     "exception": false,
     "start_time": "2020-11-13T14:00:47.722398",
     "status": "completed"
    },
    "tags": []
   },
   "outputs": [
    {
     "data": {
      "text/plain": [
       "KNeighborsClassifier(n_neighbors=6)"
      ]
     },
     "execution_count": 12,
     "metadata": {},
     "output_type": "execute_result"
    }
   ],
   "source": [
    "model.fit(Xtrain,Ytrain)"
   ]
  },
  {
   "cell_type": "code",
   "execution_count": 13,
   "metadata": {
    "execution": {
     "iopub.execute_input": "2020-11-13T14:00:47.826308Z",
     "iopub.status.busy": "2020-11-13T14:00:47.825413Z",
     "iopub.status.idle": "2020-11-13T14:00:47.831617Z",
     "shell.execute_reply": "2020-11-13T14:00:47.830978Z"
    },
    "papermill": {
     "duration": 0.042077,
     "end_time": "2020-11-13T14:00:47.831763",
     "exception": false,
     "start_time": "2020-11-13T14:00:47.789686",
     "status": "completed"
    },
    "tags": []
   },
   "outputs": [
    {
     "data": {
      "text/plain": [
       "array([1, 0, 1, 1, 1, 1, 0, 0, 1, 2, 2, 0, 0, 1, 1, 0, 0, 2, 2, 2, 2, 2,\n",
       "       0, 0, 2, 1, 2, 0, 2, 2])"
      ]
     },
     "execution_count": 13,
     "metadata": {},
     "output_type": "execute_result"
    }
   ],
   "source": [
    "results = model.predict(Xtest)\n",
    "results"
   ]
  },
  {
   "cell_type": "code",
   "execution_count": 14,
   "metadata": {
    "execution": {
     "iopub.execute_input": "2020-11-13T14:00:47.896982Z",
     "iopub.status.busy": "2020-11-13T14:00:47.896073Z",
     "iopub.status.idle": "2020-11-13T14:00:47.900889Z",
     "shell.execute_reply": "2020-11-13T14:00:47.900059Z"
    },
    "papermill": {
     "duration": 0.040611,
     "end_time": "2020-11-13T14:00:47.901023",
     "exception": false,
     "start_time": "2020-11-13T14:00:47.860412",
     "status": "completed"
    },
    "tags": []
   },
   "outputs": [
    {
     "data": {
      "text/plain": [
       "0.9"
      ]
     },
     "execution_count": 14,
     "metadata": {},
     "output_type": "execute_result"
    }
   ],
   "source": [
    "from sklearn.metrics import accuracy_score\n",
    "accuracy = accuracy_score(results,Ytest)\n",
    "accuracy"
   ]
  },
  {
   "cell_type": "code",
   "execution_count": 15,
   "metadata": {
    "execution": {
     "iopub.execute_input": "2020-11-13T14:00:47.966007Z",
     "iopub.status.busy": "2020-11-13T14:00:47.964995Z",
     "iopub.status.idle": "2020-11-13T14:00:47.972989Z",
     "shell.execute_reply": "2020-11-13T14:00:47.972379Z"
    },
    "papermill": {
     "duration": 0.043139,
     "end_time": "2020-11-13T14:00:47.973125",
     "exception": false,
     "start_time": "2020-11-13T14:00:47.929986",
     "status": "completed"
    },
    "tags": []
   },
   "outputs": [
    {
     "data": {
      "text/plain": [
       "0.9"
      ]
     },
     "execution_count": 15,
     "metadata": {},
     "output_type": "execute_result"
    }
   ],
   "source": [
    "#Alternate direct method to calculate the accuracy:\n",
    "model.score(Xtest,Ytest)"
   ]
  },
  {
   "cell_type": "code",
   "execution_count": 16,
   "metadata": {
    "execution": {
     "iopub.execute_input": "2020-11-13T14:00:48.039913Z",
     "iopub.status.busy": "2020-11-13T14:00:48.038529Z",
     "iopub.status.idle": "2020-11-13T14:00:48.295515Z",
     "shell.execute_reply": "2020-11-13T14:00:48.294766Z"
    },
    "papermill": {
     "duration": 0.292806,
     "end_time": "2020-11-13T14:00:48.295642",
     "exception": false,
     "start_time": "2020-11-13T14:00:48.002836",
     "status": "completed"
    },
    "tags": []
   },
   "outputs": [
    {
     "data": {
      "text/plain": [
       "<sklearn.metrics._plot.confusion_matrix.ConfusionMatrixDisplay at 0x7fe719feaed0>"
      ]
     },
     "execution_count": 16,
     "metadata": {},
     "output_type": "execute_result"
    },
    {
     "data": {
      "image/png": "[encoded data removed]",
      "text/plain": [
       "<Figure size 432x288 with 2 Axes>"
      ]
     },
     "metadata": {
      "needs_background": "light"
     },
     "output_type": "display_data"
    }
   ],
   "source": [
    "#Plotting the confusion matrix of the model on test: \n",
    "from sklearn.metrics import plot_confusion_matrix\n",
    "plot_confusion_matrix(model,Xtest,Ytest)"
   ]
  },
  {
   "cell_type": "code",
   "execution_count": 17,
   "metadata": {
    "execution": {
     "iopub.execute_input": "2020-11-13T14:00:48.405412Z",
     "iopub.status.busy": "2020-11-13T14:00:48.404276Z",
     "iopub.status.idle": "2020-11-13T14:00:48.412794Z",
     "shell.execute_reply": "2020-11-13T14:00:48.411986Z"
    },
    "papermill": {
     "duration": 0.082357,
     "end_time": "2020-11-13T14:00:48.412969",
     "exception": false,
     "start_time": "2020-11-13T14:00:48.330612",
     "status": "completed"
    },
    "tags": []
   },
   "outputs": [
    {
     "name": "stdout",
     "output_type": "stream",
     "text": [
      "              precision    recall  f1-score   support\n",
      "\n",
      "           0       1.00      1.00      1.00        10\n",
      "           1       0.89      0.80      0.84        10\n",
      "           2       0.82      0.90      0.86        10\n",
      "\n",
      "    accuracy                           0.90        30\n",
      "   macro avg       0.90      0.90      0.90        30\n",
      "weighted avg       0.90      0.90      0.90        30\n",
      "\n"
     ]
    }
   ],
   "source": [
    "from sklearn.metrics import classification_report\n",
    "print(classification_report(Ytest,results))"
   ]
  },
  {
   "cell_type": "markdown",
   "metadata": {
    "papermill": {
     "duration": 0.031159,
     "end_time": "2020-11-13T14:00:48.476506",
     "exception": false,
     "start_time": "2020-11-13T14:00:48.445347",
     "status": "completed"
    },
    "tags": []
   },
   "source": [
    "# Examining Under fitting and over fitting and in Machine learning: "
   ]
  },
  {
   "cell_type": "code",
   "execution_count": 18,
   "metadata": {
    "execution": {
     "iopub.execute_input": "2020-11-13T14:00:48.550671Z",
     "iopub.status.busy": "2020-11-13T14:00:48.549388Z",
     "iopub.status.idle": "2020-11-13T14:00:48.551966Z",
     "shell.execute_reply": "2020-11-13T14:00:48.552910Z"
    },
    "papermill": {
     "duration": 0.040352,
     "end_time": "2020-11-13T14:00:48.553138",
     "exception": false,
     "start_time": "2020-11-13T14:00:48.512786",
     "status": "completed"
    },
    "tags": []
   },
   "outputs": [],
   "source": [
    "total_train_accuracy = []\n",
    "total_test_accuracy = []\n",
    "neighbors = np.arange(1,9)"
   ]
  },
  {
   "cell_type": "markdown",
   "metadata": {
    "papermill": {
     "duration": 0.031216,
     "end_time": "2020-11-13T14:00:48.626357",
     "exception": false,
     "start_time": "2020-11-13T14:00:48.595141",
     "status": "completed"
    },
    "tags": []
   },
   "source": [
    "Using for loop to iterate over each value of K from 1 to 8 to calculate and store the values of training and testing accuracies in defined list:"
   ]
  },
  {
   "cell_type": "code",
   "execution_count": 19,
   "metadata": {
    "execution": {
     "iopub.execute_input": "2020-11-13T14:00:48.712833Z",
     "iopub.status.busy": "2020-11-13T14:00:48.711675Z",
     "iopub.status.idle": "2020-11-13T14:00:48.811115Z",
     "shell.execute_reply": "2020-11-13T14:00:48.810400Z"
    },
    "papermill": {
     "duration": 0.149883,
     "end_time": "2020-11-13T14:00:48.811267",
     "exception": false,
     "start_time": "2020-11-13T14:00:48.661384",
     "status": "completed"
    },
    "tags": []
   },
   "outputs": [],
   "source": [
    "for i in range(8):\n",
    "    knn= KNeighborsClassifier(n_neighbors = i+1)\n",
    "    #fitting the classifier to training data\n",
    "    knn.fit(Xtrain,Ytrain)\n",
    "    \n",
    "    train_accuracy = knn.score(Xtrain,Ytrain)\n",
    "    \n",
    "    test_accuracy = knn.score(Xtest,Ytest)\n",
    "    \n",
    "    total_train_accuracy.append(train_accuracy)\n",
    "    total_test_accuracy.append(test_accuracy)\n",
    "    "
   ]
  },
  {
   "cell_type": "code",
   "execution_count": 20,
   "metadata": {
    "execution": {
     "iopub.execute_input": "2020-11-13T14:00:48.917124Z",
     "iopub.status.busy": "2020-11-13T14:00:48.915896Z",
     "iopub.status.idle": "2020-11-13T14:00:49.112538Z",
     "shell.execute_reply": "2020-11-13T14:00:49.111911Z"
    },
    "papermill": {
     "duration": 0.257161,
     "end_time": "2020-11-13T14:00:49.112667",
     "exception": false,
     "start_time": "2020-11-13T14:00:48.855506",
     "status": "completed"
    },
    "tags": []
   },
   "outputs": [
    {
     "data": {
      "image/png": "[encoded data removed]",
      "text/plain": [
       "<Figure size 432x288 with 1 Axes>"
      ]
     },
     "metadata": {
      "needs_background": "light"
     },
     "output_type": "display_data"
    }
   ],
   "source": [
    "#Generating a plot of the tained and tested data\n",
    "plt.title('KNN: Verifying Number of Neighbours')\n",
    "plt.plot(neighbors,total_train_accuracy, label = 'Train Accuracy' )\n",
    "plt.plot(neighbors,total_test_accuracy, label = 'Test Accuracy' )\n",
    "plt.legend()\n",
    "plt.xlabel('Numbers of Neighbors')\n",
    "plt.ylabel('Accuracy')\n",
    "plt.show()\n"
   ]
  },
  {
   "cell_type": "markdown",
   "metadata": {
    "papermill": {
     "duration": 0.032441,
     "end_time": "2020-11-13T14:00:49.179203",
     "exception": false,
     "start_time": "2020-11-13T14:00:49.146762",
     "status": "completed"
    },
    "tags": []
   },
   "source": [
    "# Plotting an image of from the Mnist dataset:  \n",
    "# Loading the Mnist dataset from sklearn and separating the features and labels: "
   ]
  },
  {
   "cell_type": "code",
   "execution_count": 21,
   "metadata": {
    "execution": {
     "iopub.execute_input": "2020-11-13T14:00:49.250606Z",
     "iopub.status.busy": "2020-11-13T14:00:49.249808Z",
     "iopub.status.idle": "2020-11-13T14:00:49.458484Z",
     "shell.execute_reply": "2020-11-13T14:00:49.457867Z"
    },
    "papermill": {
     "duration": 0.24713,
     "end_time": "2020-11-13T14:00:49.458618",
     "exception": false,
     "start_time": "2020-11-13T14:00:49.211488",
     "status": "completed"
    },
    "tags": []
   },
   "outputs": [
    {
     "data": {
      "text/plain": [
       "(array([[ 0.,  0.,  5., ...,  0.,  0.,  0.],\n",
       "        [ 0.,  0.,  0., ..., 10.,  0.,  0.],\n",
       "        [ 0.,  0.,  0., ..., 16.,  9.,  0.],\n",
       "        ...,\n",
       "        [ 0.,  0.,  1., ...,  6.,  0.,  0.],\n",
       "        [ 0.,  0.,  2., ..., 12.,  0.,  0.],\n",
       "        [ 0.,  0., 10., ..., 12.,  1.,  0.]]),\n",
       " array([0, 1, 2, ..., 8, 9, 8]))"
      ]
     },
     "execution_count": 21,
     "metadata": {},
     "output_type": "execute_result"
    }
   ],
   "source": [
    "mnist = datasets.load_digits()\n",
    "mnist.target_names\n",
    "A= mnist.data\n",
    "B = mnist.target\n",
    "A,B\n"
   ]
  },
  {
   "cell_type": "code",
   "execution_count": 22,
   "metadata": {
    "execution": {
     "iopub.execute_input": "2020-11-13T14:00:49.539063Z",
     "iopub.status.busy": "2020-11-13T14:00:49.537237Z",
     "iopub.status.idle": "2020-11-13T14:00:49.703066Z",
     "shell.execute_reply": "2020-11-13T14:00:49.703799Z"
    },
    "papermill": {
     "duration": 0.211989,
     "end_time": "2020-11-13T14:00:49.703959",
     "exception": false,
     "start_time": "2020-11-13T14:00:49.491970",
     "status": "completed"
    },
    "tags": []
   },
   "outputs": [
    {
     "data": {
      "image/png": "[encoded data removed]",
      "text/plain": [
       "<Figure size 432x288 with 1 Axes>"
      ]
     },
     "metadata": {
      "needs_background": "light"
     },
     "output_type": "display_data"
    }
   ],
   "source": [
    "sample = 9\n",
    "image = A[sample]\n",
    "image = image.reshape(8,8)\n",
    "\n",
    "plt.imshow(image)\n",
    "plt.show()"
   ]
  },
  {
   "cell_type": "code",
   "execution_count": null,
   "metadata": {
    "papermill": {
     "duration": 0.034104,
     "end_time": "2020-11-13T14:00:49.773116",
     "exception": false,
     "start_time": "2020-11-13T14:00:49.739012",
     "status": "completed"
    },
    "tags": []
   },
   "outputs": [],
   "source": []
  }
 ],
 "metadata": {
  "kernelspec": {
   "display_name": "Python 3",
   "language": "python",
   "name": "python3"
  },
  "language_info": {
   "codemirror_mode": {
    "name": "ipython",
    "version": 3
   },
   "file_extension": ".py",
   "mimetype": "text/x-python",
   "name": "python",
   "nbconvert_exporter": "python",
   "pygments_lexer": "ipython3",
   "version": "3.8.3"
  },
  "papermill": {
   "duration": 9.270356,
   "end_time": "2020-11-13T14:00:49.916150",
   "environment_variables": {},
   "exception": null,
   "input_path": "__notebook__.ipynb",
   "output_path": "__notebook__.ipynb",
   "parameters": {},
   "start_time": "2020-11-13T14:00:40.645794",
   "version": "2.1.0"
  }
 },
 "nbformat": 4,
 "nbformat_minor": 4
}
