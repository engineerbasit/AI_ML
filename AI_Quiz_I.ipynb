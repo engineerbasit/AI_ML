{
 "cells": [
  {
   "cell_type": "markdown",
   "metadata": {},
   "source": [
    "# AI Quiz-I\n",
    "## Author : Abdul Basit"
   ]
  },
  {
   "cell_type": "markdown",
   "metadata": {},
   "source": [
    "# Question 1"
   ]
  },
  {
   "cell_type": "code",
   "execution_count": 1,
   "metadata": {},
   "outputs": [],
   "source": [
    "# Link for this dataset\n",
    "## https://www.kaggle.com/abbasitc/ai-labi-dataset"
   ]
  },
  {
   "cell_type": "code",
   "execution_count": null,
   "metadata": {
    "_cell_guid": "79c7e3d0-c299-4dcb-8224-4455121ee9b0",
    "_uuid": "d629ff2d2480ee46fbb7e2d37f6b5fab8052498a"
   },
   "outputs": [],
   "source": [
    "import pandas as pd\n",
    "import matplotlib.pyplot as plt\n",
    "d = pd.read_excel('../input/ai-labi-dataset/Dataset-Lab-AI.xlsx', index_col = 'Indicator Name')\n",
    "xlsx = pd.ExcelFile('../input/ai-labi-dataset/Dataset-Lab-AI.xlsx')\n",
    "df = pd.read_excel(xlsx, 'Sheet1')\n",
    "df.head()\n",
    "\n",
    "#Code for reading dataset as Pandas Frame"
   ]
  },
  {
   "cell_type": "markdown",
   "metadata": {},
   "source": [
    "# Question 2"
   ]
  },
  {
   "cell_type": "code",
   "execution_count": null,
   "metadata": {},
   "outputs": [],
   "source": [
    "x = d.loc['GDP growth (annual %)']\n",
    "x,x.plot()"
   ]
  },
  {
   "cell_type": "markdown",
   "metadata": {},
   "source": [
    "# Question 3"
   ]
  },
  {
   "cell_type": "code",
   "execution_count": null,
   "metadata": {},
   "outputs": [],
   "source": [
    "RP = d.loc['Rural population']\n",
    "norm = RP/max(RP)\n",
    "print(norm)\n",
    "norm.plot()\n",
    "\n"
   ]
  },
  {
   "cell_type": "markdown",
   "metadata": {},
   "source": [
    "The rural Population is halving by Normalization."
   ]
  },
  {
   "cell_type": "markdown",
   "metadata": {},
   "source": [
    "# Question 4"
   ]
  },
  {
   "cell_type": "code",
   "execution_count": null,
   "metadata": {},
   "outputs": [],
   "source": [
    "male = d.loc['Life expectancy at birth, female (years)']\n",
    "female = d.loc['Life expectancy at birth, female (years)']\n",
    "mm = male.mean()\n",
    "fm = female.mean()\n",
    "\n",
    "male.plot(kind = 'bar')\n"
   ]
  },
  {
   "cell_type": "code",
   "execution_count": null,
   "metadata": {},
   "outputs": [],
   "source": [
    "female.plot(kind = 'bar')"
   ]
  },
  {
   "cell_type": "code",
   "execution_count": null,
   "metadata": {},
   "outputs": [],
   "source": [
    "#mean of male and females\n",
    "mm,fm\n",
    "\n"
   ]
  },
  {
   "cell_type": "markdown",
   "metadata": {},
   "source": [
    "From the graphs it is observed that the average life expectancy of males and females in Pakistan is increasing yearly."
   ]
  },
  {
   "cell_type": "markdown",
   "metadata": {},
   "source": [
    "# Question 5"
   ]
  },
  {
   "cell_type": "code",
   "execution_count": null,
   "metadata": {},
   "outputs": [],
   "source": [
    "male_lr = d.loc['Literacy rate, youth male (% of males ages 15-24)']\n",
    "female_lr = d.loc['Literacy rate, youth female (% of females ages 15-24)']\n",
    "\n",
    "male_lr,female_lr"
   ]
  },
  {
   "cell_type": "code",
   "execution_count": null,
   "metadata": {},
   "outputs": [],
   "source": [
    "#Female literacy rate in histogram\n",
    "plt.hist(female_lr,bins = len(female_lr),alpha = 0.7,rwidth=0.8)\n"
   ]
  },
  {
   "cell_type": "code",
   "execution_count": null,
   "metadata": {},
   "outputs": [],
   "source": [
    "#Male literacy rate in histogram\n",
    "plt.hist(male_lr,bins = len(male_lr),alpha = 0.7,rwidth=0.8)"
   ]
  },
  {
   "cell_type": "markdown",
   "metadata": {},
   "source": [
    "# Question 6"
   ]
  },
  {
   "cell_type": "code",
   "execution_count": null,
   "metadata": {},
   "outputs": [],
   "source": [
    "male_pop = d.loc['Population, male (% of total population)']\n",
    "female_pop = d.loc['Population, female (% of total population)']\n",
    "\n"
   ]
  },
  {
   "cell_type": "code",
   "execution_count": null,
   "metadata": {},
   "outputs": [],
   "source": [
    "# Male population bar plot\n",
    "male_pop.plot(kind = 'bar')\n",
    "male_pop.max()"
   ]
  },
  {
   "cell_type": "code",
   "execution_count": null,
   "metadata": {},
   "outputs": [],
   "source": [
    "#Female population bar plot\n",
    "female_pop.plot(kind = 'bar')\n",
    "female_pop.max()\n"
   ]
  },
  {
   "cell_type": "code",
   "execution_count": null,
   "metadata": {},
   "outputs": [],
   "source": [
    "# Years of maximum population of males and females\n",
    "female_pop.idxmax(),male_pop.idxmax()"
   ]
  },
  {
   "cell_type": "markdown",
   "metadata": {},
   "source": [
    "# Question 7"
   ]
  },
  {
   "cell_type": "code",
   "execution_count": null,
   "metadata": {},
   "outputs": [],
   "source": [
    "female_lr.dropna(),male_lr.dropna()"
   ]
  },
  {
   "cell_type": "code",
   "execution_count": null,
   "metadata": {},
   "outputs": [],
   "source": [
    "female_lr.plot(),male_lr.plot()\n"
   ]
  },
  {
   "cell_type": "code",
   "execution_count": null,
   "metadata": {},
   "outputs": [],
   "source": [
    "#Comparing the literacy rate of males and females\n",
    "x = male_lr.compare(female_lr)"
   ]
  },
  {
   "cell_type": "code",
   "execution_count": null,
   "metadata": {},
   "outputs": [],
   "source": [
    "#Comparing plot of literacy rates\n",
    "x.plot()\n",
    "plt.title('Literacy Rates of Males and Females')\n",
    "plt.xlabel('Years')\n",
    "plt.ylabel('Literacy rate')"
   ]
  },
  {
   "cell_type": "code",
   "execution_count": null,
   "metadata": {},
   "outputs": [],
   "source": [
    "# Difference in both  literacy rates\n",
    "diff = (male_lr) - (female_lr)\n",
    "diff"
   ]
  },
  {
   "cell_type": "markdown",
   "metadata": {},
   "source": [
    "We can conclude from the difference of the graphs that Male have more literacy rate Females"
   ]
  }
 ],
 "metadata": {
  "kernelspec": {
   "display_name": "Python 3",
   "language": "python",
   "name": "python3"
  },
  "language_info": {
   "codemirror_mode": {
    "name": "ipython",
    "version": 3
   },
   "file_extension": ".py",
   "mimetype": "text/x-python",
   "name": "python",
   "nbconvert_exporter": "python",
   "pygments_lexer": "ipython3",
   "version": "3.8.3"
  }
 },
 "nbformat": 4,
 "nbformat_minor": 4
}
