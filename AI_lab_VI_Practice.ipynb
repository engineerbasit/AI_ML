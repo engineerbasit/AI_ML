{
 "cells": [
  {
   "cell_type": "markdown",
   "metadata": {},
   "source": [
    "# AI Lab-6\n",
    "## Regression, feature selection and PCA\n",
    "### Author : Abdul Basit"
   ]
  },
  {
   "cell_type": "markdown",
   "metadata": {},
   "source": [
    "### Lab Practice"
   ]
  },
  {
   "cell_type": "code",
   "execution_count": 2,
   "metadata": {
    "execution": {
     "iopub.execute_input": "2020-11-20T14:54:16.040920Z",
     "iopub.status.busy": "2020-11-20T14:54:16.040095Z",
     "iopub.status.idle": "2020-11-20T14:54:17.248561Z",
     "shell.execute_reply": "2020-11-20T14:54:17.247724Z"
    },
    "papermill": {
     "duration": 1.248017,
     "end_time": "2020-11-20T14:54:17.248715",
     "exception": false,
     "start_time": "2020-11-20T14:54:16.000698",
     "status": "completed"
    },
    "tags": []
   },
   "outputs": [],
   "source": [
    "# importing all necessary libraries\n",
    "import pandas as pd\n",
    "from sklearn import datasets\n",
    "import matplotlib.pyplot as plt\n",
    "from sklearn.decomposition import PCA\n",
    "import sklearn as sk"
   ]
  },
  {
   "cell_type": "code",
   "execution_count": 3,
   "metadata": {
    "_cell_guid": "79c7e3d0-c299-4dcb-8224-4455121ee9b0",
    "_uuid": "d629ff2d2480ee46fbb7e2d37f6b5fab8052498a",
    "execution": {
     "iopub.execute_input": "2020-11-20T14:54:17.318252Z",
     "iopub.status.busy": "2020-11-20T14:54:17.317245Z",
     "iopub.status.idle": "2020-11-20T14:54:17.349039Z",
     "shell.execute_reply": "2020-11-20T14:54:17.349732Z"
    },
    "papermill": {
     "duration": 0.068996,
     "end_time": "2020-11-20T14:54:17.349924",
     "exception": false,
     "start_time": "2020-11-20T14:54:17.280928",
     "status": "completed"
    },
    "tags": []
   },
   "outputs": [],
   "source": [
    "boston = datasets.load_boston()"
   ]
  },
  {
   "cell_type": "code",
   "execution_count": 3,
   "metadata": {
    "execution": {
     "iopub.execute_input": "2020-11-20T14:54:17.421709Z",
     "iopub.status.busy": "2020-11-20T14:54:17.420671Z",
     "iopub.status.idle": "2020-11-20T14:54:17.425562Z",
     "shell.execute_reply": "2020-11-20T14:54:17.424887Z"
    },
    "papermill": {
     "duration": 0.043321,
     "end_time": "2020-11-20T14:54:17.425688",
     "exception": false,
     "start_time": "2020-11-20T14:54:17.382367",
     "status": "completed"
    },
    "tags": []
   },
   "outputs": [
    {
     "data": {
      "text/plain": [
       "dict_keys(['data', 'target', 'feature_names', 'DESCR', 'filename'])"
      ]
     },
     "execution_count": 3,
     "metadata": {},
     "output_type": "execute_result"
    }
   ],
   "source": [
    "a = boston.keys()\n",
    "a"
   ]
  },
  {
   "cell_type": "code",
   "execution_count": 4,
   "metadata": {
    "execution": {
     "iopub.execute_input": "2020-11-20T14:54:17.497890Z",
     "iopub.status.busy": "2020-11-20T14:54:17.496800Z",
     "iopub.status.idle": "2020-11-20T14:54:17.501352Z",
     "shell.execute_reply": "2020-11-20T14:54:17.500638Z"
    },
    "papermill": {
     "duration": 0.04274,
     "end_time": "2020-11-20T14:54:17.501496",
     "exception": false,
     "start_time": "2020-11-20T14:54:17.458756",
     "status": "completed"
    },
    "tags": []
   },
   "outputs": [
    {
     "data": {
      "text/plain": [
       "(506, 13)"
      ]
     },
     "execution_count": 4,
     "metadata": {},
     "output_type": "execute_result"
    }
   ],
   "source": [
    "boston.data.shape"
   ]
  },
  {
   "cell_type": "code",
   "execution_count": 5,
   "metadata": {
    "execution": {
     "iopub.execute_input": "2020-11-20T14:54:17.582239Z",
     "iopub.status.busy": "2020-11-20T14:54:17.581112Z",
     "iopub.status.idle": "2020-11-20T14:54:17.586361Z",
     "shell.execute_reply": "2020-11-20T14:54:17.585208Z"
    },
    "papermill": {
     "duration": 0.05197,
     "end_time": "2020-11-20T14:54:17.586515",
     "exception": false,
     "start_time": "2020-11-20T14:54:17.534545",
     "status": "completed"
    },
    "tags": []
   },
   "outputs": [
    {
     "name": "stdout",
     "output_type": "stream",
     "text": [
      "[[6.3200e-03 1.8000e+01 2.3100e+00 ... 1.5300e+01 3.9690e+02 4.9800e+00]\n",
      " [2.7310e-02 0.0000e+00 7.0700e+00 ... 1.7800e+01 3.9690e+02 9.1400e+00]\n",
      " [2.7290e-02 0.0000e+00 7.0700e+00 ... 1.7800e+01 3.9283e+02 4.0300e+00]\n",
      " ...\n",
      " [6.0760e-02 0.0000e+00 1.1930e+01 ... 2.1000e+01 3.9690e+02 5.6400e+00]\n",
      " [1.0959e-01 0.0000e+00 1.1930e+01 ... 2.1000e+01 3.9345e+02 6.4800e+00]\n",
      " [4.7410e-02 0.0000e+00 1.1930e+01 ... 2.1000e+01 3.9690e+02 7.8800e+00]]\n",
      "\n",
      "\n",
      "[24.  21.6 34.7 33.4 36.2 28.7 22.9 27.1 16.5 18.9 15.  18.9 21.7 20.4\n",
      " 18.2 19.9 23.1 17.5 20.2 18.2 13.6 19.6 15.2 14.5 15.6 13.9 16.6 14.8\n",
      " 18.4 21.  12.7 14.5 13.2 13.1 13.5 18.9 20.  21.  24.7 30.8 34.9 26.6\n",
      " 25.3 24.7 21.2 19.3 20.  16.6 14.4 19.4 19.7 20.5 25.  23.4 18.9 35.4\n",
      " 24.7 31.6 23.3 19.6 18.7 16.  22.2 25.  33.  23.5 19.4 22.  17.4 20.9\n",
      " 24.2 21.7 22.8 23.4 24.1 21.4 20.  20.8 21.2 20.3 28.  23.9 24.8 22.9\n",
      " 23.9 26.6 22.5 22.2 23.6 28.7 22.6 22.  22.9 25.  20.6 28.4 21.4 38.7\n",
      " 43.8 33.2 27.5 26.5 18.6 19.3 20.1 19.5 19.5 20.4 19.8 19.4 21.7 22.8\n",
      " 18.8 18.7 18.5 18.3 21.2 19.2 20.4 19.3 22.  20.3 20.5 17.3 18.8 21.4\n",
      " 15.7 16.2 18.  14.3 19.2 19.6 23.  18.4 15.6 18.1 17.4 17.1 13.3 17.8\n",
      " 14.  14.4 13.4 15.6 11.8 13.8 15.6 14.6 17.8 15.4 21.5 19.6 15.3 19.4\n",
      " 17.  15.6 13.1 41.3 24.3 23.3 27.  50.  50.  50.  22.7 25.  50.  23.8\n",
      " 23.8 22.3 17.4 19.1 23.1 23.6 22.6 29.4 23.2 24.6 29.9 37.2 39.8 36.2\n",
      " 37.9 32.5 26.4 29.6 50.  32.  29.8 34.9 37.  30.5 36.4 31.1 29.1 50.\n",
      " 33.3 30.3 34.6 34.9 32.9 24.1 42.3 48.5 50.  22.6 24.4 22.5 24.4 20.\n",
      " 21.7 19.3 22.4 28.1 23.7 25.  23.3 28.7 21.5 23.  26.7 21.7 27.5 30.1\n",
      " 44.8 50.  37.6 31.6 46.7 31.5 24.3 31.7 41.7 48.3 29.  24.  25.1 31.5\n",
      " 23.7 23.3 22.  20.1 22.2 23.7 17.6 18.5 24.3 20.5 24.5 26.2 24.4 24.8\n",
      " 29.6 42.8 21.9 20.9 44.  50.  36.  30.1 33.8 43.1 48.8 31.  36.5 22.8\n",
      " 30.7 50.  43.5 20.7 21.1 25.2 24.4 35.2 32.4 32.  33.2 33.1 29.1 35.1\n",
      " 45.4 35.4 46.  50.  32.2 22.  20.1 23.2 22.3 24.8 28.5 37.3 27.9 23.9\n",
      " 21.7 28.6 27.1 20.3 22.5 29.  24.8 22.  26.4 33.1 36.1 28.4 33.4 28.2\n",
      " 22.8 20.3 16.1 22.1 19.4 21.6 23.8 16.2 17.8 19.8 23.1 21.  23.8 23.1\n",
      " 20.4 18.5 25.  24.6 23.  22.2 19.3 22.6 19.8 17.1 19.4 22.2 20.7 21.1\n",
      " 19.5 18.5 20.6 19.  18.7 32.7 16.5 23.9 31.2 17.5 17.2 23.1 24.5 26.6\n",
      " 22.9 24.1 18.6 30.1 18.2 20.6 17.8 21.7 22.7 22.6 25.  19.9 20.8 16.8\n",
      " 21.9 27.5 21.9 23.1 50.  50.  50.  50.  50.  13.8 13.8 15.  13.9 13.3\n",
      " 13.1 10.2 10.4 10.9 11.3 12.3  8.8  7.2 10.5  7.4 10.2 11.5 15.1 23.2\n",
      "  9.7 13.8 12.7 13.1 12.5  8.5  5.   6.3  5.6  7.2 12.1  8.3  8.5  5.\n",
      " 11.9 27.9 17.2 27.5 15.  17.2 17.9 16.3  7.   7.2  7.5 10.4  8.8  8.4\n",
      " 16.7 14.2 20.8 13.4 11.7  8.3 10.2 10.9 11.   9.5 14.5 14.1 16.1 14.3\n",
      " 11.7 13.4  9.6  8.7  8.4 12.8 10.5 17.1 18.4 15.4 10.8 11.8 14.9 12.6\n",
      " 14.1 13.  13.4 15.2 16.1 17.8 14.9 14.1 12.7 13.5 14.9 20.  16.4 17.7\n",
      " 19.5 20.2 21.4 19.9 19.  19.1 19.1 20.1 19.9 19.6 23.2 29.8 13.8 13.3\n",
      " 16.7 12.  14.6 21.4 23.  23.7 25.  21.8 20.6 21.2 19.1 20.6 15.2  7.\n",
      "  8.1 13.6 20.1 21.8 24.5 23.1 19.7 18.3 21.2 17.5 16.8 22.4 20.6 23.9\n",
      " 22.  11.9]\n",
      "\n",
      "\n",
      "['CRIM' 'ZN' 'INDUS' 'CHAS' 'NOX' 'RM' 'AGE' 'DIS' 'RAD' 'TAX' 'PTRATIO'\n",
      " 'B' 'LSTAT']\n",
      "\n",
      "\n",
      ".. _boston_dataset:\n",
      "\n",
      "Boston house prices dataset\n",
      "---------------------------\n",
      "\n",
      "**Data Set Characteristics:**  \n",
      "\n",
      "    :Number of Instances: 506 \n",
      "\n",
      "    :Number of Attributes: 13 numeric/categorical predictive. Median Value (attribute 14) is usually the target.\n",
      "\n",
      "    :Attribute Information (in order):\n",
      "        - CRIM     per capita crime rate by town\n",
      "        - ZN       proportion of residential land zoned for lots over 25,000 sq.ft.\n",
      "        - INDUS    proportion of non-retail business acres per town\n",
      "        - CHAS     Charles River dummy variable (= 1 if tract bounds river; 0 otherwise)\n",
      "        - NOX      nitric oxides concentration (parts per 10 million)\n",
      "        - RM       average number of rooms per dwelling\n",
      "        - AGE      proportion of owner-occupied units built prior to 1940\n",
      "        - DIS      weighted distances to five Boston employment centres\n",
      "        - RAD      index of accessibility to radial highways\n",
      "        - TAX      full-value property-tax rate per $10,000\n",
      "        - PTRATIO  pupil-teacher ratio by town\n",
      "        - B        1000(Bk - 0.63)^2 where Bk is the proportion of blacks by town\n",
      "        - LSTAT    % lower status of the population\n",
      "        - MEDV     Median value of owner-occupied homes in $1000's\n",
      "\n",
      "    :Missing Attribute Values: None\n",
      "\n",
      "    :Creator: Harrison, D. and Rubinfeld, D.L.\n",
      "\n",
      "This is a copy of UCI ML housing dataset.\n",
      "https://archive.ics.uci.edu/ml/machine-learning-databases/housing/\n",
      "\n",
      "\n",
      "This dataset was taken from the StatLib library which is maintained at Carnegie Mellon University.\n",
      "\n",
      "The Boston house-price data of Harrison, D. and Rubinfeld, D.L. 'Hedonic\n",
      "prices and the demand for clean air', J. Environ. Economics & Management,\n",
      "vol.5, 81-102, 1978.   Used in Belsley, Kuh & Welsch, 'Regression diagnostics\n",
      "...', Wiley, 1980.   N.B. Various transformations are used in the table on\n",
      "pages 244-261 of the latter.\n",
      "\n",
      "The Boston house-price data has been used in many machine learning papers that address regression\n",
      "problems.   \n",
      "     \n",
      ".. topic:: References\n",
      "\n",
      "   - Belsley, Kuh & Welsch, 'Regression diagnostics: Identifying Influential Data and Sources of Collinearity', Wiley, 1980. 244-261.\n",
      "   - Quinlan,R. (1993). Combining Instance-Based and Model-Based Learning. In Proceedings on the Tenth International Conference of Machine Learning, 236-243, University of Massachusetts, Amherst. Morgan Kaufmann.\n",
      "\n",
      "\n",
      "\n",
      "/opt/conda/lib/python3.7/site-packages/sklearn/datasets/data/boston_house_prices.csv\n",
      "\n",
      "\n"
     ]
    }
   ],
   "source": [
    "for i in a:\n",
    "    print (boston[i])\n",
    "    print('\\n')"
   ]
  },
  {
   "cell_type": "code",
   "execution_count": 6,
   "metadata": {
    "execution": {
     "iopub.execute_input": "2020-11-20T14:54:17.660422Z",
     "iopub.status.busy": "2020-11-20T14:54:17.659313Z",
     "iopub.status.idle": "2020-11-20T14:54:17.663745Z",
     "shell.execute_reply": "2020-11-20T14:54:17.663024Z"
    },
    "papermill": {
     "duration": 0.043487,
     "end_time": "2020-11-20T14:54:17.663869",
     "exception": false,
     "start_time": "2020-11-20T14:54:17.620382",
     "status": "completed"
    },
    "tags": []
   },
   "outputs": [
    {
     "data": {
      "text/plain": [
       "(506, 13)"
      ]
     },
     "execution_count": 6,
     "metadata": {},
     "output_type": "execute_result"
    }
   ],
   "source": [
    "boston.data.shape"
   ]
  },
  {
   "cell_type": "markdown",
   "metadata": {
    "papermill": {
     "duration": 0.034242,
     "end_time": "2020-11-20T14:54:17.732622",
     "exception": false,
     "start_time": "2020-11-20T14:54:17.698380",
     "status": "completed"
    },
    "tags": []
   },
   "source": [
    "Separating the features and labels"
   ]
  },
  {
   "cell_type": "code",
   "execution_count": 7,
   "metadata": {
    "execution": {
     "iopub.execute_input": "2020-11-20T14:54:17.809113Z",
     "iopub.status.busy": "2020-11-20T14:54:17.808090Z",
     "iopub.status.idle": "2020-11-20T14:54:17.812883Z",
     "shell.execute_reply": "2020-11-20T14:54:17.812290Z"
    },
    "papermill": {
     "duration": 0.045905,
     "end_time": "2020-11-20T14:54:17.813011",
     "exception": false,
     "start_time": "2020-11-20T14:54:17.767106",
     "status": "completed"
    },
    "tags": []
   },
   "outputs": [
    {
     "data": {
      "text/plain": [
       "((506, 13), (506,))"
      ]
     },
     "execution_count": 7,
     "metadata": {},
     "output_type": "execute_result"
    }
   ],
   "source": [
    "b_data = boston.data\n",
    "b_target = boston.target\n",
    "b_data.shape, b_target.shape"
   ]
  },
  {
   "cell_type": "markdown",
   "metadata": {
    "papermill": {
     "duration": 0.035047,
     "end_time": "2020-11-20T14:54:17.883112",
     "exception": false,
     "start_time": "2020-11-20T14:54:17.848065",
     "status": "completed"
    },
    "tags": []
   },
   "source": [
    "Converting data from arrays to give it a better look:\n"
   ]
  },
  {
   "cell_type": "code",
   "execution_count": 8,
   "metadata": {
    "execution": {
     "iopub.execute_input": "2020-11-20T14:54:17.978352Z",
     "iopub.status.busy": "2020-11-20T14:54:17.962791Z",
     "iopub.status.idle": "2020-11-20T14:54:17.993656Z",
     "shell.execute_reply": "2020-11-20T14:54:17.992887Z"
    },
    "papermill": {
     "duration": 0.075446,
     "end_time": "2020-11-20T14:54:17.993785",
     "exception": false,
     "start_time": "2020-11-20T14:54:17.918339",
     "status": "completed"
    },
    "tags": []
   },
   "outputs": [
    {
     "data": {
      "text/html": [
       "<div>\n",
       "<style scoped>\n",
       "    .dataframe tbody tr th:only-of-type {\n",
       "        vertical-align: middle;\n",
       "    }\n",
       "\n",
       "    .dataframe tbody tr th {\n",
       "        vertical-align: top;\n",
       "    }\n",
       "\n",
       "    .dataframe thead th {\n",
       "        text-align: right;\n",
       "    }\n",
       "</style>\n",
       "<table border=\"1\" class=\"dataframe\">\n",
       "  <thead>\n",
       "    <tr style=\"text-align: right;\">\n",
       "      <th></th>\n",
       "      <th>CRIM</th>\n",
       "      <th>ZN</th>\n",
       "      <th>INDUS</th>\n",
       "      <th>CHAS</th>\n",
       "      <th>NOX</th>\n",
       "      <th>RM</th>\n",
       "      <th>AGE</th>\n",
       "      <th>DIS</th>\n",
       "      <th>RAD</th>\n",
       "      <th>TAX</th>\n",
       "      <th>PTRATIO</th>\n",
       "      <th>B</th>\n",
       "      <th>LSTAT</th>\n",
       "      <th>Price</th>\n",
       "    </tr>\n",
       "  </thead>\n",
       "  <tbody>\n",
       "    <tr>\n",
       "      <th>0</th>\n",
       "      <td>0.00632</td>\n",
       "      <td>18.0</td>\n",
       "      <td>2.31</td>\n",
       "      <td>0.0</td>\n",
       "      <td>0.538</td>\n",
       "      <td>6.575</td>\n",
       "      <td>65.2</td>\n",
       "      <td>4.0900</td>\n",
       "      <td>1.0</td>\n",
       "      <td>296.0</td>\n",
       "      <td>15.3</td>\n",
       "      <td>396.90</td>\n",
       "      <td>4.98</td>\n",
       "      <td>24.0</td>\n",
       "    </tr>\n",
       "    <tr>\n",
       "      <th>1</th>\n",
       "      <td>0.02731</td>\n",
       "      <td>0.0</td>\n",
       "      <td>7.07</td>\n",
       "      <td>0.0</td>\n",
       "      <td>0.469</td>\n",
       "      <td>6.421</td>\n",
       "      <td>78.9</td>\n",
       "      <td>4.9671</td>\n",
       "      <td>2.0</td>\n",
       "      <td>242.0</td>\n",
       "      <td>17.8</td>\n",
       "      <td>396.90</td>\n",
       "      <td>9.14</td>\n",
       "      <td>21.6</td>\n",
       "    </tr>\n",
       "    <tr>\n",
       "      <th>2</th>\n",
       "      <td>0.02729</td>\n",
       "      <td>0.0</td>\n",
       "      <td>7.07</td>\n",
       "      <td>0.0</td>\n",
       "      <td>0.469</td>\n",
       "      <td>7.185</td>\n",
       "      <td>61.1</td>\n",
       "      <td>4.9671</td>\n",
       "      <td>2.0</td>\n",
       "      <td>242.0</td>\n",
       "      <td>17.8</td>\n",
       "      <td>392.83</td>\n",
       "      <td>4.03</td>\n",
       "      <td>34.7</td>\n",
       "    </tr>\n",
       "    <tr>\n",
       "      <th>3</th>\n",
       "      <td>0.03237</td>\n",
       "      <td>0.0</td>\n",
       "      <td>2.18</td>\n",
       "      <td>0.0</td>\n",
       "      <td>0.458</td>\n",
       "      <td>6.998</td>\n",
       "      <td>45.8</td>\n",
       "      <td>6.0622</td>\n",
       "      <td>3.0</td>\n",
       "      <td>222.0</td>\n",
       "      <td>18.7</td>\n",
       "      <td>394.63</td>\n",
       "      <td>2.94</td>\n",
       "      <td>33.4</td>\n",
       "    </tr>\n",
       "    <tr>\n",
       "      <th>4</th>\n",
       "      <td>0.06905</td>\n",
       "      <td>0.0</td>\n",
       "      <td>2.18</td>\n",
       "      <td>0.0</td>\n",
       "      <td>0.458</td>\n",
       "      <td>7.147</td>\n",
       "      <td>54.2</td>\n",
       "      <td>6.0622</td>\n",
       "      <td>3.0</td>\n",
       "      <td>222.0</td>\n",
       "      <td>18.7</td>\n",
       "      <td>396.90</td>\n",
       "      <td>5.33</td>\n",
       "      <td>36.2</td>\n",
       "    </tr>\n",
       "  </tbody>\n",
       "</table>\n",
       "</div>"
      ],
      "text/plain": [
       "      CRIM    ZN  INDUS  CHAS    NOX     RM   AGE     DIS  RAD    TAX  \\\n",
       "0  0.00632  18.0   2.31   0.0  0.538  6.575  65.2  4.0900  1.0  296.0   \n",
       "1  0.02731   0.0   7.07   0.0  0.469  6.421  78.9  4.9671  2.0  242.0   \n",
       "2  0.02729   0.0   7.07   0.0  0.469  7.185  61.1  4.9671  2.0  242.0   \n",
       "3  0.03237   0.0   2.18   0.0  0.458  6.998  45.8  6.0622  3.0  222.0   \n",
       "4  0.06905   0.0   2.18   0.0  0.458  7.147  54.2  6.0622  3.0  222.0   \n",
       "\n",
       "   PTRATIO       B  LSTAT  Price  \n",
       "0     15.3  396.90   4.98   24.0  \n",
       "1     17.8  396.90   9.14   21.6  \n",
       "2     17.8  392.83   4.03   34.7  \n",
       "3     18.7  394.63   2.94   33.4  \n",
       "4     18.7  396.90   5.33   36.2  "
      ]
     },
     "execution_count": 8,
     "metadata": {},
     "output_type": "execute_result"
    }
   ],
   "source": [
    "df_boston = pd.DataFrame(b_data, columns = boston.feature_names)\n",
    "df_boston['Price'] = boston.target\n",
    "df_boston.head()"
   ]
  },
  {
   "cell_type": "code",
   "execution_count": 9,
   "metadata": {
    "execution": {
     "iopub.execute_input": "2020-11-20T14:54:18.072058Z",
     "iopub.status.busy": "2020-11-20T14:54:18.071155Z",
     "iopub.status.idle": "2020-11-20T14:54:18.075982Z",
     "shell.execute_reply": "2020-11-20T14:54:18.075363Z"
    },
    "papermill": {
     "duration": 0.046292,
     "end_time": "2020-11-20T14:54:18.076104",
     "exception": false,
     "start_time": "2020-11-20T14:54:18.029812",
     "status": "completed"
    },
    "tags": []
   },
   "outputs": [
    {
     "data": {
      "text/plain": [
       "dict_keys(['data', 'target', 'feature_names', 'DESCR', 'filename'])"
      ]
     },
     "execution_count": 9,
     "metadata": {},
     "output_type": "execute_result"
    }
   ],
   "source": [
    "boston.keys()"
   ]
  },
  {
   "cell_type": "code",
   "execution_count": 10,
   "metadata": {
    "execution": {
     "iopub.execute_input": "2020-11-20T14:54:18.156507Z",
     "iopub.status.busy": "2020-11-20T14:54:18.155386Z",
     "iopub.status.idle": "2020-11-20T14:54:18.162719Z",
     "shell.execute_reply": "2020-11-20T14:54:18.162056Z"
    },
    "papermill": {
     "duration": 0.049969,
     "end_time": "2020-11-20T14:54:18.162850",
     "exception": false,
     "start_time": "2020-11-20T14:54:18.112881",
     "status": "completed"
    },
    "tags": []
   },
   "outputs": [
    {
     "data": {
      "text/plain": [
       "((506, 13), (506,))"
      ]
     },
     "execution_count": 10,
     "metadata": {},
     "output_type": "execute_result"
    }
   ],
   "source": [
    "A = df_boston.loc[:,df_boston.columns!='Price']\n",
    "B = df_boston.Price\n",
    "A.shape, B.shape"
   ]
  },
  {
   "cell_type": "code",
   "execution_count": 11,
   "metadata": {
    "execution": {
     "iopub.execute_input": "2020-11-20T14:54:18.249602Z",
     "iopub.status.busy": "2020-11-20T14:54:18.248750Z",
     "iopub.status.idle": "2020-11-20T14:54:18.252701Z",
     "shell.execute_reply": "2020-11-20T14:54:18.253226Z"
    },
    "papermill": {
     "duration": 0.053339,
     "end_time": "2020-11-20T14:54:18.253387",
     "exception": false,
     "start_time": "2020-11-20T14:54:18.200048",
     "status": "completed"
    },
    "tags": []
   },
   "outputs": [
    {
     "data": {
      "text/plain": [
       "((379, 13), (127,), (127, 13), (127,))"
      ]
     },
     "execution_count": 11,
     "metadata": {},
     "output_type": "execute_result"
    }
   ],
   "source": [
    "from sklearn.model_selection import train_test_split\n",
    "Atrain, Atest, Btrain, Btest = train_test_split(A,B,test_size = 0.25 , shuffle = True)\n",
    "Atrain.shape, Btest.shape, Atest.shape, Btest.shape"
   ]
  },
  {
   "cell_type": "markdown",
   "metadata": {
    "papermill": {
     "duration": 0.039309,
     "end_time": "2020-11-20T14:54:18.331120",
     "exception": false,
     "start_time": "2020-11-20T14:54:18.291811",
     "status": "completed"
    },
    "tags": []
   },
   "source": [
    "# Linear Regression:"
   ]
  },
  {
   "cell_type": "code",
   "execution_count": 12,
   "metadata": {
    "execution": {
     "iopub.execute_input": "2020-11-20T14:54:18.413197Z",
     "iopub.status.busy": "2020-11-20T14:54:18.412445Z",
     "iopub.status.idle": "2020-11-20T14:54:18.415958Z",
     "shell.execute_reply": "2020-11-20T14:54:18.415295Z"
    },
    "papermill": {
     "duration": 0.047361,
     "end_time": "2020-11-20T14:54:18.416091",
     "exception": false,
     "start_time": "2020-11-20T14:54:18.368730",
     "status": "completed"
    },
    "tags": []
   },
   "outputs": [],
   "source": [
    "from sklearn.linear_model import LinearRegression\n",
    "LinReg = LinearRegression()"
   ]
  },
  {
   "cell_type": "code",
   "execution_count": 13,
   "metadata": {
    "execution": {
     "iopub.execute_input": "2020-11-20T14:54:18.577757Z",
     "iopub.status.busy": "2020-11-20T14:54:18.499111Z",
     "iopub.status.idle": "2020-11-20T14:54:18.584792Z",
     "shell.execute_reply": "2020-11-20T14:54:18.585395Z"
    },
    "papermill": {
     "duration": 0.131671,
     "end_time": "2020-11-20T14:54:18.585576",
     "exception": false,
     "start_time": "2020-11-20T14:54:18.453905",
     "status": "completed"
    },
    "tags": []
   },
   "outputs": [
    {
     "data": {
      "text/plain": [
       "LinearRegression()"
      ]
     },
     "execution_count": 13,
     "metadata": {},
     "output_type": "execute_result"
    }
   ],
   "source": [
    "LinReg.fit(Atrain,Btrain)"
   ]
  },
  {
   "cell_type": "code",
   "execution_count": 14,
   "metadata": {
    "execution": {
     "iopub.execute_input": "2020-11-20T14:54:18.673748Z",
     "iopub.status.busy": "2020-11-20T14:54:18.672625Z",
     "iopub.status.idle": "2020-11-20T14:54:18.677504Z",
     "shell.execute_reply": "2020-11-20T14:54:18.676874Z"
    },
    "papermill": {
     "duration": 0.053505,
     "end_time": "2020-11-20T14:54:18.677631",
     "exception": false,
     "start_time": "2020-11-20T14:54:18.624126",
     "status": "completed"
    },
    "tags": []
   },
   "outputs": [
    {
     "data": {
      "text/plain": [
       "0.6973814511373808"
      ]
     },
     "execution_count": 14,
     "metadata": {},
     "output_type": "execute_result"
    }
   ],
   "source": [
    "Acc = LinReg.score(Atest,Btest)\n",
    "Acc"
   ]
  },
  {
   "cell_type": "markdown",
   "metadata": {
    "papermill": {
     "duration": 0.038541,
     "end_time": "2020-11-20T14:54:18.754943",
     "exception": false,
     "start_time": "2020-11-20T14:54:18.716402",
     "status": "completed"
    },
    "tags": []
   },
   "source": [
    "# Selecting a feature from the dataset:"
   ]
  },
  {
   "cell_type": "code",
   "execution_count": 15,
   "metadata": {
    "execution": {
     "iopub.execute_input": "2020-11-20T14:54:18.842695Z",
     "iopub.status.busy": "2020-11-20T14:54:18.841749Z",
     "iopub.status.idle": "2020-11-20T14:54:18.844910Z",
     "shell.execute_reply": "2020-11-20T14:54:18.844281Z"
    },
    "papermill": {
     "duration": 0.051234,
     "end_time": "2020-11-20T14:54:18.845034",
     "exception": false,
     "start_time": "2020-11-20T14:54:18.793800",
     "status": "completed"
    },
    "tags": []
   },
   "outputs": [],
   "source": [
    "dAtest = pd.DataFrame(Atest,columns = boston.feature_names)\n",
    "dAtrain = pd.DataFrame(Atrain, columns = boston.feature_names)\n",
    "dAtest = dAtest[['LSTAT']]\n",
    "dAtrain = dAtrain[['LSTAT']]"
   ]
  },
  {
   "cell_type": "markdown",
   "metadata": {
    "papermill": {
     "duration": 0.03919,
     "end_time": "2020-11-20T14:54:18.924083",
     "exception": false,
     "start_time": "2020-11-20T14:54:18.884893",
     "status": "completed"
    },
    "tags": []
   },
   "source": [
    "Plotting the selected feature value distribution along with price of the house and model line:"
   ]
  },
  {
   "cell_type": "code",
   "execution_count": 16,
   "metadata": {
    "execution": {
     "iopub.execute_input": "2020-11-20T14:54:19.023604Z",
     "iopub.status.busy": "2020-11-20T14:54:19.022725Z",
     "iopub.status.idle": "2020-11-20T14:54:19.240104Z",
     "shell.execute_reply": "2020-11-20T14:54:19.239458Z"
    },
    "papermill": {
     "duration": 0.276659,
     "end_time": "2020-11-20T14:54:19.240229",
     "exception": false,
     "start_time": "2020-11-20T14:54:18.963570",
     "status": "completed"
    },
    "tags": []
   },
   "outputs": [
    {
     "data": {
      "text/plain": [
       "<matplotlib.legend.Legend at 0x7f2a15133910>"
      ]
     },
     "execution_count": 16,
     "metadata": {},
     "output_type": "execute_result"
    },
    {
     "data": {
      "image/png": "[encoded data removed]",
      "text/plain": [
       "<Figure size 432x288 with 1 Axes>"
      ]
     },
     "metadata": {
      "needs_background": "light"
     },
     "output_type": "display_data"
    }
   ],
   "source": [
    "LinReg.fit(dAtrain,Btrain)\n",
    "\n",
    "plt.xlabel('Features Value')\n",
    "plt.ylabel('Price of House')\n",
    "plt.title('Linear Regression Visulization on Single Feature')\n",
    "plt.scatter(dAtest, Btest, color = 'black', label = 'Origional Data Distribution')\n",
    "plt.plot(dAtest, LinReg.predict(dAtest),color= 'blue',linewidth = 3, label = 'Linear Regression Line trying to fit on data')\n",
    "plt.legend(loc = 'upper right')"
   ]
  },
  {
   "cell_type": "code",
   "execution_count": 17,
   "metadata": {
    "execution": {
     "iopub.execute_input": "2020-11-20T14:54:19.345392Z",
     "iopub.status.busy": "2020-11-20T14:54:19.344279Z",
     "iopub.status.idle": "2020-11-20T14:54:19.348073Z",
     "shell.execute_reply": "2020-11-20T14:54:19.347386Z"
    },
    "papermill": {
     "duration": 0.065982,
     "end_time": "2020-11-20T14:54:19.348204",
     "exception": false,
     "start_time": "2020-11-20T14:54:19.282222",
     "status": "completed"
    },
    "tags": []
   },
   "outputs": [],
   "source": [
    "s1Atr = Atrain[['CRIM','ZN','INDUS']]\n",
    "s2Atr = Atrain[['CHAS','NOX','RM']]\n",
    "s3Atr = Atrain[['AGE','DIS','RAD']]\n",
    "s4Atr = Atrain[['TAX','PTRATIO','B','LSTAT']]\n",
    "\n",
    "s1Ats = Atest[['CRIM','ZN','INDUS']]\n",
    "s2Ats = Atest[['CHAS','NOX','RM']]\n",
    "s3Ats = Atest[['AGE','DIS','RAD']]\n",
    "s4Ats = Atest[['TAX','PTRATIO','B','LSTAT']]\n"
   ]
  },
  {
   "cell_type": "markdown",
   "metadata": {
    "papermill": {
     "duration": 0.057723,
     "end_time": "2020-11-20T14:54:19.461008",
     "exception": false,
     "start_time": "2020-11-20T14:54:19.403285",
     "status": "completed"
    },
    "tags": []
   },
   "source": [
    "# Fitting and evaluating on all slot:\n"
   ]
  },
  {
   "cell_type": "code",
   "execution_count": 18,
   "metadata": {
    "execution": {
     "iopub.execute_input": "2020-11-20T14:54:19.559430Z",
     "iopub.status.busy": "2020-11-20T14:54:19.554950Z",
     "iopub.status.idle": "2020-11-20T14:54:19.564301Z",
     "shell.execute_reply": "2020-11-20T14:54:19.563688Z"
    },
    "papermill": {
     "duration": 0.058771,
     "end_time": "2020-11-20T14:54:19.564428",
     "exception": false,
     "start_time": "2020-11-20T14:54:19.505657",
     "status": "completed"
    },
    "tags": []
   },
   "outputs": [
    {
     "data": {
      "text/plain": [
       "0.27037529630740575"
      ]
     },
     "execution_count": 18,
     "metadata": {},
     "output_type": "execute_result"
    }
   ],
   "source": [
    "LinReg.fit(s1Atr,Btrain)\n",
    "LinReg.score(s1Ats,Btest)"
   ]
  },
  {
   "cell_type": "code",
   "execution_count": 19,
   "metadata": {
    "execution": {
     "iopub.execute_input": "2020-11-20T14:54:19.662177Z",
     "iopub.status.busy": "2020-11-20T14:54:19.661305Z",
     "iopub.status.idle": "2020-11-20T14:54:19.665313Z",
     "shell.execute_reply": "2020-11-20T14:54:19.665935Z"
    },
    "papermill": {
     "duration": 0.058923,
     "end_time": "2020-11-20T14:54:19.666121",
     "exception": false,
     "start_time": "2020-11-20T14:54:19.607198",
     "status": "completed"
    },
    "tags": []
   },
   "outputs": [
    {
     "data": {
      "text/plain": [
       "0.6439854997453323"
      ]
     },
     "execution_count": 19,
     "metadata": {},
     "output_type": "execute_result"
    }
   ],
   "source": [
    "LinReg.fit(s2Atr,Btrain)\n",
    "LinReg.score(s2Ats,Btest)"
   ]
  },
  {
   "cell_type": "code",
   "execution_count": 20,
   "metadata": {
    "execution": {
     "iopub.execute_input": "2020-11-20T14:54:19.766112Z",
     "iopub.status.busy": "2020-11-20T14:54:19.765021Z",
     "iopub.status.idle": "2020-11-20T14:54:19.770087Z",
     "shell.execute_reply": "2020-11-20T14:54:19.769325Z"
    },
    "papermill": {
     "duration": 0.058879,
     "end_time": "2020-11-20T14:54:19.770219",
     "exception": false,
     "start_time": "2020-11-20T14:54:19.711340",
     "status": "completed"
    },
    "tags": []
   },
   "outputs": [
    {
     "data": {
      "text/plain": [
       "0.2880822394503696"
      ]
     },
     "execution_count": 20,
     "metadata": {},
     "output_type": "execute_result"
    }
   ],
   "source": [
    "LinReg.fit(s3Atr,Btrain)\n",
    "LinReg.score(s3Ats,Btest)"
   ]
  },
  {
   "cell_type": "code",
   "execution_count": 21,
   "metadata": {
    "execution": {
     "iopub.execute_input": "2020-11-20T14:54:19.869802Z",
     "iopub.status.busy": "2020-11-20T14:54:19.868690Z",
     "iopub.status.idle": "2020-11-20T14:54:19.873888Z",
     "shell.execute_reply": "2020-11-20T14:54:19.873144Z"
    },
    "papermill": {
     "duration": 0.060972,
     "end_time": "2020-11-20T14:54:19.874016",
     "exception": false,
     "start_time": "2020-11-20T14:54:19.813044",
     "status": "completed"
    },
    "tags": []
   },
   "outputs": [
    {
     "data": {
      "text/plain": [
       "0.5294933075507673"
      ]
     },
     "execution_count": 21,
     "metadata": {},
     "output_type": "execute_result"
    }
   ],
   "source": [
    "LinReg.fit(s4Atr,Btrain)\n",
    "LinReg.score(s4Ats,Btest)"
   ]
  },
  {
   "cell_type": "markdown",
   "metadata": {
    "papermill": {
     "duration": 0.043252,
     "end_time": "2020-11-20T14:54:19.960937",
     "exception": false,
     "start_time": "2020-11-20T14:54:19.917685",
     "status": "completed"
    },
    "tags": []
   },
   "source": [
    "# Calculating all metrics for all slots using linear regression"
   ]
  },
  {
   "cell_type": "code",
   "execution_count": 22,
   "metadata": {
    "execution": {
     "iopub.execute_input": "2020-11-20T14:54:20.068097Z",
     "iopub.status.busy": "2020-11-20T14:54:20.067154Z",
     "iopub.status.idle": "2020-11-20T14:54:20.072042Z",
     "shell.execute_reply": "2020-11-20T14:54:20.071433Z"
    },
    "papermill": {
     "duration": 0.067078,
     "end_time": "2020-11-20T14:54:20.072181",
     "exception": false,
     "start_time": "2020-11-20T14:54:20.005103",
     "status": "completed"
    },
    "tags": []
   },
   "outputs": [
    {
     "name": "stdout",
     "output_type": "stream",
     "text": [
      "Mean Absolute Error of slot 1: 5.059122369908263\n",
      "Mean Squared Error of slot 1: 46.55038541965242\n",
      "Explained Variance Score of slot 1: 0.2734324995481613\n"
     ]
    }
   ],
   "source": [
    "from sklearn.metrics import mean_absolute_error, explained_variance_score, mean_squared_error\n",
    "LinReg.fit(s1Atr, Btrain)\n",
    "print('Mean Absolute Error of slot 1:',mean_absolute_error(Btest,LinReg.predict(s1Ats)))\n",
    "print('Mean Squared Error of slot 1:',mean_squared_error(Btest,LinReg.predict(s1Ats)))\n",
    "print('Explained Variance Score of slot 1:',explained_variance_score(Btest,LinReg.predict(s1Ats)))\n"
   ]
  },
  {
   "cell_type": "code",
   "execution_count": 23,
   "metadata": {
    "execution": {
     "iopub.execute_input": "2020-11-20T14:54:20.180762Z",
     "iopub.status.busy": "2020-11-20T14:54:20.179834Z",
     "iopub.status.idle": "2020-11-20T14:54:20.183565Z",
     "shell.execute_reply": "2020-11-20T14:54:20.184378Z"
    },
    "papermill": {
     "duration": 0.067998,
     "end_time": "2020-11-20T14:54:20.184594",
     "exception": false,
     "start_time": "2020-11-20T14:54:20.116596",
     "status": "completed"
    },
    "tags": []
   },
   "outputs": [
    {
     "name": "stdout",
     "output_type": "stream",
     "text": [
      "Mean Absolute Error of slot 2: 3.5615828528594813\n",
      "Mean Squared Error of slot 2: 22.713885807274018\n",
      "Explained Variance Score of slot 2: 0.6449648454751084\n"
     ]
    }
   ],
   "source": [
    "LinReg.fit(s2Atr, Btrain)\n",
    "print('Mean Absolute Error of slot 2:',mean_absolute_error(Btest,LinReg.predict(s2Ats)))\n",
    "print('Mean Squared Error of slot 2:',mean_squared_error(Btest,LinReg.predict(s2Ats)))\n",
    "print('Explained Variance Score of slot 2:',explained_variance_score(Btest,LinReg.predict(s2Ats)))\n"
   ]
  },
  {
   "cell_type": "code",
   "execution_count": 24,
   "metadata": {
    "execution": {
     "iopub.execute_input": "2020-11-20T14:54:20.293115Z",
     "iopub.status.busy": "2020-11-20T14:54:20.289639Z",
     "iopub.status.idle": "2020-11-20T14:54:20.298110Z",
     "shell.execute_reply": "2020-11-20T14:54:20.297297Z"
    },
    "papermill": {
     "duration": 0.067548,
     "end_time": "2020-11-20T14:54:20.298266",
     "exception": false,
     "start_time": "2020-11-20T14:54:20.230718",
     "status": "completed"
    },
    "tags": []
   },
   "outputs": [
    {
     "name": "stdout",
     "output_type": "stream",
     "text": [
      "Mean Absolute Error of slot 3: 5.06620075763394\n",
      "Mean Squared Error of slot 3: 45.42067445490949\n",
      "Explained Variance Score of slot 3: 0.28956391098447776\n"
     ]
    }
   ],
   "source": [
    "LinReg.fit(s3Atr, Btrain)\n",
    "print('Mean Absolute Error of slot 3:',mean_absolute_error(Btest,LinReg.predict(s3Ats)))\n",
    "print('Mean Squared Error of slot 3:',mean_squared_error(Btest,LinReg.predict(s3Ats)))\n",
    "print('Explained Variance Score of slot 3:',explained_variance_score(Btest,LinReg.predict(s3Ats)))\n"
   ]
  },
  {
   "cell_type": "code",
   "execution_count": 25,
   "metadata": {
    "execution": {
     "iopub.execute_input": "2020-11-20T14:54:20.407895Z",
     "iopub.status.busy": "2020-11-20T14:54:20.407071Z",
     "iopub.status.idle": "2020-11-20T14:54:20.411357Z",
     "shell.execute_reply": "2020-11-20T14:54:20.412059Z"
    },
    "papermill": {
     "duration": 0.067557,
     "end_time": "2020-11-20T14:54:20.412243",
     "exception": false,
     "start_time": "2020-11-20T14:54:20.344686",
     "status": "completed"
    },
    "tags": []
   },
   "outputs": [
    {
     "name": "stdout",
     "output_type": "stream",
     "text": [
      "Mean Absolute Error of slot 4: 4.124363663029604\n",
      "Mean Squared Error of slot 4: 30.018539346586486\n",
      "Explained Variance Score of slot 4: 0.539583954921667\n"
     ]
    }
   ],
   "source": [
    "LinReg.fit(s4Atr, Btrain)\n",
    "print('Mean Absolute Error of slot 4:',mean_absolute_error(Btest,LinReg.predict(s4Ats)))\n",
    "print('Mean Squared Error of slot 4:',mean_squared_error(Btest,LinReg.predict(s4Ats)))\n",
    "print('Explained Variance Score of slot 4:',explained_variance_score(Btest,LinReg.predict(s4Ats)))\n"
   ]
  },
  {
   "cell_type": "markdown",
   "metadata": {
    "papermill": {
     "duration": 0.045692,
     "end_time": "2020-11-20T14:54:20.507713",
     "exception": false,
     "start_time": "2020-11-20T14:54:20.462021",
     "status": "completed"
    },
    "tags": []
   },
   "source": [
    "Calculating all metrics for test dataset containing all features"
   ]
  },
  {
   "cell_type": "code",
   "execution_count": 26,
   "metadata": {
    "execution": {
     "iopub.execute_input": "2020-11-20T14:54:20.610276Z",
     "iopub.status.busy": "2020-11-20T14:54:20.609329Z",
     "iopub.status.idle": "2020-11-20T14:54:20.623060Z",
     "shell.execute_reply": "2020-11-20T14:54:20.622316Z"
    },
    "papermill": {
     "duration": 0.069209,
     "end_time": "2020-11-20T14:54:20.623205",
     "exception": false,
     "start_time": "2020-11-20T14:54:20.553996",
     "status": "completed"
    },
    "tags": []
   },
   "outputs": [
    {
     "name": "stdout",
     "output_type": "stream",
     "text": [
      "Mean Absolute Error: 3.211121306823105\n",
      "Mean Squared Error: 19.307200007616494\n",
      "Explained Variance Score: 0.6980780261748983\n"
     ]
    }
   ],
   "source": [
    "LinReg.fit(Atrain, Btrain)\n",
    "print('Mean Absolute Error:',mean_absolute_error(Btest,LinReg.predict(Atest)))\n",
    "print('Mean Squared Error:',mean_squared_error(Btest,LinReg.predict(Atest)))\n",
    "print('Explained Variance Score:',explained_variance_score(Btest,LinReg.predict(Atest)))\n"
   ]
  },
  {
   "cell_type": "markdown",
   "metadata": {
    "papermill": {
     "duration": 0.045958,
     "end_time": "2020-11-20T14:54:20.717908",
     "exception": false,
     "start_time": "2020-11-20T14:54:20.671950",
     "status": "completed"
    },
    "tags": []
   },
   "source": [
    "# Principal Components Analysis (PCA)"
   ]
  },
  {
   "cell_type": "code",
   "execution_count": 27,
   "metadata": {
    "execution": {
     "iopub.execute_input": "2020-11-20T14:54:20.816234Z",
     "iopub.status.busy": "2020-11-20T14:54:20.815329Z",
     "iopub.status.idle": "2020-11-20T14:54:20.820268Z",
     "shell.execute_reply": "2020-11-20T14:54:20.819502Z"
    },
    "papermill": {
     "duration": 0.05631,
     "end_time": "2020-11-20T14:54:20.820399",
     "exception": false,
     "start_time": "2020-11-20T14:54:20.764089",
     "status": "completed"
    },
    "tags": []
   },
   "outputs": [
    {
     "data": {
      "text/plain": [
       "0.6973814511373808"
      ]
     },
     "execution_count": 27,
     "metadata": {},
     "output_type": "execute_result"
    }
   ],
   "source": [
    "# Model Accuracy is \n",
    "Acc"
   ]
  },
  {
   "cell_type": "code",
   "execution_count": 28,
   "metadata": {
    "execution": {
     "iopub.execute_input": "2020-11-20T14:54:20.921454Z",
     "iopub.status.busy": "2020-11-20T14:54:20.920523Z",
     "iopub.status.idle": "2020-11-20T14:54:20.936526Z",
     "shell.execute_reply": "2020-11-20T14:54:20.935890Z"
    },
    "papermill": {
     "duration": 0.068291,
     "end_time": "2020-11-20T14:54:20.936651",
     "exception": false,
     "start_time": "2020-11-20T14:54:20.868360",
     "status": "completed"
    },
    "tags": []
   },
   "outputs": [
    {
     "data": {
      "text/plain": [
       "array([8.05823175e-01, 1.63051968e-01, 2.13486092e-02, 6.95699061e-03,\n",
       "       1.29995193e-03, 7.27220158e-04])"
      ]
     },
     "execution_count": 28,
     "metadata": {},
     "output_type": "execute_result"
    }
   ],
   "source": [
    "pca = PCA(n_components = 6)\n",
    "pca.fit(b_data)\n",
    "pca.explained_variance_ratio_"
   ]
  },
  {
   "cell_type": "code",
   "execution_count": 29,
   "metadata": {
    "execution": {
     "iopub.execute_input": "2020-11-20T14:54:21.044874Z",
     "iopub.status.busy": "2020-11-20T14:54:21.043706Z",
     "iopub.status.idle": "2020-11-20T14:54:21.051723Z",
     "shell.execute_reply": "2020-11-20T14:54:21.050978Z"
    },
    "papermill": {
     "duration": 0.067326,
     "end_time": "2020-11-20T14:54:21.051856",
     "exception": false,
     "start_time": "2020-11-20T14:54:20.984530",
     "status": "completed"
    },
    "tags": []
   },
   "outputs": [
    {
     "data": {
      "text/plain": [
       "array([[  10.84929466,  -46.2202934 ,  -29.08434888, ...,    5.6262992 ,\n",
       "          -1.09847486,    2.86817481],\n",
       "       [-126.78945556,    3.24921573,    9.49018071, ...,   -1.14642997,\n",
       "          -1.49519483,   -2.35908745],\n",
       "       [ -93.02965333,   -1.07342878,   73.15005075, ...,   -1.53062014,\n",
       "          -0.9694845 ,    6.27542951],\n",
       "       ...,\n",
       "       [ -31.02861692,  -22.94627273,   51.41622267, ...,    0.37799164,\n",
       "          -4.43866841,   -2.31888068],\n",
       "       [-123.50981799,    2.28215137,  -21.53308796, ...,   -3.06256327,\n",
       "          -2.56885915,   -1.53555416],\n",
       "       [-112.34124297,   -4.61212888,  -36.55407371, ...,   -3.63133166,\n",
       "          -2.18319542,    3.16958238]])"
      ]
     },
     "execution_count": 29,
     "metadata": {},
     "output_type": "execute_result"
    }
   ],
   "source": [
    "pca = PCA(n_components = 9)\n",
    "trA = pca.fit_transform(Atrain)\n",
    "tsA = pca.transform(Atest)\n",
    "trA"
   ]
  },
  {
   "cell_type": "code",
   "execution_count": 30,
   "metadata": {
    "execution": {
     "iopub.execute_input": "2020-11-20T14:54:21.155743Z",
     "iopub.status.busy": "2020-11-20T14:54:21.154633Z",
     "iopub.status.idle": "2020-11-20T14:54:21.159811Z",
     "shell.execute_reply": "2020-11-20T14:54:21.159202Z"
    },
    "papermill": {
     "duration": 0.059203,
     "end_time": "2020-11-20T14:54:21.159941",
     "exception": false,
     "start_time": "2020-11-20T14:54:21.100738",
     "status": "completed"
    },
    "tags": []
   },
   "outputs": [
    {
     "data": {
      "text/plain": [
       "((379, 9), (127, 9))"
      ]
     },
     "execution_count": 30,
     "metadata": {},
     "output_type": "execute_result"
    }
   ],
   "source": [
    "#printing shape of the transformed data\n",
    "trA.shape, tsA.shape"
   ]
  },
  {
   "cell_type": "code",
   "execution_count": 31,
   "metadata": {
    "execution": {
     "iopub.execute_input": "2020-11-20T14:54:21.268520Z",
     "iopub.status.busy": "2020-11-20T14:54:21.267394Z",
     "iopub.status.idle": "2020-11-20T14:54:21.272314Z",
     "shell.execute_reply": "2020-11-20T14:54:21.271661Z"
    },
    "papermill": {
     "duration": 0.06351,
     "end_time": "2020-11-20T14:54:21.272438",
     "exception": false,
     "start_time": "2020-11-20T14:54:21.208928",
     "status": "completed"
    },
    "tags": []
   },
   "outputs": [
    {
     "data": {
      "text/plain": [
       "((506, 13), (506,))"
      ]
     },
     "execution_count": 31,
     "metadata": {},
     "output_type": "execute_result"
    }
   ],
   "source": [
    "LinReg.fit(A,B)\n",
    "A.shape,B.shape"
   ]
  },
  {
   "cell_type": "markdown",
   "metadata": {
    "papermill": {
     "duration": 0.048999,
     "end_time": "2020-11-20T14:54:21.373157",
     "exception": false,
     "start_time": "2020-11-20T14:54:21.324158",
     "status": "completed"
    },
    "tags": []
   },
   "source": [
    "Inspecting the feature importance using sklearn\n"
   ]
  },
  {
   "cell_type": "code",
   "execution_count": 32,
   "metadata": {
    "execution": {
     "iopub.execute_input": "2020-11-20T14:54:21.479057Z",
     "iopub.status.busy": "2020-11-20T14:54:21.478288Z",
     "iopub.status.idle": "2020-11-20T14:54:21.955506Z",
     "shell.execute_reply": "2020-11-20T14:54:21.954560Z"
    },
    "papermill": {
     "duration": 0.532978,
     "end_time": "2020-11-20T14:54:21.955691",
     "exception": false,
     "start_time": "2020-11-20T14:54:21.422713",
     "status": "completed"
    },
    "tags": []
   },
   "outputs": [
    {
     "name": "stdout",
     "output_type": "stream",
     "text": [
      "Features AGE  : \" \" has importance  -5.548910744701541e-06\n",
      "Features INDUS  : \" \" has importance  0.0002559542108843571\n",
      "Features CHAS  : \" \" has importance  0.010819055164420988\n",
      "Features B  : \" \" has importance  0.017641218683173355\n",
      "Features CRIM  : \" \" has importance  0.020363719604837405\n",
      "Features ZN  : \" \" has importance  0.028654099993403626\n",
      "Features PTRATIO  : \" \" has importance  0.10172010312591148\n",
      "Features TAX  : \" \" has importance  0.10429871447215393\n",
      "Features NOX  : \" \" has importance  0.10516179633614428\n",
      "Features RM  : \" \" has importance  0.16387631097184885\n",
      "Features RAD  : \" \" has importance  0.17194503867037783\n",
      "Features DIS  : \" \" has importance  0.23157574498764663\n",
      "Features LSTAT  : \" \" has importance  0.3358087838164636\n"
     ]
    }
   ],
   "source": [
    "from sklearn.inspection import permutation_importance\n",
    "results = permutation_importance(LinReg,A,B,n_repeats = 10, random_state = 0)\n",
    "for i in results.importances_mean.argsort():\n",
    "    print('Features', A.columns[i], ' : \" \" has importance ', results.importances_mean[i])"
   ]
  },
  {
   "cell_type": "code",
   "execution_count": null,
   "metadata": {
    "papermill": {
     "duration": 0.053272,
     "end_time": "2020-11-20T14:54:22.292096",
     "exception": false,
     "start_time": "2020-11-20T14:54:22.238824",
     "status": "completed"
    },
    "tags": []
   },
   "outputs": [],
   "source": []
  }
 ],
 "metadata": {
  "kernelspec": {
   "display_name": "Python 3",
   "language": "python",
   "name": "python3"
  },
  "language_info": {
   "codemirror_mode": {
    "name": "ipython",
    "version": 3
   },
   "file_extension": ".py",
   "mimetype": "text/x-python",
   "name": "python",
   "nbconvert_exporter": "python",
   "pygments_lexer": "ipython3",
   "version": "3.8.3"
  },
  "papermill": {
   "duration": 11.040616,
   "end_time": "2020-11-20T14:54:22.454312",
   "environment_variables": {},
   "exception": null,
   "input_path": "__notebook__.ipynb",
   "output_path": "__notebook__.ipynb",
   "parameters": {},
   "start_time": "2020-11-20T14:54:11.413696",
   "version": "2.1.0"
  }
 },
 "nbformat": 4,
 "nbformat_minor": 4
}
